{
 "cells": [
  {
   "cell_type": "markdown",
   "metadata": {},
   "source": [
    "# WeatherAPI (Weather)\n",
    "\n",
    "Answer the following questions using [WeatherAPI](http://www.weatherapi.com/). I've added three cells for most questions but you're free to use more or less! Hold `Shift` and hit `Enter` to run a cell, and use the `+` on the top left to add a new cell to a notebook.\n",
    "\n",
    "Be sure to take advantage of both the documentation and the API Explorer!\n",
    "\n",
    "## 0) Import any libraries you might need\n",
    "\n",
    "- *Tip: We're going to be downloading things from the internet, so we probably need `requests`.*\n",
    "- *Tip: Remember you only need to import requests once!*"
   ]
  },
  {
   "cell_type": "code",
   "execution_count": 1,
   "metadata": {},
   "outputs": [],
   "source": [
    "from dotenv import load_dotenv\n",
    "load_dotenv()\n",
    "import os\n",
    "API_KEY2 = os.getenv(\"apikey2\")\n",
    "\n",
    "import  requests\n",
    "response = requests.get(f\"http://api.weatherapi.com/v1/current.json?key={API_KEY2}&q=Tokyo\")\n",
    "data = response.json()"
   ]
  },
  {
   "cell_type": "markdown",
   "metadata": {
    "collapsed": true
   },
   "source": [
    "## 1) Make a request to the Weather API for where you were born (or lived, or want to visit!).\n",
    "\n",
    "- *Tip: This sure seems familiar.*"
   ]
  },
  {
   "cell_type": "code",
   "execution_count": 2,
   "metadata": {},
   "outputs": [],
   "source": [
    "weather = requests.get(f\"http://api.weatherapi.com/v1/current.json?key={API_KEY2}&q=Miami\")\n",
    "data2 = weather.json()"
   ]
  },
  {
   "cell_type": "markdown",
   "metadata": {},
   "source": [
    "## 2) What's the current wind speed, and how much warmer does it feel than it actually is?\n",
    "\n",
    "- *Tip: You can do this by browsing through the dictionaries, but it might be easier to read the documentation*\n",
    "- *Tip: For the second half: it **is** one temperature, and it **feels** a different temperature. Calculate the difference. Same as we did last time!*"
   ]
  },
  {
   "cell_type": "code",
   "execution_count": 3,
   "metadata": {},
   "outputs": [
    {
     "data": {
      "text/plain": [
       "dict"
      ]
     },
     "execution_count": 3,
     "metadata": {},
     "output_type": "execute_result"
    }
   ],
   "source": [
    "type(data2)"
   ]
  },
  {
   "cell_type": "code",
   "execution_count": 32,
   "metadata": {},
   "outputs": [
    {
     "data": {
      "text/plain": [
       "{'location': {'name': 'Miami',\n",
       "  'region': 'Florida',\n",
       "  'country': 'United States of America',\n",
       "  'lat': 25.77,\n",
       "  'lon': -80.19,\n",
       "  'tz_id': 'America/Kentucky/Monticello',\n",
       "  'localtime_epoch': 1625082931,\n",
       "  'localtime': '2021-06-30 15:55'},\n",
       " 'current': {'last_updated_epoch': 1625082300,\n",
       "  'last_updated': '2021-06-30 15:45',\n",
       "  'temp_c': 27.2,\n",
       "  'temp_f': 81.0,\n",
       "  'is_day': 1,\n",
       "  'condition': {'text': 'Overcast',\n",
       "   'icon': '//cdn.weatherapi.com/weather/64x64/day/122.png',\n",
       "   'code': 1009},\n",
       "  'wind_mph': 3.8,\n",
       "  'wind_kph': 6.1,\n",
       "  'wind_degree': 350,\n",
       "  'wind_dir': 'N',\n",
       "  'pressure_mb': 1018.0,\n",
       "  'pressure_in': 30.5,\n",
       "  'precip_mm': 0.4,\n",
       "  'precip_in': 0.02,\n",
       "  'humidity': 88,\n",
       "  'cloud': 100,\n",
       "  'feelslike_c': 30.0,\n",
       "  'feelslike_f': 85.9,\n",
       "  'vis_km': 16.0,\n",
       "  'vis_miles': 9.0,\n",
       "  'uv': 7.0,\n",
       "  'gust_mph': 17.0,\n",
       "  'gust_kph': 27.4}}"
      ]
     },
     "execution_count": 32,
     "metadata": {},
     "output_type": "execute_result"
    }
   ],
   "source": [
    "data2"
   ]
  },
  {
   "cell_type": "code",
   "execution_count": 4,
   "metadata": {},
   "outputs": [
    {
     "data": {
      "text/plain": [
       "dict_keys(['location', 'current'])"
      ]
     },
     "execution_count": 4,
     "metadata": {},
     "output_type": "execute_result"
    }
   ],
   "source": [
    "data2.keys()"
   ]
  },
  {
   "cell_type": "code",
   "execution_count": 5,
   "metadata": {},
   "outputs": [
    {
     "data": {
      "text/plain": [
       "{'last_updated_epoch': 1625082300,\n",
       " 'last_updated': '2021-06-30 15:45',\n",
       " 'temp_c': 27.2,\n",
       " 'temp_f': 81.0,\n",
       " 'is_day': 1,\n",
       " 'condition': {'text': 'Overcast',\n",
       "  'icon': '//cdn.weatherapi.com/weather/64x64/day/122.png',\n",
       "  'code': 1009},\n",
       " 'wind_mph': 3.8,\n",
       " 'wind_kph': 6.1,\n",
       " 'wind_degree': 350,\n",
       " 'wind_dir': 'N',\n",
       " 'pressure_mb': 1018.0,\n",
       " 'pressure_in': 30.5,\n",
       " 'precip_mm': 0.4,\n",
       " 'precip_in': 0.02,\n",
       " 'humidity': 88,\n",
       " 'cloud': 100,\n",
       " 'feelslike_c': 30.0,\n",
       " 'feelslike_f': 85.9,\n",
       " 'vis_km': 16.0,\n",
       " 'vis_miles': 9.0,\n",
       " 'uv': 7.0,\n",
       " 'gust_mph': 17.0,\n",
       " 'gust_kph': 27.4}"
      ]
     },
     "execution_count": 5,
     "metadata": {},
     "output_type": "execute_result"
    }
   ],
   "source": [
    "data2['current']"
   ]
  },
  {
   "cell_type": "code",
   "execution_count": 6,
   "metadata": {},
   "outputs": [
    {
     "data": {
      "text/plain": [
       "3.8"
      ]
     },
     "execution_count": 6,
     "metadata": {},
     "output_type": "execute_result"
    }
   ],
   "source": [
    "data2['current']['wind_mph']"
   ]
  },
  {
   "cell_type": "code",
   "execution_count": 7,
   "metadata": {},
   "outputs": [
    {
     "name": "stdout",
     "output_type": "stream",
     "text": [
      "Current wind speed in Miami is 3.8mph.\n"
     ]
    }
   ],
   "source": [
    "print(f\"Current wind speed in Miami is {data2['current']['wind_mph']}mph.\")"
   ]
  },
  {
   "cell_type": "code",
   "execution_count": 8,
   "metadata": {},
   "outputs": [
    {
     "data": {
      "text/plain": [
       "27.2"
      ]
     },
     "execution_count": 8,
     "metadata": {},
     "output_type": "execute_result"
    }
   ],
   "source": [
    "data2['current'] ['temp_c']"
   ]
  },
  {
   "cell_type": "code",
   "execution_count": 9,
   "metadata": {},
   "outputs": [
    {
     "data": {
      "text/plain": [
       "30.0"
      ]
     },
     "execution_count": 9,
     "metadata": {},
     "output_type": "execute_result"
    }
   ],
   "source": [
    "data2['current']['feelslike_c']"
   ]
  },
  {
   "cell_type": "code",
   "execution_count": 10,
   "metadata": {},
   "outputs": [
    {
     "name": "stdout",
     "output_type": "stream",
     "text": [
      "Current temperature is 27.2 degrees Celsius. But we feel 2.8 degrees warmer.\n"
     ]
    }
   ],
   "source": [
    "print(f\"Current temperature is {data2['current'] ['temp_c'] } degrees Celsius. But we feel {round((data2['current']['feelslike_c'])-(data2['current'] ['temp_c']),1)} degrees warmer.\")"
   ]
  },
  {
   "cell_type": "markdown",
   "metadata": {},
   "source": [
    "## 3) What is the API endpoint for moon-related information? For the place you decided on above, how much of the moon will be visible on next Thursday?\n",
    "\n",
    "- *Tip: Check the documentation!*\n",
    "- *Tip: If you aren't sure what something means, ask in Slack*"
   ]
  },
  {
   "cell_type": "code",
   "execution_count": 11,
   "metadata": {},
   "outputs": [
    {
     "name": "stdout",
     "output_type": "stream",
     "text": [
      "http://api.weatherapi.com/v1/astronomy.json is API endpoint for moon-related information.\n"
     ]
    }
   ],
   "source": [
    "astro = requests.get(f\"http://api.weatherapi.com/v1/astronomy.json?key={API_KEY2}&q=Miami&dt=2021-06-22\")\n",
    "data3 = astro.json()\n",
    "print(\"http://api.weatherapi.com/v1/astronomy.json is API endpoint for moon-related information.\")"
   ]
  },
  {
   "cell_type": "code",
   "execution_count": 12,
   "metadata": {},
   "outputs": [
    {
     "data": {
      "text/plain": [
       "dict_keys(['location', 'astronomy'])"
      ]
     },
     "execution_count": 12,
     "metadata": {},
     "output_type": "execute_result"
    }
   ],
   "source": [
    "data3.keys()"
   ]
  },
  {
   "cell_type": "code",
   "execution_count": 13,
   "metadata": {},
   "outputs": [
    {
     "data": {
      "text/plain": [
       "dict_keys(['astro'])"
      ]
     },
     "execution_count": 13,
     "metadata": {},
     "output_type": "execute_result"
    }
   ],
   "source": [
    "data3['astronomy'].keys()"
   ]
  },
  {
   "cell_type": "code",
   "execution_count": 14,
   "metadata": {},
   "outputs": [
    {
     "data": {
      "text/plain": [
       "{'sunrise': '06:30 AM',\n",
       " 'sunset': '08:15 PM',\n",
       " 'moonrise': '06:14 PM',\n",
       " 'moonset': '04:21 AM',\n",
       " 'moon_phase': 'Waxing Gibbous',\n",
       " 'moon_illumination': '87'}"
      ]
     },
     "execution_count": 14,
     "metadata": {},
     "output_type": "execute_result"
    }
   ],
   "source": [
    "data3['astronomy']['astro']"
   ]
  },
  {
   "cell_type": "code",
   "execution_count": 15,
   "metadata": {},
   "outputs": [
    {
     "name": "stdout",
     "output_type": "stream",
     "text": [
      "On the next Tuesday, June 22, we can see Waxing Gibbous　moon in Miami. 87% of the moon is visible.\n"
     ]
    }
   ],
   "source": [
    "moon = data3['astronomy']['astro']\n",
    "print(f\"On the next Tuesday, June 22, we can see {moon['moon_phase']}　moon in Miami. {moon['moon_illumination']}% of the moon is visible.\")"
   ]
  },
  {
   "cell_type": "markdown",
   "metadata": {},
   "source": [
    "## 4) What's the difference between the high and low temperatures for today?\n",
    "\n",
    "- *Tip: When you requested moon data, you probably overwrote your variables! If so, you'll need to make a new request.*"
   ]
  },
  {
   "cell_type": "code",
   "execution_count": 16,
   "metadata": {},
   "outputs": [],
   "source": [
    "highlow = requests.get(f\"http://api.weatherapi.com/v1/forecast.json?key={API_KEY2}&q=Miami&days=1\")\n",
    "data4 = highlow.json()"
   ]
  },
  {
   "cell_type": "code",
   "execution_count": 17,
   "metadata": {},
   "outputs": [
    {
     "data": {
      "text/plain": [
       "dict_keys(['location', 'current', 'forecast'])"
      ]
     },
     "execution_count": 17,
     "metadata": {},
     "output_type": "execute_result"
    }
   ],
   "source": [
    "data4.keys()"
   ]
  },
  {
   "cell_type": "code",
   "execution_count": 18,
   "metadata": {},
   "outputs": [
    {
     "data": {
      "text/plain": [
       "dict_keys(['date', 'date_epoch', 'day', 'astro', 'hour'])"
      ]
     },
     "execution_count": 18,
     "metadata": {},
     "output_type": "execute_result"
    }
   ],
   "source": [
    "data4['forecast']['forecastday'][0].keys()"
   ]
  },
  {
   "cell_type": "code",
   "execution_count": 19,
   "metadata": {},
   "outputs": [
    {
     "data": {
      "text/plain": [
       "dict_keys(['maxtemp_c', 'maxtemp_f', 'mintemp_c', 'mintemp_f', 'avgtemp_c', 'avgtemp_f', 'maxwind_mph', 'maxwind_kph', 'totalprecip_mm', 'totalprecip_in', 'avgvis_km', 'avgvis_miles', 'avghumidity', 'daily_will_it_rain', 'daily_chance_of_rain', 'daily_will_it_snow', 'daily_chance_of_snow', 'condition', 'uv'])"
      ]
     },
     "execution_count": 19,
     "metadata": {},
     "output_type": "execute_result"
    }
   ],
   "source": [
    "data4['forecast']['forecastday'][0]['day'].keys()"
   ]
  },
  {
   "cell_type": "code",
   "execution_count": 20,
   "metadata": {},
   "outputs": [
    {
     "name": "stdout",
     "output_type": "stream",
     "text": [
      "There is 1.2 degree difference between maximum temperature and minimum temperature today.\n"
     ]
    }
   ],
   "source": [
    "temp = data4['forecast']['forecastday'][0]['day']\n",
    "print(f\"There is {round(temp['maxtemp_c']-temp['mintemp_c'],1)} degree difference between maximum temperature and minimum temperature today.\")"
   ]
  },
  {
   "cell_type": "markdown",
   "metadata": {
    "collapsed": true
   },
   "source": [
    "## 4.5) How can you avoid the \"oh no I don't have the data any more because I made another request\" problem in the future?\n",
    "\n",
    "What variable(s) do you have to rename, and what would you rename them?"
   ]
  },
  {
   "cell_type": "code",
   "execution_count": 21,
   "metadata": {},
   "outputs": [
    {
     "name": "stdout",
     "output_type": "stream",
     "text": [
      "I change the variable standing for 'requests.get('url'). I also use different variable on variable2 = variable.json(). Example: if I use r = requests.get('url1'), data = r.json() on the first request, I choose  p = requests.get('url2'), data2 = p.json() on the second request.\n"
     ]
    }
   ],
   "source": [
    "print(\"I change the variable standing for 'requests.get('url'). I also use different variable on variable2 = variable.json(). Example: if I use r = requests.get('url1'), data = r.json() on the first request, I choose  p = requests.get('url2'), data2 = p.json() on the second request.\" )"
   ]
  },
  {
   "cell_type": "code",
   "execution_count": null,
   "metadata": {},
   "outputs": [],
   "source": []
  },
  {
   "cell_type": "markdown",
   "metadata": {},
   "source": [
    "## 5) Go through the daily forecasts, printing out the next week's worth of predictions.\n",
    "\n",
    "I'd like to know the **high temperature** for each day, and whether it's **hot, warm, or cold** (based on what temperatures you think are hot, warm or cold).\n",
    "\n",
    "- *Tip: You'll need to use an `if` statement to say whether it is hot, warm or cold.*"
   ]
  },
  {
   "cell_type": "code",
   "execution_count": 22,
   "metadata": {},
   "outputs": [
    {
     "name": "stdout",
     "output_type": "stream",
     "text": [
      "These are high temperatures for each day.\n",
      "28.1 degrees Celsius on 2021-06-30. It's warm.\n",
      "28.8 degrees Celsius on 2021-07-01. It's warm.\n",
      "29.1 degrees Celsius on 2021-07-02. It's warm.\n"
     ]
    }
   ],
   "source": [
    "forecast = requests.get(f\"http://api.weatherapi.com/v1/forecast.json?key={API_KEY2}&q=Miami&days=7&aqi=no&alerts=no\")\n",
    "data5 = forecast.json()\n",
    "\n",
    "highs = data5['forecast']['forecastday']\n",
    "print(\"These are high temperatures for each day.\")\n",
    "for high in highs :\n",
    "    if high['day']['maxtemp_c'] >= 29.5:\n",
    "        print(f\"{high['day']['maxtemp_c']} degrees Celsius on {high['date']}. It's hot.\")\n",
    "    elif 29.5 > high['day']['maxtemp_c'] > 25.0:\n",
    "        print(f\"{high['day']['maxtemp_c']} degrees Celsius on {high['date']}. It's warm.\")\n",
    "    else:\n",
    "        print(f\"{high['day']['maxtemp_c']} degrees Celsius on {high['date']}. It's cold.\")"
   ]
  },
  {
   "cell_type": "markdown",
   "metadata": {},
   "source": [
    "# 6) What will be the hottest day in the next week? What is the high temperature on that day?"
   ]
  },
  {
   "cell_type": "code",
   "execution_count": 23,
   "metadata": {},
   "outputs": [
    {
     "name": "stdout",
     "output_type": "stream",
     "text": [
      "2021-07-02 is the hottest day with 28.3 degrees Celsius on average. The high temperature on the day is 29.1 degrees.\n"
     ]
    }
   ],
   "source": [
    "hottest_avg = 0\n",
    "hottest_day = ''\n",
    "hottest_max = ''\n",
    "\n",
    "for avg in highs :\n",
    "    if avg['day']['avgtemp_c'] > hottest_avg:\n",
    "        hottest_avg = avg['day']['avgtemp_c']\n",
    "        hottest_day = avg['date']\n",
    "        hottest_max = avg['day']['maxtemp_c']\n",
    "print(f\"{hottest_day} is the hottest day with {hottest_avg} degrees Celsius on average. The high temperature on the day is {hottest_max} degrees.\")"
   ]
  },
  {
   "cell_type": "code",
   "execution_count": null,
   "metadata": {},
   "outputs": [],
   "source": []
  },
  {
   "cell_type": "markdown",
   "metadata": {},
   "source": [
    "## 7) What's the weather looking like for the next 24+ hours in Miami, Florida?\n",
    "\n",
    "I'd like to know the temperature for every hour, and if it's going to have cloud cover of more than 50% say \"{temperature} and cloudy\" instead of just the temperature. \n",
    "\n",
    "- *Tip: You'll only need one day of forecast*"
   ]
  },
  {
   "cell_type": "code",
   "execution_count": 24,
   "metadata": {},
   "outputs": [],
   "source": [
    "hours = requests.get(f\"http://api.weatherapi.com/v1/forecast.json?key={API_KEY2}&q=Miami&days=1&aqi=no&alerts=no\")\n",
    "data6 = hours.json()"
   ]
  },
  {
   "cell_type": "code",
   "execution_count": 25,
   "metadata": {},
   "outputs": [
    {
     "data": {
      "text/plain": [
       "24"
      ]
     },
     "execution_count": 25,
     "metadata": {},
     "output_type": "execute_result"
    }
   ],
   "source": [
    "len(data6['forecast']['forecastday'][0]['hour'])"
   ]
  },
  {
   "cell_type": "code",
   "execution_count": 26,
   "metadata": {},
   "outputs": [
    {
     "data": {
      "text/plain": [
       "{'time_epoch': 1625025600,\n",
       " 'time': '2021-06-30 00:00',\n",
       " 'temp_c': 27.6,\n",
       " 'temp_f': 81.7,\n",
       " 'is_day': 0,\n",
       " 'condition': {'text': 'Partly cloudy',\n",
       "  'icon': '//cdn.weatherapi.com/weather/64x64/night/116.png',\n",
       "  'code': 1003},\n",
       " 'wind_mph': 13.9,\n",
       " 'wind_kph': 22.3,\n",
       " 'wind_degree': 111,\n",
       " 'wind_dir': 'ESE',\n",
       " 'pressure_mb': 1020.0,\n",
       " 'pressure_in': 30.6,\n",
       " 'precip_mm': 0.8,\n",
       " 'precip_in': 0.03,\n",
       " 'humidity': 77,\n",
       " 'cloud': 75,\n",
       " 'feelslike_c': 31.1,\n",
       " 'feelslike_f': 88.0,\n",
       " 'windchill_c': 27.6,\n",
       " 'windchill_f': 81.7,\n",
       " 'heatindex_c': 31.1,\n",
       " 'heatindex_f': 88.0,\n",
       " 'dewpoint_c': 23.2,\n",
       " 'dewpoint_f': 73.8,\n",
       " 'will_it_rain': 0,\n",
       " 'chance_of_rain': '54',\n",
       " 'will_it_snow': 0,\n",
       " 'chance_of_snow': '0',\n",
       " 'vis_km': 10.0,\n",
       " 'vis_miles': 6.0,\n",
       " 'gust_mph': 19.0,\n",
       " 'gust_kph': 30.6,\n",
       " 'uv': 1.0}"
      ]
     },
     "execution_count": 26,
     "metadata": {},
     "output_type": "execute_result"
    }
   ],
   "source": [
    "data6['forecast']['forecastday'][0]['hour'][0]"
   ]
  },
  {
   "cell_type": "code",
   "execution_count": 27,
   "metadata": {},
   "outputs": [
    {
     "name": "stdout",
     "output_type": "stream",
     "text": [
      "Forecast for next 24 hours in Miami.\n",
      "Temperature at 2021-06-30 00:00 is 27.6 degrees Celsius and cloudy.\n",
      "Temperature at 2021-06-30 01:00 is 27.6 degrees Celsius and cloudy.\n",
      "Temperature at 2021-06-30 02:00 is 27.5 degrees Celsius and cloudy.\n",
      "Temperature at 2021-06-30 03:00 is 27.3 degrees Celsius and cloudy.\n",
      "Temperature at 2021-06-30 04:00 is 27.1 degrees Celsius and cloudy.\n",
      "Temperature at 2021-06-30 05:00 is 26.9 degrees Celsius and cloudy.\n",
      "Temperature at 2021-06-30 06:00 is 27.0 degrees Celsius and cloudy.\n",
      "Temperature at 2021-06-30 07:00 is 27.0 degrees Celsius and cloudy.\n",
      "Temperature at 2021-06-30 08:00 is 27.1 degrees Celsius and cloudy.\n",
      "Temperature at 2021-06-30 09:00 is 27.4 degrees Celsius and cloudy.\n",
      "Temperature at 2021-06-30 10:00 is 27.6 degrees Celsius and cloudy.\n",
      "Temperature at 2021-06-30 11:00 is 27.9 degrees Celsius and cloudy.\n",
      "Temperature at 2021-06-30 12:00 is 28.0 degrees Celsius and cloudy.\n",
      "Temperature at 2021-06-30 13:00 is 28.0 degrees Celsius.\n",
      "Temperature at 2021-06-30 14:00 is 28.1 degrees Celsius.\n",
      "Temperature at 2021-06-30 15:00 is 27.9 degrees Celsius and cloudy.\n",
      "Temperature at 2021-06-30 16:00 is 27.8 degrees Celsius and cloudy.\n",
      "Temperature at 2021-06-30 17:00 is 27.6 degrees Celsius and cloudy.\n",
      "Temperature at 2021-06-30 18:00 is 27.5 degrees Celsius and cloudy.\n",
      "Temperature at 2021-06-30 19:00 is 27.5 degrees Celsius and cloudy.\n",
      "Temperature at 2021-06-30 20:00 is 27.4 degrees Celsius and cloudy.\n",
      "Temperature at 2021-06-30 21:00 is 27.4 degrees Celsius and cloudy.\n",
      "Temperature at 2021-06-30 22:00 is 27.3 degrees Celsius and cloudy.\n",
      "Temperature at 2021-06-30 23:00 is 27.3 degrees Celsius and cloudy.\n"
     ]
    }
   ],
   "source": [
    "print(\"Forecast for next 24 hours in Miami.\")\n",
    "hour_temps = data6['forecast']['forecastday'][0]['hour']\n",
    "for hour_temp in hour_temps:\n",
    "    if hour_temp['cloud'] > 50:\n",
    "        print(f\"Temperature at {hour_temp['time']} is {hour_temp['temp_c']} degrees Celsius and cloudy.\")\n",
    "    else:\n",
    "              print(f\"Temperature at {hour_temp['time']} is {hour_temp['temp_c']} degrees Celsius.\")"
   ]
  },
  {
   "cell_type": "code",
   "execution_count": null,
   "metadata": {},
   "outputs": [],
   "source": []
  },
  {
   "cell_type": "markdown",
   "metadata": {},
   "source": [
    "# 8) For the next 24-ish hours in Miami, what percent of the time is the temperature above 85 degrees?\n",
    "\n",
    "- *Tip: You might want to read up on [looping patterns](http://jonathansoma.com/lede/foundations-2017/classes/data%20structures/looping-patterns/)*"
   ]
  },
  {
   "cell_type": "code",
   "execution_count": 28,
   "metadata": {},
   "outputs": [
    {
     "name": "stdout",
     "output_type": "stream",
     "text": [
      "0.0 % of the time is abovee 85 degrees for the next 24-ish hours.\n"
     ]
    }
   ],
   "source": [
    "count = 0\n",
    "for hour_tempf in hour_temps:\n",
    "    if hour_tempf['temp_f'] > 85:\n",
    "        count = count + 1\n",
    "print(f\"{round(count/24*100,1)} % of the time is abovee 85 degrees for the next 24-ish hours.\")"
   ]
  },
  {
   "cell_type": "code",
   "execution_count": null,
   "metadata": {},
   "outputs": [],
   "source": []
  },
  {
   "cell_type": "markdown",
   "metadata": {},
   "source": [
    "## 9) What was the temperature in Central Park on Christmas Day, 2020? How about 2012? 2007? How far back does the API allow you to go?\n",
    "\n",
    "- *Tip: You'll need to use latitude/longitude. You can ask Google where Central Park is, it knows*\n",
    "- *Tip: Remember when latitude/longitude might use negative numbers*"
   ]
  },
  {
   "cell_type": "code",
   "execution_count": 29,
   "metadata": {},
   "outputs": [
    {
     "name": "stdout",
     "output_type": "stream",
     "text": [
      "API can show the historical weather data on/after Jan 1st, 2010. Weather API's  document says.\n"
     ]
    }
   ],
   "source": [
    "print(\"API can show the historical weather data on/after Jan 1st, 2010. Weather API's  document says.\")"
   ]
  },
  {
   "cell_type": "code",
   "execution_count": 30,
   "metadata": {},
   "outputs": [
    {
     "name": "stdout",
     "output_type": "stream",
     "text": [
      "<Response [400]>\n"
     ]
    }
   ],
   "source": [
    "history = requests.get(f\"http://api.weatherapi.com/v1/history.json?key={API_KEY2}&q=40.7812,-73.9665&dt=2020-12-25\")\n",
    "data7 = history\n",
    "print(data7)"
   ]
  },
  {
   "cell_type": "code",
   "execution_count": 31,
   "metadata": {},
   "outputs": [
    {
     "name": "stdout",
     "output_type": "stream",
     "text": [
      "According to API explorer, 'API key is limited to history data. please check our prising pages and upgrage to higher plan.''\n"
     ]
    }
   ],
   "source": [
    "print(\"According to API explorer, 'API key is limited to history data. please check our prising pages and upgrage to higher plan.''\")"
   ]
  },
  {
   "cell_type": "code",
   "execution_count": null,
   "metadata": {},
   "outputs": [],
   "source": []
  }
 ],
 "metadata": {
  "kernelspec": {
   "display_name": "Python 3",
   "language": "python",
   "name": "python3"
  },
  "language_info": {
   "codemirror_mode": {
    "name": "ipython",
    "version": 3
   },
   "file_extension": ".py",
   "mimetype": "text/x-python",
   "name": "python",
   "nbconvert_exporter": "python",
   "pygments_lexer": "ipython3",
   "version": "3.8.10"
  }
 },
 "nbformat": 4,
 "nbformat_minor": 1
}
