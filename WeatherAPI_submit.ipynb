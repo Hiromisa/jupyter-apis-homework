{
 "cells": [
  {
   "cell_type": "markdown",
   "metadata": {},
   "source": [
    "# WeatherAPI (Weather)\n",
    "\n",
    "Answer the following questions using [WeatherAPI](http://www.weatherapi.com/). I've added three cells for most questions but you're free to use more or less! Hold `Shift` and hit `Enter` to run a cell, and use the `+` on the top left to add a new cell to a notebook.\n",
    "\n",
    "Be sure to take advantage of both the documentation and the API Explorer!\n",
    "\n",
    "## 0) Import any libraries you might need\n",
    "\n",
    "- *Tip: We're going to be downloading things from the internet, so we probably need `requests`.*\n",
    "- *Tip: Remember you only need to import requests once!*"
   ]
  },
  {
   "cell_type": "code",
   "execution_count": 3,
   "metadata": {},
   "outputs": [
    {
     "name": "stdout",
     "output_type": "stream",
     "text": [
      "{'location': {'name': 'Tokyo', 'region': 'Tokyo', 'country': 'Japan', 'lat': 35.69, 'lon': 139.69, 'tz_id': 'Asia/Tokyo', 'localtime_epoch': 1624168924, 'localtime': '2021-06-20 15:02'}, 'current': {'last_updated_epoch': 1624167900, 'last_updated': '2021-06-20 14:45', 'temp_c': 25.1, 'temp_f': 77.2, 'is_day': 1, 'condition': {'text': 'Light rain', 'icon': '//cdn.weatherapi.com/weather/64x64/day/296.png', 'code': 1183}, 'wind_mph': 12.5, 'wind_kph': 20.2, 'wind_degree': 127, 'wind_dir': 'SE', 'pressure_mb': 997.0, 'pressure_in': 29.9, 'precip_mm': 0.5, 'precip_in': 0.02, 'humidity': 67, 'cloud': 71, 'feelslike_c': 26.9, 'feelslike_f': 80.4, 'vis_km': 9.7, 'vis_miles': 6.0, 'uv': 6.0, 'gust_mph': 15.0, 'gust_kph': 24.1}}\n"
     ]
    }
   ],
   "source": [
    "import  requests\n",
    "response = requests.get(\"http://api.weatherapi.com/v1/current.json?key=43f4b06173444f3699b210224211406&q=Tokyo\")\n",
    "data = response.json()\n",
    "print(data)"
   ]
  },
  {
   "cell_type": "code",
   "execution_count": null,
   "metadata": {
    "collapsed": true
   },
   "outputs": [],
   "source": []
  },
  {
   "cell_type": "markdown",
   "metadata": {
    "collapsed": true
   },
   "source": [
    "## 1) Make a request to the Weather API for where you were born (or lived, or want to visit!).\n",
    "\n",
    "- *Tip: This sure seems familiar.*"
   ]
  },
  {
   "cell_type": "code",
   "execution_count": 4,
   "metadata": {},
   "outputs": [
    {
     "name": "stdout",
     "output_type": "stream",
     "text": [
      "{'location': {'name': 'Miami', 'region': 'Florida', 'country': 'United States of America', 'lat': 25.77, 'lon': -80.19, 'tz_id': 'America/Kentucky/Monticello', 'localtime_epoch': 1624169017, 'localtime': '2021-06-20 2:03'}, 'current': {'last_updated_epoch': 1624167900, 'last_updated': '2021-06-20 01:45', 'temp_c': 28.3, 'temp_f': 82.9, 'is_day': 0, 'condition': {'text': 'Partly cloudy', 'icon': '//cdn.weatherapi.com/weather/64x64/night/116.png', 'code': 1003}, 'wind_mph': 10.5, 'wind_kph': 16.9, 'wind_degree': 120, 'wind_dir': 'ESE', 'pressure_mb': 1018.0, 'pressure_in': 30.5, 'precip_mm': 0.0, 'precip_in': 0.0, 'humidity': 88, 'cloud': 75, 'feelslike_c': 33.0, 'feelslike_f': 91.4, 'vis_km': 16.0, 'vis_miles': 9.0, 'uv': 1.0, 'gust_mph': 13.4, 'gust_kph': 21.6}}\n"
     ]
    }
   ],
   "source": [
    "weather = requests.get(\"http://api.weatherapi.com/v1/current.json?key=43f4b06173444f3699b210224211406&q=Miami\")\n",
    "data2 = weather.json()\n",
    "print(data2)"
   ]
  },
  {
   "cell_type": "code",
   "execution_count": null,
   "metadata": {},
   "outputs": [],
   "source": []
  },
  {
   "cell_type": "markdown",
   "metadata": {},
   "source": [
    "## 2) What's the current wind speed, and how much warmer does it feel than it actually is?\n",
    "\n",
    "- *Tip: You can do this by browsing through the dictionaries, but it might be easier to read the documentation*\n",
    "- *Tip: For the second half: it **is** one temperature, and it **feels** a different temperature. Calculate the difference. Same as we did last time!*"
   ]
  },
  {
   "cell_type": "code",
   "execution_count": 5,
   "metadata": {},
   "outputs": [
    {
     "data": {
      "text/plain": [
       "dict"
      ]
     },
     "execution_count": 5,
     "metadata": {},
     "output_type": "execute_result"
    }
   ],
   "source": [
    "type(data2)"
   ]
  },
  {
   "cell_type": "code",
   "execution_count": 6,
   "metadata": {},
   "outputs": [
    {
     "data": {
      "text/plain": [
       "dict_keys(['location', 'current'])"
      ]
     },
     "execution_count": 6,
     "metadata": {},
     "output_type": "execute_result"
    }
   ],
   "source": [
    "data2.keys()"
   ]
  },
  {
   "cell_type": "code",
   "execution_count": 7,
   "metadata": {},
   "outputs": [
    {
     "data": {
      "text/plain": [
       "{'last_updated_epoch': 1624167900,\n",
       " 'last_updated': '2021-06-20 01:45',\n",
       " 'temp_c': 28.3,\n",
       " 'temp_f': 82.9,\n",
       " 'is_day': 0,\n",
       " 'condition': {'text': 'Partly cloudy',\n",
       "  'icon': '//cdn.weatherapi.com/weather/64x64/night/116.png',\n",
       "  'code': 1003},\n",
       " 'wind_mph': 10.5,\n",
       " 'wind_kph': 16.9,\n",
       " 'wind_degree': 120,\n",
       " 'wind_dir': 'ESE',\n",
       " 'pressure_mb': 1018.0,\n",
       " 'pressure_in': 30.5,\n",
       " 'precip_mm': 0.0,\n",
       " 'precip_in': 0.0,\n",
       " 'humidity': 88,\n",
       " 'cloud': 75,\n",
       " 'feelslike_c': 33.0,\n",
       " 'feelslike_f': 91.4,\n",
       " 'vis_km': 16.0,\n",
       " 'vis_miles': 9.0,\n",
       " 'uv': 1.0,\n",
       " 'gust_mph': 13.4,\n",
       " 'gust_kph': 21.6}"
      ]
     },
     "execution_count": 7,
     "metadata": {},
     "output_type": "execute_result"
    }
   ],
   "source": [
    "data2['current']"
   ]
  },
  {
   "cell_type": "code",
   "execution_count": 8,
   "metadata": {},
   "outputs": [
    {
     "data": {
      "text/plain": [
       "10.5"
      ]
     },
     "execution_count": 8,
     "metadata": {},
     "output_type": "execute_result"
    }
   ],
   "source": [
    "data2['current']['wind_mph']"
   ]
  },
  {
   "cell_type": "code",
   "execution_count": 11,
   "metadata": {},
   "outputs": [
    {
     "name": "stdout",
     "output_type": "stream",
     "text": [
      "Current wind speed in Miami is 10.5mph.\n"
     ]
    }
   ],
   "source": [
    "print(f\"Current wind speed in Miami is {data2['current']['wind_mph']}mph.\")"
   ]
  },
  {
   "cell_type": "code",
   "execution_count": 12,
   "metadata": {},
   "outputs": [
    {
     "data": {
      "text/plain": [
       "28.3"
      ]
     },
     "execution_count": 12,
     "metadata": {},
     "output_type": "execute_result"
    }
   ],
   "source": [
    "data2['current'] ['temp_c']"
   ]
  },
  {
   "cell_type": "code",
   "execution_count": 14,
   "metadata": {},
   "outputs": [
    {
     "data": {
      "text/plain": [
       "33.0"
      ]
     },
     "execution_count": 14,
     "metadata": {},
     "output_type": "execute_result"
    }
   ],
   "source": [
    "data2['current']['feelslike_c']"
   ]
  },
  {
   "cell_type": "code",
   "execution_count": 17,
   "metadata": {},
   "outputs": [
    {
     "name": "stdout",
     "output_type": "stream",
     "text": [
      "Current temperature is 28.3 degrees Celsius. But we feel 4.7 degrees warmer.\n"
     ]
    }
   ],
   "source": [
    "print(f\"Current temperature is {data2['current'] ['temp_c'] } degrees Celsius. But we feel {round((data2['current']['feelslike_c'])-(data2['current'] ['temp_c']),1)} degrees warmer.\")"
   ]
  },
  {
   "cell_type": "markdown",
   "metadata": {},
   "source": [
    "## 3) What is the API endpoint for moon-related information? For the place you decided on above, how much of the moon will be visible on next Thursday?\n",
    "\n",
    "- *Tip: Check the documentation!*\n",
    "- *Tip: If you aren't sure what something means, ask in Slack*"
   ]
  },
  {
   "cell_type": "code",
   "execution_count": 39,
   "metadata": {},
   "outputs": [
    {
     "name": "stdout",
     "output_type": "stream",
     "text": [
      "{'location': {'name': 'Miami', 'region': 'Florida', 'country': 'United States of America', 'lat': 25.77, 'lon': -80.19, 'tz_id': 'America/Kentucky/Monticello', 'localtime_epoch': 1624172569, 'localtime': '2021-06-20 3:02'}, 'astronomy': {'astro': {'sunrise': '06:30 AM', 'sunset': '08:15 PM', 'moonrise': '06:14 PM', 'moonset': '04:21 AM', 'moon_phase': 'Waxing Gibbous', 'moon_illumination': '87'}}}\n",
      "http://api.weatherapi.com/v1/astronomy.json is API endpoint for moon-related information.\n"
     ]
    }
   ],
   "source": [
    "astro = requests.get(\"http://api.weatherapi.com/v1/astronomy.json?key=43f4b06173444f3699b210224211406&q=Miami&dt=2021-06-22\")\n",
    "data3 = astro.json()\n",
    "print(data3)\n",
    "print(\"http://api.weatherapi.com/v1/astronomy.json is API endpoint for moon-related information.\")"
   ]
  },
  {
   "cell_type": "code",
   "execution_count": 29,
   "metadata": {},
   "outputs": [
    {
     "data": {
      "text/plain": [
       "dict_keys(['location', 'astronomy'])"
      ]
     },
     "execution_count": 29,
     "metadata": {},
     "output_type": "execute_result"
    }
   ],
   "source": [
    "data3.keys()"
   ]
  },
  {
   "cell_type": "code",
   "execution_count": 30,
   "metadata": {},
   "outputs": [
    {
     "data": {
      "text/plain": [
       "dict_keys(['astro'])"
      ]
     },
     "execution_count": 30,
     "metadata": {},
     "output_type": "execute_result"
    }
   ],
   "source": [
    "data3['astronomy'].keys()"
   ]
  },
  {
   "cell_type": "code",
   "execution_count": 31,
   "metadata": {},
   "outputs": [
    {
     "data": {
      "text/plain": [
       "{'sunrise': '06:30 AM',\n",
       " 'sunset': '08:15 PM',\n",
       " 'moonrise': '06:14 PM',\n",
       " 'moonset': '04:21 AM',\n",
       " 'moon_phase': 'Waxing Gibbous',\n",
       " 'moon_illumination': '87'}"
      ]
     },
     "execution_count": 31,
     "metadata": {},
     "output_type": "execute_result"
    }
   ],
   "source": [
    "data3['astronomy']['astro']"
   ]
  },
  {
   "cell_type": "code",
   "execution_count": 34,
   "metadata": {},
   "outputs": [
    {
     "name": "stdout",
     "output_type": "stream",
     "text": [
      "On the next Tuesday, June 22, we can see Waxing Gibbous　moon in Miami. 87% of the moon is visible.\n"
     ]
    }
   ],
   "source": [
    "moon = data3['astronomy']['astro']\n",
    "print(f\"On the next Tuesday, June 22, we can see {moon['moon_phase']}　moon in Miami. {moon['moon_illumination']}% of the moon is visible.\")"
   ]
  },
  {
   "cell_type": "markdown",
   "metadata": {},
   "source": [
    "## 4) What's the difference between the high and low temperatures for today?\n",
    "\n",
    "- *Tip: When you requested moon data, you probably overwrote your variables! If so, you'll need to make a new request.*"
   ]
  },
  {
   "cell_type": "code",
   "execution_count": 40,
   "metadata": {},
   "outputs": [
    {
     "name": "stdout",
     "output_type": "stream",
     "text": [
      "{'location': {'name': 'Miami', 'region': 'Florida', 'country': 'United States of America', 'lat': 25.77, 'lon': -80.19, 'tz_id': 'America/Kentucky/Monticello', 'localtime_epoch': 1624172696, 'localtime': '2021-06-20 3:04'}, 'current': {'last_updated_epoch': 1624171500, 'last_updated': '2021-06-20 02:45', 'temp_c': 28.3, 'temp_f': 82.9, 'is_day': 0, 'condition': {'text': 'Partly cloudy', 'icon': '//cdn.weatherapi.com/weather/64x64/night/116.png', 'code': 1003}, 'wind_mph': 3.8, 'wind_kph': 6.1, 'wind_degree': 120, 'wind_dir': 'ESE', 'pressure_mb': 1017.0, 'pressure_in': 30.5, 'precip_mm': 0.0, 'precip_in': 0.0, 'humidity': 88, 'cloud': 75, 'feelslike_c': 33.0, 'feelslike_f': 91.4, 'vis_km': 16.0, 'vis_miles': 9.0, 'uv': 1.0, 'gust_mph': 13.4, 'gust_kph': 21.6}, 'forecast': {'forecastday': [{'date': '2021-06-20', 'date_epoch': 1624147200, 'day': {'maxtemp_c': 29.7, 'maxtemp_f': 85.5, 'mintemp_c': 28.0, 'mintemp_f': 82.4, 'avgtemp_c': 28.8, 'avgtemp_f': 83.8, 'maxwind_mph': 13.2, 'maxwind_kph': 21.2, 'totalprecip_mm': 3.3, 'totalprecip_in': 0.13, 'avgvis_km': 9.5, 'avgvis_miles': 5.0, 'avghumidity': 76.0, 'daily_will_it_rain': 1, 'daily_chance_of_rain': '88', 'daily_will_it_snow': 0, 'daily_chance_of_snow': '0', 'condition': {'text': 'Patchy rain possible', 'icon': '//cdn.weatherapi.com/weather/64x64/day/176.png', 'code': 1063}, 'uv': 9.0}, 'astro': {'sunrise': '06:29 AM', 'sunset': '08:15 PM', 'moonrise': '03:59 PM', 'moonset': '02:57 AM', 'moon_phase': 'Full Moon', 'moon_illumination': '76'}, 'hour': [{'time_epoch': 1624161600, 'time': '2021-06-20 00:00', 'temp_c': 28.4, 'temp_f': 83.1, 'is_day': 0, 'condition': {'text': 'Partly cloudy', 'icon': '//cdn.weatherapi.com/weather/64x64/night/116.png', 'code': 1003}, 'wind_mph': 10.1, 'wind_kph': 16.2, 'wind_degree': 119, 'wind_dir': 'ESE', 'pressure_mb': 1018.0, 'pressure_in': 30.5, 'precip_mm': 0.0, 'precip_in': 0.0, 'humidity': 80, 'cloud': 14, 'feelslike_c': 33.3, 'feelslike_f': 91.9, 'windchill_c': 28.4, 'windchill_f': 83.1, 'heatindex_c': 33.3, 'heatindex_f': 91.9, 'dewpoint_c': 24.7, 'dewpoint_f': 76.5, 'will_it_rain': 0, 'chance_of_rain': '0', 'will_it_snow': 0, 'chance_of_snow': '0', 'vis_km': 10.0, 'vis_miles': 6.0, 'gust_mph': 13.4, 'gust_kph': 21.6, 'uv': 1.0}, {'time_epoch': 1624165200, 'time': '2021-06-20 01:00', 'temp_c': 28.5, 'temp_f': 83.3, 'is_day': 0, 'condition': {'text': 'Partly cloudy', 'icon': '//cdn.weatherapi.com/weather/64x64/night/116.png', 'code': 1003}, 'wind_mph': 8.7, 'wind_kph': 14.0, 'wind_degree': 127, 'wind_dir': 'SE', 'pressure_mb': 1018.0, 'pressure_in': 30.5, 'precip_mm': 0.0, 'precip_in': 0.0, 'humidity': 81, 'cloud': 11, 'feelslike_c': 33.5, 'feelslike_f': 92.3, 'windchill_c': 28.5, 'windchill_f': 83.3, 'heatindex_c': 33.5, 'heatindex_f': 92.3, 'dewpoint_c': 24.8, 'dewpoint_f': 76.6, 'will_it_rain': 0, 'chance_of_rain': '0', 'will_it_snow': 0, 'chance_of_snow': '0', 'vis_km': 10.0, 'vis_miles': 6.0, 'gust_mph': 11.4, 'gust_kph': 18.4, 'uv': 1.0}, {'time_epoch': 1624168800, 'time': '2021-06-20 02:00', 'temp_c': 28.5, 'temp_f': 83.3, 'is_day': 0, 'condition': {'text': 'Partly cloudy', 'icon': '//cdn.weatherapi.com/weather/64x64/night/116.png', 'code': 1003}, 'wind_mph': 7.2, 'wind_kph': 11.5, 'wind_degree': 134, 'wind_dir': 'SE', 'pressure_mb': 1017.0, 'pressure_in': 30.5, 'precip_mm': 0.0, 'precip_in': 0.0, 'humidity': 81, 'cloud': 9, 'feelslike_c': 33.6, 'feelslike_f': 92.5, 'windchill_c': 28.5, 'windchill_f': 83.3, 'heatindex_c': 33.6, 'heatindex_f': 92.5, 'dewpoint_c': 24.9, 'dewpoint_f': 76.8, 'will_it_rain': 0, 'chance_of_rain': '0', 'will_it_snow': 0, 'chance_of_snow': '0', 'vis_km': 10.0, 'vis_miles': 6.0, 'gust_mph': 9.4, 'gust_kph': 15.1, 'uv': 1.0}, {'time_epoch': 1624172400, 'time': '2021-06-20 03:00', 'temp_c': 28.3, 'temp_f': 82.9, 'is_day': 0, 'condition': {'text': 'Light rain shower', 'icon': '//cdn.weatherapi.com/weather/64x64/night/353.png', 'code': 1240}, 'wind_mph': 8.5, 'wind_kph': 13.7, 'wind_degree': 142, 'wind_dir': 'SE', 'pressure_mb': 1017.0, 'pressure_in': 30.5, 'precip_mm': 0.1, 'precip_in': 0.0, 'humidity': 81, 'cloud': 30, 'feelslike_c': 33.2, 'feelslike_f': 91.8, 'windchill_c': 28.3, 'windchill_f': 82.9, 'heatindex_c': 33.2, 'heatindex_f': 91.8, 'dewpoint_c': 24.7, 'dewpoint_f': 76.5, 'will_it_rain': 0, 'chance_of_rain': '24', 'will_it_snow': 0, 'chance_of_snow': '0', 'vis_km': 10.0, 'vis_miles': 6.0, 'gust_mph': 11.2, 'gust_kph': 18.0, 'uv': 1.0}, {'time_epoch': 1624176000, 'time': '2021-06-20 04:00', 'temp_c': 28.2, 'temp_f': 82.8, 'is_day': 0, 'condition': {'text': 'Partly cloudy', 'icon': '//cdn.weatherapi.com/weather/64x64/night/116.png', 'code': 1003}, 'wind_mph': 9.6, 'wind_kph': 15.5, 'wind_degree': 151, 'wind_dir': 'SSE', 'pressure_mb': 1017.0, 'pressure_in': 30.5, 'precip_mm': 0.1, 'precip_in': 0.0, 'humidity': 81, 'cloud': 51, 'feelslike_c': 32.8, 'feelslike_f': 91.0, 'windchill_c': 28.2, 'windchill_f': 82.8, 'heatindex_c': 32.8, 'heatindex_f': 91.0, 'dewpoint_c': 24.5, 'dewpoint_f': 76.1, 'will_it_rain': 0, 'chance_of_rain': '48', 'will_it_snow': 0, 'chance_of_snow': '0', 'vis_km': 10.0, 'vis_miles': 6.0, 'gust_mph': 13.2, 'gust_kph': 21.2, 'uv': 1.0}, {'time_epoch': 1624179600, 'time': '2021-06-20 05:00', 'temp_c': 28.0, 'temp_f': 82.4, 'is_day': 0, 'condition': {'text': 'Light rain shower', 'icon': '//cdn.weatherapi.com/weather/64x64/night/353.png', 'code': 1240}, 'wind_mph': 11.0, 'wind_kph': 17.6, 'wind_degree': 159, 'wind_dir': 'SSE', 'pressure_mb': 1017.0, 'pressure_in': 30.5, 'precip_mm': 0.2, 'precip_in': 0.01, 'humidity': 80, 'cloud': 72, 'feelslike_c': 32.4, 'feelslike_f': 90.3, 'windchill_c': 28.0, 'windchill_f': 82.4, 'heatindex_c': 32.4, 'heatindex_f': 90.3, 'dewpoint_c': 24.3, 'dewpoint_f': 75.7, 'will_it_rain': 1, 'chance_of_rain': '72', 'will_it_snow': 0, 'chance_of_snow': '0', 'vis_km': 10.0, 'vis_miles': 6.0, 'gust_mph': 15.0, 'gust_kph': 24.1, 'uv': 1.0}, {'time_epoch': 1624183200, 'time': '2021-06-20 06:00', 'temp_c': 28.0, 'temp_f': 82.4, 'is_day': 0, 'condition': {'text': 'Patchy rain possible', 'icon': '//cdn.weatherapi.com/weather/64x64/night/176.png', 'code': 1063}, 'wind_mph': 11.0, 'wind_kph': 17.6, 'wind_degree': 162, 'wind_dir': 'SSE', 'pressure_mb': 1018.0, 'pressure_in': 30.5, 'precip_mm': 0.3, 'precip_in': 0.01, 'humidity': 80, 'cloud': 75, 'feelslike_c': 32.3, 'feelslike_f': 90.1, 'windchill_c': 28.0, 'windchill_f': 82.4, 'heatindex_c': 32.3, 'heatindex_f': 90.1, 'dewpoint_c': 24.2, 'dewpoint_f': 75.6, 'will_it_rain': 0, 'chance_of_rain': '68', 'will_it_snow': 0, 'chance_of_snow': '0', 'vis_km': 9.7, 'vis_miles': 6.0, 'gust_mph': 15.0, 'gust_kph': 24.1, 'uv': 1.0}, {'time_epoch': 1624186800, 'time': '2021-06-20 07:00', 'temp_c': 28.0, 'temp_f': 82.4, 'is_day': 1, 'condition': {'text': 'Light rain shower', 'icon': '//cdn.weatherapi.com/weather/64x64/day/353.png', 'code': 1240}, 'wind_mph': 10.7, 'wind_kph': 17.3, 'wind_degree': 165, 'wind_dir': 'SSE', 'pressure_mb': 1018.0, 'pressure_in': 30.5, 'precip_mm': 0.5, 'precip_in': 0.02, 'humidity': 80, 'cloud': 77, 'feelslike_c': 32.3, 'feelslike_f': 90.1, 'windchill_c': 28.0, 'windchill_f': 82.4, 'heatindex_c': 32.3, 'heatindex_f': 90.1, 'dewpoint_c': 24.1, 'dewpoint_f': 75.4, 'will_it_rain': 0, 'chance_of_rain': '64', 'will_it_snow': 0, 'chance_of_snow': '0', 'vis_km': 9.3, 'vis_miles': 5.0, 'gust_mph': 14.8, 'gust_kph': 23.8, 'uv': 6.0}, {'time_epoch': 1624190400, 'time': '2021-06-20 08:00', 'temp_c': 28.0, 'temp_f': 82.4, 'is_day': 1, 'condition': {'text': 'Patchy rain possible', 'icon': '//cdn.weatherapi.com/weather/64x64/day/176.png', 'code': 1063}, 'wind_mph': 10.7, 'wind_kph': 17.3, 'wind_degree': 169, 'wind_dir': 'S', 'pressure_mb': 1019.0, 'pressure_in': 30.6, 'precip_mm': 0.6, 'precip_in': 0.02, 'humidity': 79, 'cloud': 80, 'feelslike_c': 32.2, 'feelslike_f': 90.0, 'windchill_c': 28.0, 'windchill_f': 82.4, 'heatindex_c': 32.2, 'heatindex_f': 90.0, 'dewpoint_c': 24.0, 'dewpoint_f': 75.2, 'will_it_rain': 0, 'chance_of_rain': '60', 'will_it_snow': 0, 'chance_of_snow': '0', 'vis_km': 9.0, 'vis_miles': 5.0, 'gust_mph': 14.8, 'gust_kph': 23.8, 'uv': 6.0}, {'time_epoch': 1624194000, 'time': '2021-06-20 09:00', 'temp_c': 28.3, 'temp_f': 82.9, 'is_day': 1, 'condition': {'text': 'Patchy rain possible', 'icon': '//cdn.weatherapi.com/weather/64x64/day/176.png', 'code': 1063}, 'wind_mph': 11.6, 'wind_kph': 18.7, 'wind_degree': 165, 'wind_dir': 'SSE', 'pressure_mb': 1019.0, 'pressure_in': 30.6, 'precip_mm': 0.8, 'precip_in': 0.03, 'humidity': 78, 'cloud': 80, 'feelslike_c': 32.8, 'feelslike_f': 91.0, 'windchill_c': 28.3, 'windchill_f': 82.9, 'heatindex_c': 32.8, 'heatindex_f': 91.0, 'dewpoint_c': 24.1, 'dewpoint_f': 75.4, 'will_it_rain': 0, 'chance_of_rain': '69', 'will_it_snow': 0, 'chance_of_snow': '0', 'vis_km': 9.0, 'vis_miles': 5.0, 'gust_mph': 15.9, 'gust_kph': 25.6, 'uv': 6.0}, {'time_epoch': 1624197600, 'time': '2021-06-20 10:00', 'temp_c': 28.7, 'temp_f': 83.7, 'is_day': 1, 'condition': {'text': 'Patchy rain possible', 'icon': '//cdn.weatherapi.com/weather/64x64/day/176.png', 'code': 1063}, 'wind_mph': 12.3, 'wind_kph': 19.8, 'wind_degree': 161, 'wind_dir': 'SSE', 'pressure_mb': 1019.0, 'pressure_in': 30.6, 'precip_mm': 1.0, 'precip_in': 0.04, 'humidity': 77, 'cloud': 80, 'feelslike_c': 33.3, 'feelslike_f': 91.9, 'windchill_c': 28.7, 'windchill_f': 83.7, 'heatindex_c': 33.3, 'heatindex_f': 91.9, 'dewpoint_c': 24.2, 'dewpoint_f': 75.6, 'will_it_rain': 1, 'chance_of_rain': '79', 'will_it_snow': 0, 'chance_of_snow': '0', 'vis_km': 9.0, 'vis_miles': 5.0, 'gust_mph': 16.8, 'gust_kph': 27.0, 'uv': 6.0}, {'time_epoch': 1624201200, 'time': '2021-06-20 11:00', 'temp_c': 29.0, 'temp_f': 84.2, 'is_day': 1, 'condition': {'text': 'Patchy rain possible', 'icon': '//cdn.weatherapi.com/weather/64x64/day/176.png', 'code': 1063}, 'wind_mph': 13.2, 'wind_kph': 21.2, 'wind_degree': 158, 'wind_dir': 'SSE', 'pressure_mb': 1019.0, 'pressure_in': 30.6, 'precip_mm': 1.2, 'precip_in': 0.05, 'humidity': 76, 'cloud': 80, 'feelslike_c': 33.9, 'feelslike_f': 93.0, 'windchill_c': 29.0, 'windchill_f': 84.2, 'heatindex_c': 33.9, 'heatindex_f': 93.0, 'dewpoint_c': 24.3, 'dewpoint_f': 75.7, 'will_it_rain': 1, 'chance_of_rain': '88', 'will_it_snow': 0, 'chance_of_snow': '0', 'vis_km': 9.0, 'vis_miles': 5.0, 'gust_mph': 17.9, 'gust_kph': 28.8, 'uv': 6.0}, {'time_epoch': 1624204800, 'time': '2021-06-20 12:00', 'temp_c': 29.2, 'temp_f': 84.6, 'is_day': 1, 'condition': {'text': 'Patchy rain possible', 'icon': '//cdn.weatherapi.com/weather/64x64/day/176.png', 'code': 1063}, 'wind_mph': 12.8, 'wind_kph': 20.5, 'wind_degree': 160, 'wind_dir': 'SSE', 'pressure_mb': 1019.0, 'pressure_in': 30.6, 'precip_mm': 1.0, 'precip_in': 0.04, 'humidity': 75, 'cloud': 79, 'feelslike_c': 34.1, 'feelslike_f': 93.4, 'windchill_c': 29.2, 'windchill_f': 84.6, 'heatindex_c': 34.1, 'heatindex_f': 93.4, 'dewpoint_c': 24.2, 'dewpoint_f': 75.6, 'will_it_rain': 1, 'chance_of_rain': '83', 'will_it_snow': 0, 'chance_of_snow': '0', 'vis_km': 9.0, 'vis_miles': 5.0, 'gust_mph': 17.0, 'gust_kph': 27.4, 'uv': 6.0}, {'time_epoch': 1624208400, 'time': '2021-06-20 13:00', 'temp_c': 29.4, 'temp_f': 84.9, 'is_day': 1, 'condition': {'text': 'Patchy rain possible', 'icon': '//cdn.weatherapi.com/weather/64x64/day/176.png', 'code': 1063}, 'wind_mph': 12.5, 'wind_kph': 20.2, 'wind_degree': 162, 'wind_dir': 'SSE', 'pressure_mb': 1019.0, 'pressure_in': 30.6, 'precip_mm': 0.9, 'precip_in': 0.04, 'humidity': 73, 'cloud': 79, 'feelslike_c': 34.3, 'feelslike_f': 93.7, 'windchill_c': 29.4, 'windchill_f': 84.9, 'heatindex_c': 34.3, 'heatindex_f': 93.7, 'dewpoint_c': 24.2, 'dewpoint_f': 75.6, 'will_it_rain': 1, 'chance_of_rain': '77', 'will_it_snow': 0, 'chance_of_snow': '0', 'vis_km': 9.0, 'vis_miles': 5.0, 'gust_mph': 16.1, 'gust_kph': 25.9, 'uv': 6.0}, {'time_epoch': 1624212000, 'time': '2021-06-20 14:00', 'temp_c': 29.6, 'temp_f': 85.3, 'is_day': 1, 'condition': {'text': 'Patchy rain possible', 'icon': '//cdn.weatherapi.com/weather/64x64/day/176.png', 'code': 1063}, 'wind_mph': 12.1, 'wind_kph': 19.4, 'wind_degree': 164, 'wind_dir': 'SSE', 'pressure_mb': 1018.0, 'pressure_in': 30.5, 'precip_mm': 0.7, 'precip_in': 0.03, 'humidity': 72, 'cloud': 78, 'feelslike_c': 34.5, 'feelslike_f': 94.1, 'windchill_c': 29.6, 'windchill_f': 85.3, 'heatindex_c': 34.5, 'heatindex_f': 94.1, 'dewpoint_c': 24.1, 'dewpoint_f': 75.4, 'will_it_rain': 1, 'chance_of_rain': '72', 'will_it_snow': 0, 'chance_of_snow': '0', 'vis_km': 9.0, 'vis_miles': 5.0, 'gust_mph': 15.2, 'gust_kph': 24.5, 'uv': 6.0}, {'time_epoch': 1624215600, 'time': '2021-06-20 15:00', 'temp_c': 29.6, 'temp_f': 85.3, 'is_day': 1, 'condition': {'text': 'Patchy rain possible', 'icon': '//cdn.weatherapi.com/weather/64x64/day/176.png', 'code': 1063}, 'wind_mph': 12.1, 'wind_kph': 19.4, 'wind_degree': 162, 'wind_dir': 'SSE', 'pressure_mb': 1018.0, 'pressure_in': 30.5, 'precip_mm': 0.5, 'precip_in': 0.02, 'humidity': 72, 'cloud': 81, 'feelslike_c': 34.5, 'feelslike_f': 94.1, 'windchill_c': 29.6, 'windchill_f': 85.3, 'heatindex_c': 34.5, 'heatindex_f': 94.1, 'dewpoint_c': 24.0, 'dewpoint_f': 75.2, 'will_it_rain': 1, 'chance_of_rain': '77', 'will_it_snow': 0, 'chance_of_snow': '0', 'vis_km': 9.3, 'vis_miles': 5.0, 'gust_mph': 15.2, 'gust_kph': 24.5, 'uv': 6.0}, {'time_epoch': 1624219200, 'time': '2021-06-20 16:00', 'temp_c': 29.7, 'temp_f': 85.5, 'is_day': 1, 'condition': {'text': 'Patchy rain possible', 'icon': '//cdn.weatherapi.com/weather/64x64/day/176.png', 'code': 1063}, 'wind_mph': 12.1, 'wind_kph': 19.4, 'wind_degree': 160, 'wind_dir': 'SSE', 'pressure_mb': 1017.0, 'pressure_in': 30.5, 'precip_mm': 0.3, 'precip_in': 0.01, 'humidity': 71, 'cloud': 85, 'feelslike_c': 34.4, 'feelslike_f': 93.9, 'windchill_c': 29.7, 'windchill_f': 85.5, 'heatindex_c': 34.4, 'heatindex_f': 93.9, 'dewpoint_c': 23.8, 'dewpoint_f': 74.8, 'will_it_rain': 1, 'chance_of_rain': '81', 'will_it_snow': 0, 'chance_of_snow': '0', 'vis_km': 9.7, 'vis_miles': 6.0, 'gust_mph': 15.2, 'gust_kph': 24.5, 'uv': 6.0}, {'time_epoch': 1624222800, 'time': '2021-06-20 17:00', 'temp_c': 29.7, 'temp_f': 85.5, 'is_day': 1, 'condition': {'text': 'Patchy rain possible', 'icon': '//cdn.weatherapi.com/weather/64x64/day/176.png', 'code': 1063}, 'wind_mph': 12.1, 'wind_kph': 19.4, 'wind_degree': 157, 'wind_dir': 'SSE', 'pressure_mb': 1017.0, 'pressure_in': 30.5, 'precip_mm': 0.1, 'precip_in': 0.0, 'humidity': 70, 'cloud': 88, 'feelslike_c': 34.4, 'feelslike_f': 93.9, 'windchill_c': 29.7, 'windchill_f': 85.5, 'heatindex_c': 34.4, 'heatindex_f': 93.9, 'dewpoint_c': 23.7, 'dewpoint_f': 74.7, 'will_it_rain': 1, 'chance_of_rain': '86', 'will_it_snow': 0, 'chance_of_snow': '0', 'vis_km': 10.0, 'vis_miles': 6.0, 'gust_mph': 15.2, 'gust_kph': 24.5, 'uv': 6.0}, {'time_epoch': 1624226400, 'time': '2021-06-20 18:00', 'temp_c': 29.5, 'temp_f': 85.1, 'is_day': 1, 'condition': {'text': 'Partly cloudy', 'icon': '//cdn.weatherapi.com/weather/64x64/day/116.png', 'code': 1003}, 'wind_mph': 11.4, 'wind_kph': 18.4, 'wind_degree': 161, 'wind_dir': 'SSE', 'pressure_mb': 1017.0, 'pressure_in': 30.5, 'precip_mm': 0.1, 'precip_in': 0.0, 'humidity': 71, 'cloud': 61, 'feelslike_c': 34.2, 'feelslike_f': 93.6, 'windchill_c': 29.5, 'windchill_f': 85.1, 'heatindex_c': 34.2, 'heatindex_f': 93.6, 'dewpoint_c': 23.8, 'dewpoint_f': 74.8, 'will_it_rain': 0, 'chance_of_rain': '57', 'will_it_snow': 0, 'chance_of_snow': '0', 'vis_km': 10.0, 'vis_miles': 6.0, 'gust_mph': 14.8, 'gust_kph': 23.8, 'uv': 7.0}, {'time_epoch': 1624230000, 'time': '2021-06-20 19:00', 'temp_c': 29.3, 'temp_f': 84.7, 'is_day': 1, 'condition': {'text': 'Patchy rain possible', 'icon': '//cdn.weatherapi.com/weather/64x64/day/176.png', 'code': 1063}, 'wind_mph': 11.0, 'wind_kph': 17.6, 'wind_degree': 164, 'wind_dir': 'SSE', 'pressure_mb': 1018.0, 'pressure_in': 30.5, 'precip_mm': 0.0, 'precip_in': 0.0, 'humidity': 73, 'cloud': 34, 'feelslike_c': 33.9, 'feelslike_f': 93.0, 'windchill_c': 29.3, 'windchill_f': 84.7, 'heatindex_c': 33.9, 'heatindex_f': 93.0, 'dewpoint_c': 23.8, 'dewpoint_f': 74.8, 'will_it_rain': 0, 'chance_of_rain': '29', 'will_it_snow': 0, 'chance_of_snow': '0', 'vis_km': 10.0, 'vis_miles': 6.0, 'gust_mph': 14.3, 'gust_kph': 23.0, 'uv': 6.0}, {'time_epoch': 1624233600, 'time': '2021-06-20 20:00', 'temp_c': 29.1, 'temp_f': 84.4, 'is_day': 1, 'condition': {'text': 'Partly cloudy', 'icon': '//cdn.weatherapi.com/weather/64x64/day/116.png', 'code': 1003}, 'wind_mph': 10.3, 'wind_kph': 16.6, 'wind_degree': 167, 'wind_dir': 'SSE', 'pressure_mb': 1018.0, 'pressure_in': 30.5, 'precip_mm': 0.0, 'precip_in': 0.0, 'humidity': 74, 'cloud': 7, 'feelslike_c': 33.7, 'feelslike_f': 92.7, 'windchill_c': 29.1, 'windchill_f': 84.4, 'heatindex_c': 33.7, 'heatindex_f': 92.7, 'dewpoint_c': 23.9, 'dewpoint_f': 75.0, 'will_it_rain': 0, 'chance_of_rain': '0', 'will_it_snow': 0, 'chance_of_snow': '0', 'vis_km': 10.0, 'vis_miles': 6.0, 'gust_mph': 13.9, 'gust_kph': 22.3, 'uv': 7.0}, {'time_epoch': 1624237200, 'time': '2021-06-20 21:00', 'temp_c': 28.9, 'temp_f': 84.0, 'is_day': 0, 'condition': {'text': 'Patchy rain possible', 'icon': '//cdn.weatherapi.com/weather/64x64/night/176.png', 'code': 1063}, 'wind_mph': 10.1, 'wind_kph': 16.2, 'wind_degree': 166, 'wind_dir': 'SSE', 'pressure_mb': 1018.0, 'pressure_in': 30.5, 'precip_mm': 0.2, 'precip_in': 0.01, 'humidity': 75, 'cloud': 32, 'feelslike_c': 33.5, 'feelslike_f': 92.3, 'windchill_c': 28.9, 'windchill_f': 84.0, 'heatindex_c': 33.5, 'heatindex_f': 92.3, 'dewpoint_c': 24.0, 'dewpoint_f': 75.2, 'will_it_rain': 0, 'chance_of_rain': '25', 'will_it_snow': 0, 'chance_of_snow': '0', 'vis_km': 9.7, 'vis_miles': 6.0, 'gust_mph': 13.6, 'gust_kph': 22.0, 'uv': 1.0}, {'time_epoch': 1624240800, 'time': '2021-06-20 22:00', 'temp_c': 28.7, 'temp_f': 83.7, 'is_day': 0, 'condition': {'text': 'Partly cloudy', 'icon': '//cdn.weatherapi.com/weather/64x64/night/116.png', 'code': 1003}, 'wind_mph': 9.8, 'wind_kph': 15.8, 'wind_degree': 165, 'wind_dir': 'SSE', 'pressure_mb': 1018.0, 'pressure_in': 30.6, 'precip_mm': 0.3, 'precip_in': 0.01, 'humidity': 77, 'cloud': 57, 'feelslike_c': 33.3, 'feelslike_f': 91.9, 'windchill_c': 28.7, 'windchill_f': 83.7, 'heatindex_c': 33.3, 'heatindex_f': 91.9, 'dewpoint_c': 24.2, 'dewpoint_f': 75.6, 'will_it_rain': 0, 'chance_of_rain': '50', 'will_it_snow': 0, 'chance_of_snow': '0', 'vis_km': 9.3, 'vis_miles': 5.0, 'gust_mph': 13.2, 'gust_kph': 21.2, 'uv': 1.0}, {'time_epoch': 1624244400, 'time': '2021-06-20 23:00', 'temp_c': 28.5, 'temp_f': 83.3, 'is_day': 0, 'condition': {'text': 'Patchy rain possible', 'icon': '//cdn.weatherapi.com/weather/64x64/night/176.png', 'code': 1063}, 'wind_mph': 9.6, 'wind_kph': 15.5, 'wind_degree': 164, 'wind_dir': 'SSE', 'pressure_mb': 1019.0, 'pressure_in': 30.6, 'precip_mm': 0.5, 'precip_in': 0.02, 'humidity': 78, 'cloud': 82, 'feelslike_c': 33.1, 'feelslike_f': 91.6, 'windchill_c': 28.5, 'windchill_f': 83.3, 'heatindex_c': 33.1, 'heatindex_f': 91.6, 'dewpoint_c': 24.3, 'dewpoint_f': 75.7, 'will_it_rain': 1, 'chance_of_rain': '75', 'will_it_snow': 0, 'chance_of_snow': '0', 'vis_km': 9.0, 'vis_miles': 5.0, 'gust_mph': 13.0, 'gust_kph': 20.9, 'uv': 1.0}]}]}}\n"
     ]
    }
   ],
   "source": [
    "highlow = requests.get(\"http://api.weatherapi.com/v1/forecast.json?key=43f4b06173444f3699b210224211406&q=Miami&days=1\")\n",
    "data4 = highlow.json()\n",
    "print(data4)"
   ]
  },
  {
   "cell_type": "code",
   "execution_count": 42,
   "metadata": {},
   "outputs": [
    {
     "data": {
      "text/plain": [
       "dict_keys(['location', 'current', 'forecast'])"
      ]
     },
     "execution_count": 42,
     "metadata": {},
     "output_type": "execute_result"
    }
   ],
   "source": [
    "data4.keys()"
   ]
  },
  {
   "cell_type": "code",
   "execution_count": 47,
   "metadata": {},
   "outputs": [
    {
     "data": {
      "text/plain": [
       "dict_keys(['date', 'date_epoch', 'day', 'astro', 'hour'])"
      ]
     },
     "execution_count": 47,
     "metadata": {},
     "output_type": "execute_result"
    }
   ],
   "source": [
    "data4['forecast']['forecastday'][0].keys()"
   ]
  },
  {
   "cell_type": "code",
   "execution_count": 49,
   "metadata": {},
   "outputs": [
    {
     "data": {
      "text/plain": [
       "dict_keys(['maxtemp_c', 'maxtemp_f', 'mintemp_c', 'mintemp_f', 'avgtemp_c', 'avgtemp_f', 'maxwind_mph', 'maxwind_kph', 'totalprecip_mm', 'totalprecip_in', 'avgvis_km', 'avgvis_miles', 'avghumidity', 'daily_will_it_rain', 'daily_chance_of_rain', 'daily_will_it_snow', 'daily_chance_of_snow', 'condition', 'uv'])"
      ]
     },
     "execution_count": 49,
     "metadata": {},
     "output_type": "execute_result"
    }
   ],
   "source": [
    "data4['forecast']['forecastday'][0]['day'].keys()"
   ]
  },
  {
   "cell_type": "code",
   "execution_count": 55,
   "metadata": {},
   "outputs": [
    {
     "name": "stdout",
     "output_type": "stream",
     "text": [
      "There is 1.7 degree difference between maximum temperature and minimum temperature today.\n"
     ]
    }
   ],
   "source": [
    "temp = data4['forecast']['forecastday'][0]['day']\n",
    "print(f\"There is {round(temp['maxtemp_c']-temp['mintemp_c'],1)} degree difference between maximum temperature and minimum temperature today.\")"
   ]
  },
  {
   "cell_type": "markdown",
   "metadata": {
    "collapsed": true
   },
   "source": [
    "## 4.5) How can you avoid the \"oh no I don't have the data any more because I made another request\" problem in the future?\n",
    "\n",
    "What variable(s) do you have to rename, and what would you rename them?"
   ]
  },
  {
   "cell_type": "code",
   "execution_count": 60,
   "metadata": {},
   "outputs": [
    {
     "name": "stdout",
     "output_type": "stream",
     "text": [
      "I change the variable standing for 'requests.get('url'). I also use different variable on variable2 = variable.json(). Example: if I use r = requests.get('url1'), data = r.json() on the first request, I choose  p = requests.get('url2'), data2 = p.json() on the second request.\n"
     ]
    }
   ],
   "source": [
    "print(\"I change the variable standing for 'requests.get('url'). I also use different variable on variable2 = variable.json(). Example: if I use r = requests.get('url1'), data = r.json() on the first request, I choose  p = requests.get('url2'), data2 = p.json() on the second request.\" )"
   ]
  },
  {
   "cell_type": "code",
   "execution_count": null,
   "metadata": {},
   "outputs": [],
   "source": []
  },
  {
   "cell_type": "markdown",
   "metadata": {},
   "source": [
    "## 5) Go through the daily forecasts, printing out the next week's worth of predictions.\n",
    "\n",
    "I'd like to know the **high temperature** for each day, and whether it's **hot, warm, or cold** (based on what temperatures you think are hot, warm or cold).\n",
    "\n",
    "- *Tip: You'll need to use an `if` statement to say whether it is hot, warm or cold.*"
   ]
  },
  {
   "cell_type": "code",
   "execution_count": 62,
   "metadata": {},
   "outputs": [
    {
     "name": "stdout",
     "output_type": "stream",
     "text": [
      "{'location': {'name': 'Miami', 'region': 'Florida', 'country': 'United States of America', 'lat': 25.77, 'lon': -80.19, 'tz_id': 'America/Kentucky/Monticello', 'localtime_epoch': 1624174406, 'localtime': '2021-06-20 3:33'}, 'current': {'last_updated_epoch': 1624173300, 'last_updated': '2021-06-20 03:15', 'temp_c': 28.3, 'temp_f': 82.9, 'is_day': 0, 'condition': {'text': 'Partly cloudy', 'icon': '//cdn.weatherapi.com/weather/64x64/night/116.png', 'code': 1003}, 'wind_mph': 4.3, 'wind_kph': 6.8, 'wind_degree': 180, 'wind_dir': 'S', 'pressure_mb': 1017.0, 'pressure_in': 30.5, 'precip_mm': 0.0, 'precip_in': 0.0, 'humidity': 91, 'cloud': 75, 'feelslike_c': 33.0, 'feelslike_f': 91.4, 'vis_km': 16.0, 'vis_miles': 9.0, 'uv': 1.0, 'gust_mph': 13.4, 'gust_kph': 21.6}, 'forecast': {'forecastday': [{'date': '2021-06-20', 'date_epoch': 1624147200, 'day': {'maxtemp_c': 29.7, 'maxtemp_f': 85.5, 'mintemp_c': 28.0, 'mintemp_f': 82.4, 'avgtemp_c': 28.8, 'avgtemp_f': 83.8, 'maxwind_mph': 13.2, 'maxwind_kph': 21.2, 'totalprecip_mm': 3.3, 'totalprecip_in': 0.13, 'avgvis_km': 9.5, 'avgvis_miles': 5.0, 'avghumidity': 76.0, 'daily_will_it_rain': 1, 'daily_chance_of_rain': '88', 'daily_will_it_snow': 0, 'daily_chance_of_snow': '0', 'condition': {'text': 'Patchy rain possible', 'icon': '//cdn.weatherapi.com/weather/64x64/day/176.png', 'code': 1063}, 'uv': 9.0}, 'astro': {'sunrise': '06:29 AM', 'sunset': '08:15 PM', 'moonrise': '03:59 PM', 'moonset': '02:57 AM', 'moon_phase': 'Full Moon', 'moon_illumination': '76'}, 'hour': [{'time_epoch': 1624161600, 'time': '2021-06-20 00:00', 'temp_c': 28.4, 'temp_f': 83.1, 'is_day': 0, 'condition': {'text': 'Partly cloudy', 'icon': '//cdn.weatherapi.com/weather/64x64/night/116.png', 'code': 1003}, 'wind_mph': 10.1, 'wind_kph': 16.2, 'wind_degree': 119, 'wind_dir': 'ESE', 'pressure_mb': 1018.0, 'pressure_in': 30.5, 'precip_mm': 0.0, 'precip_in': 0.0, 'humidity': 80, 'cloud': 14, 'feelslike_c': 33.3, 'feelslike_f': 91.9, 'windchill_c': 28.4, 'windchill_f': 83.1, 'heatindex_c': 33.3, 'heatindex_f': 91.9, 'dewpoint_c': 24.7, 'dewpoint_f': 76.5, 'will_it_rain': 0, 'chance_of_rain': '0', 'will_it_snow': 0, 'chance_of_snow': '0', 'vis_km': 10.0, 'vis_miles': 6.0, 'gust_mph': 13.4, 'gust_kph': 21.6, 'uv': 1.0}, {'time_epoch': 1624165200, 'time': '2021-06-20 01:00', 'temp_c': 28.5, 'temp_f': 83.3, 'is_day': 0, 'condition': {'text': 'Partly cloudy', 'icon': '//cdn.weatherapi.com/weather/64x64/night/116.png', 'code': 1003}, 'wind_mph': 8.7, 'wind_kph': 14.0, 'wind_degree': 127, 'wind_dir': 'SE', 'pressure_mb': 1018.0, 'pressure_in': 30.5, 'precip_mm': 0.0, 'precip_in': 0.0, 'humidity': 81, 'cloud': 11, 'feelslike_c': 33.5, 'feelslike_f': 92.3, 'windchill_c': 28.5, 'windchill_f': 83.3, 'heatindex_c': 33.5, 'heatindex_f': 92.3, 'dewpoint_c': 24.8, 'dewpoint_f': 76.6, 'will_it_rain': 0, 'chance_of_rain': '0', 'will_it_snow': 0, 'chance_of_snow': '0', 'vis_km': 10.0, 'vis_miles': 6.0, 'gust_mph': 11.4, 'gust_kph': 18.4, 'uv': 1.0}, {'time_epoch': 1624168800, 'time': '2021-06-20 02:00', 'temp_c': 28.5, 'temp_f': 83.3, 'is_day': 0, 'condition': {'text': 'Partly cloudy', 'icon': '//cdn.weatherapi.com/weather/64x64/night/116.png', 'code': 1003}, 'wind_mph': 7.2, 'wind_kph': 11.5, 'wind_degree': 134, 'wind_dir': 'SE', 'pressure_mb': 1017.0, 'pressure_in': 30.5, 'precip_mm': 0.0, 'precip_in': 0.0, 'humidity': 81, 'cloud': 9, 'feelslike_c': 33.6, 'feelslike_f': 92.5, 'windchill_c': 28.5, 'windchill_f': 83.3, 'heatindex_c': 33.6, 'heatindex_f': 92.5, 'dewpoint_c': 24.9, 'dewpoint_f': 76.8, 'will_it_rain': 0, 'chance_of_rain': '0', 'will_it_snow': 0, 'chance_of_snow': '0', 'vis_km': 10.0, 'vis_miles': 6.0, 'gust_mph': 9.4, 'gust_kph': 15.1, 'uv': 1.0}, {'time_epoch': 1624172400, 'time': '2021-06-20 03:00', 'temp_c': 28.3, 'temp_f': 82.9, 'is_day': 0, 'condition': {'text': 'Light rain shower', 'icon': '//cdn.weatherapi.com/weather/64x64/night/353.png', 'code': 1240}, 'wind_mph': 8.5, 'wind_kph': 13.7, 'wind_degree': 142, 'wind_dir': 'SE', 'pressure_mb': 1017.0, 'pressure_in': 30.5, 'precip_mm': 0.1, 'precip_in': 0.0, 'humidity': 81, 'cloud': 30, 'feelslike_c': 33.2, 'feelslike_f': 91.8, 'windchill_c': 28.3, 'windchill_f': 82.9, 'heatindex_c': 33.2, 'heatindex_f': 91.8, 'dewpoint_c': 24.7, 'dewpoint_f': 76.5, 'will_it_rain': 0, 'chance_of_rain': '24', 'will_it_snow': 0, 'chance_of_snow': '0', 'vis_km': 10.0, 'vis_miles': 6.0, 'gust_mph': 11.2, 'gust_kph': 18.0, 'uv': 1.0}, {'time_epoch': 1624176000, 'time': '2021-06-20 04:00', 'temp_c': 28.2, 'temp_f': 82.8, 'is_day': 0, 'condition': {'text': 'Partly cloudy', 'icon': '//cdn.weatherapi.com/weather/64x64/night/116.png', 'code': 1003}, 'wind_mph': 9.6, 'wind_kph': 15.5, 'wind_degree': 151, 'wind_dir': 'SSE', 'pressure_mb': 1017.0, 'pressure_in': 30.5, 'precip_mm': 0.1, 'precip_in': 0.0, 'humidity': 81, 'cloud': 51, 'feelslike_c': 32.8, 'feelslike_f': 91.0, 'windchill_c': 28.2, 'windchill_f': 82.8, 'heatindex_c': 32.8, 'heatindex_f': 91.0, 'dewpoint_c': 24.5, 'dewpoint_f': 76.1, 'will_it_rain': 0, 'chance_of_rain': '48', 'will_it_snow': 0, 'chance_of_snow': '0', 'vis_km': 10.0, 'vis_miles': 6.0, 'gust_mph': 13.2, 'gust_kph': 21.2, 'uv': 1.0}, {'time_epoch': 1624179600, 'time': '2021-06-20 05:00', 'temp_c': 28.0, 'temp_f': 82.4, 'is_day': 0, 'condition': {'text': 'Light rain shower', 'icon': '//cdn.weatherapi.com/weather/64x64/night/353.png', 'code': 1240}, 'wind_mph': 11.0, 'wind_kph': 17.6, 'wind_degree': 159, 'wind_dir': 'SSE', 'pressure_mb': 1017.0, 'pressure_in': 30.5, 'precip_mm': 0.2, 'precip_in': 0.01, 'humidity': 80, 'cloud': 72, 'feelslike_c': 32.4, 'feelslike_f': 90.3, 'windchill_c': 28.0, 'windchill_f': 82.4, 'heatindex_c': 32.4, 'heatindex_f': 90.3, 'dewpoint_c': 24.3, 'dewpoint_f': 75.7, 'will_it_rain': 1, 'chance_of_rain': '72', 'will_it_snow': 0, 'chance_of_snow': '0', 'vis_km': 10.0, 'vis_miles': 6.0, 'gust_mph': 15.0, 'gust_kph': 24.1, 'uv': 1.0}, {'time_epoch': 1624183200, 'time': '2021-06-20 06:00', 'temp_c': 28.0, 'temp_f': 82.4, 'is_day': 0, 'condition': {'text': 'Patchy rain possible', 'icon': '//cdn.weatherapi.com/weather/64x64/night/176.png', 'code': 1063}, 'wind_mph': 11.0, 'wind_kph': 17.6, 'wind_degree': 162, 'wind_dir': 'SSE', 'pressure_mb': 1018.0, 'pressure_in': 30.5, 'precip_mm': 0.3, 'precip_in': 0.01, 'humidity': 80, 'cloud': 75, 'feelslike_c': 32.3, 'feelslike_f': 90.1, 'windchill_c': 28.0, 'windchill_f': 82.4, 'heatindex_c': 32.3, 'heatindex_f': 90.1, 'dewpoint_c': 24.2, 'dewpoint_f': 75.6, 'will_it_rain': 0, 'chance_of_rain': '68', 'will_it_snow': 0, 'chance_of_snow': '0', 'vis_km': 9.7, 'vis_miles': 6.0, 'gust_mph': 15.0, 'gust_kph': 24.1, 'uv': 1.0}, {'time_epoch': 1624186800, 'time': '2021-06-20 07:00', 'temp_c': 28.0, 'temp_f': 82.4, 'is_day': 1, 'condition': {'text': 'Light rain shower', 'icon': '//cdn.weatherapi.com/weather/64x64/day/353.png', 'code': 1240}, 'wind_mph': 10.7, 'wind_kph': 17.3, 'wind_degree': 165, 'wind_dir': 'SSE', 'pressure_mb': 1018.0, 'pressure_in': 30.5, 'precip_mm': 0.5, 'precip_in': 0.02, 'humidity': 80, 'cloud': 77, 'feelslike_c': 32.3, 'feelslike_f': 90.1, 'windchill_c': 28.0, 'windchill_f': 82.4, 'heatindex_c': 32.3, 'heatindex_f': 90.1, 'dewpoint_c': 24.1, 'dewpoint_f': 75.4, 'will_it_rain': 0, 'chance_of_rain': '64', 'will_it_snow': 0, 'chance_of_snow': '0', 'vis_km': 9.3, 'vis_miles': 5.0, 'gust_mph': 14.8, 'gust_kph': 23.8, 'uv': 6.0}, {'time_epoch': 1624190400, 'time': '2021-06-20 08:00', 'temp_c': 28.0, 'temp_f': 82.4, 'is_day': 1, 'condition': {'text': 'Patchy rain possible', 'icon': '//cdn.weatherapi.com/weather/64x64/day/176.png', 'code': 1063}, 'wind_mph': 10.7, 'wind_kph': 17.3, 'wind_degree': 169, 'wind_dir': 'S', 'pressure_mb': 1019.0, 'pressure_in': 30.6, 'precip_mm': 0.6, 'precip_in': 0.02, 'humidity': 79, 'cloud': 80, 'feelslike_c': 32.2, 'feelslike_f': 90.0, 'windchill_c': 28.0, 'windchill_f': 82.4, 'heatindex_c': 32.2, 'heatindex_f': 90.0, 'dewpoint_c': 24.0, 'dewpoint_f': 75.2, 'will_it_rain': 0, 'chance_of_rain': '60', 'will_it_snow': 0, 'chance_of_snow': '0', 'vis_km': 9.0, 'vis_miles': 5.0, 'gust_mph': 14.8, 'gust_kph': 23.8, 'uv': 6.0}, {'time_epoch': 1624194000, 'time': '2021-06-20 09:00', 'temp_c': 28.3, 'temp_f': 82.9, 'is_day': 1, 'condition': {'text': 'Patchy rain possible', 'icon': '//cdn.weatherapi.com/weather/64x64/day/176.png', 'code': 1063}, 'wind_mph': 11.6, 'wind_kph': 18.7, 'wind_degree': 165, 'wind_dir': 'SSE', 'pressure_mb': 1019.0, 'pressure_in': 30.6, 'precip_mm': 0.8, 'precip_in': 0.03, 'humidity': 78, 'cloud': 80, 'feelslike_c': 32.8, 'feelslike_f': 91.0, 'windchill_c': 28.3, 'windchill_f': 82.9, 'heatindex_c': 32.8, 'heatindex_f': 91.0, 'dewpoint_c': 24.1, 'dewpoint_f': 75.4, 'will_it_rain': 0, 'chance_of_rain': '69', 'will_it_snow': 0, 'chance_of_snow': '0', 'vis_km': 9.0, 'vis_miles': 5.0, 'gust_mph': 15.9, 'gust_kph': 25.6, 'uv': 6.0}, {'time_epoch': 1624197600, 'time': '2021-06-20 10:00', 'temp_c': 28.7, 'temp_f': 83.7, 'is_day': 1, 'condition': {'text': 'Patchy rain possible', 'icon': '//cdn.weatherapi.com/weather/64x64/day/176.png', 'code': 1063}, 'wind_mph': 12.3, 'wind_kph': 19.8, 'wind_degree': 161, 'wind_dir': 'SSE', 'pressure_mb': 1019.0, 'pressure_in': 30.6, 'precip_mm': 1.0, 'precip_in': 0.04, 'humidity': 77, 'cloud': 80, 'feelslike_c': 33.3, 'feelslike_f': 91.9, 'windchill_c': 28.7, 'windchill_f': 83.7, 'heatindex_c': 33.3, 'heatindex_f': 91.9, 'dewpoint_c': 24.2, 'dewpoint_f': 75.6, 'will_it_rain': 1, 'chance_of_rain': '79', 'will_it_snow': 0, 'chance_of_snow': '0', 'vis_km': 9.0, 'vis_miles': 5.0, 'gust_mph': 16.8, 'gust_kph': 27.0, 'uv': 6.0}, {'time_epoch': 1624201200, 'time': '2021-06-20 11:00', 'temp_c': 29.0, 'temp_f': 84.2, 'is_day': 1, 'condition': {'text': 'Patchy rain possible', 'icon': '//cdn.weatherapi.com/weather/64x64/day/176.png', 'code': 1063}, 'wind_mph': 13.2, 'wind_kph': 21.2, 'wind_degree': 158, 'wind_dir': 'SSE', 'pressure_mb': 1019.0, 'pressure_in': 30.6, 'precip_mm': 1.2, 'precip_in': 0.05, 'humidity': 76, 'cloud': 80, 'feelslike_c': 33.9, 'feelslike_f': 93.0, 'windchill_c': 29.0, 'windchill_f': 84.2, 'heatindex_c': 33.9, 'heatindex_f': 93.0, 'dewpoint_c': 24.3, 'dewpoint_f': 75.7, 'will_it_rain': 1, 'chance_of_rain': '88', 'will_it_snow': 0, 'chance_of_snow': '0', 'vis_km': 9.0, 'vis_miles': 5.0, 'gust_mph': 17.9, 'gust_kph': 28.8, 'uv': 6.0}, {'time_epoch': 1624204800, 'time': '2021-06-20 12:00', 'temp_c': 29.2, 'temp_f': 84.6, 'is_day': 1, 'condition': {'text': 'Patchy rain possible', 'icon': '//cdn.weatherapi.com/weather/64x64/day/176.png', 'code': 1063}, 'wind_mph': 12.8, 'wind_kph': 20.5, 'wind_degree': 160, 'wind_dir': 'SSE', 'pressure_mb': 1019.0, 'pressure_in': 30.6, 'precip_mm': 1.0, 'precip_in': 0.04, 'humidity': 75, 'cloud': 79, 'feelslike_c': 34.1, 'feelslike_f': 93.4, 'windchill_c': 29.2, 'windchill_f': 84.6, 'heatindex_c': 34.1, 'heatindex_f': 93.4, 'dewpoint_c': 24.2, 'dewpoint_f': 75.6, 'will_it_rain': 1, 'chance_of_rain': '83', 'will_it_snow': 0, 'chance_of_snow': '0', 'vis_km': 9.0, 'vis_miles': 5.0, 'gust_mph': 17.0, 'gust_kph': 27.4, 'uv': 6.0}, {'time_epoch': 1624208400, 'time': '2021-06-20 13:00', 'temp_c': 29.4, 'temp_f': 84.9, 'is_day': 1, 'condition': {'text': 'Patchy rain possible', 'icon': '//cdn.weatherapi.com/weather/64x64/day/176.png', 'code': 1063}, 'wind_mph': 12.5, 'wind_kph': 20.2, 'wind_degree': 162, 'wind_dir': 'SSE', 'pressure_mb': 1019.0, 'pressure_in': 30.6, 'precip_mm': 0.9, 'precip_in': 0.04, 'humidity': 73, 'cloud': 79, 'feelslike_c': 34.3, 'feelslike_f': 93.7, 'windchill_c': 29.4, 'windchill_f': 84.9, 'heatindex_c': 34.3, 'heatindex_f': 93.7, 'dewpoint_c': 24.2, 'dewpoint_f': 75.6, 'will_it_rain': 1, 'chance_of_rain': '77', 'will_it_snow': 0, 'chance_of_snow': '0', 'vis_km': 9.0, 'vis_miles': 5.0, 'gust_mph': 16.1, 'gust_kph': 25.9, 'uv': 6.0}, {'time_epoch': 1624212000, 'time': '2021-06-20 14:00', 'temp_c': 29.6, 'temp_f': 85.3, 'is_day': 1, 'condition': {'text': 'Patchy rain possible', 'icon': '//cdn.weatherapi.com/weather/64x64/day/176.png', 'code': 1063}, 'wind_mph': 12.1, 'wind_kph': 19.4, 'wind_degree': 164, 'wind_dir': 'SSE', 'pressure_mb': 1018.0, 'pressure_in': 30.5, 'precip_mm': 0.7, 'precip_in': 0.03, 'humidity': 72, 'cloud': 78, 'feelslike_c': 34.5, 'feelslike_f': 94.1, 'windchill_c': 29.6, 'windchill_f': 85.3, 'heatindex_c': 34.5, 'heatindex_f': 94.1, 'dewpoint_c': 24.1, 'dewpoint_f': 75.4, 'will_it_rain': 1, 'chance_of_rain': '72', 'will_it_snow': 0, 'chance_of_snow': '0', 'vis_km': 9.0, 'vis_miles': 5.0, 'gust_mph': 15.2, 'gust_kph': 24.5, 'uv': 6.0}, {'time_epoch': 1624215600, 'time': '2021-06-20 15:00', 'temp_c': 29.6, 'temp_f': 85.3, 'is_day': 1, 'condition': {'text': 'Patchy rain possible', 'icon': '//cdn.weatherapi.com/weather/64x64/day/176.png', 'code': 1063}, 'wind_mph': 12.1, 'wind_kph': 19.4, 'wind_degree': 162, 'wind_dir': 'SSE', 'pressure_mb': 1018.0, 'pressure_in': 30.5, 'precip_mm': 0.5, 'precip_in': 0.02, 'humidity': 72, 'cloud': 81, 'feelslike_c': 34.5, 'feelslike_f': 94.1, 'windchill_c': 29.6, 'windchill_f': 85.3, 'heatindex_c': 34.5, 'heatindex_f': 94.1, 'dewpoint_c': 24.0, 'dewpoint_f': 75.2, 'will_it_rain': 1, 'chance_of_rain': '77', 'will_it_snow': 0, 'chance_of_snow': '0', 'vis_km': 9.3, 'vis_miles': 5.0, 'gust_mph': 15.2, 'gust_kph': 24.5, 'uv': 6.0}, {'time_epoch': 1624219200, 'time': '2021-06-20 16:00', 'temp_c': 29.7, 'temp_f': 85.5, 'is_day': 1, 'condition': {'text': 'Patchy rain possible', 'icon': '//cdn.weatherapi.com/weather/64x64/day/176.png', 'code': 1063}, 'wind_mph': 12.1, 'wind_kph': 19.4, 'wind_degree': 160, 'wind_dir': 'SSE', 'pressure_mb': 1017.0, 'pressure_in': 30.5, 'precip_mm': 0.3, 'precip_in': 0.01, 'humidity': 71, 'cloud': 85, 'feelslike_c': 34.4, 'feelslike_f': 93.9, 'windchill_c': 29.7, 'windchill_f': 85.5, 'heatindex_c': 34.4, 'heatindex_f': 93.9, 'dewpoint_c': 23.8, 'dewpoint_f': 74.8, 'will_it_rain': 1, 'chance_of_rain': '81', 'will_it_snow': 0, 'chance_of_snow': '0', 'vis_km': 9.7, 'vis_miles': 6.0, 'gust_mph': 15.2, 'gust_kph': 24.5, 'uv': 6.0}, {'time_epoch': 1624222800, 'time': '2021-06-20 17:00', 'temp_c': 29.7, 'temp_f': 85.5, 'is_day': 1, 'condition': {'text': 'Patchy rain possible', 'icon': '//cdn.weatherapi.com/weather/64x64/day/176.png', 'code': 1063}, 'wind_mph': 12.1, 'wind_kph': 19.4, 'wind_degree': 157, 'wind_dir': 'SSE', 'pressure_mb': 1017.0, 'pressure_in': 30.5, 'precip_mm': 0.1, 'precip_in': 0.0, 'humidity': 70, 'cloud': 88, 'feelslike_c': 34.4, 'feelslike_f': 93.9, 'windchill_c': 29.7, 'windchill_f': 85.5, 'heatindex_c': 34.4, 'heatindex_f': 93.9, 'dewpoint_c': 23.7, 'dewpoint_f': 74.7, 'will_it_rain': 1, 'chance_of_rain': '86', 'will_it_snow': 0, 'chance_of_snow': '0', 'vis_km': 10.0, 'vis_miles': 6.0, 'gust_mph': 15.2, 'gust_kph': 24.5, 'uv': 6.0}, {'time_epoch': 1624226400, 'time': '2021-06-20 18:00', 'temp_c': 29.5, 'temp_f': 85.1, 'is_day': 1, 'condition': {'text': 'Partly cloudy', 'icon': '//cdn.weatherapi.com/weather/64x64/day/116.png', 'code': 1003}, 'wind_mph': 11.4, 'wind_kph': 18.4, 'wind_degree': 161, 'wind_dir': 'SSE', 'pressure_mb': 1017.0, 'pressure_in': 30.5, 'precip_mm': 0.1, 'precip_in': 0.0, 'humidity': 71, 'cloud': 61, 'feelslike_c': 34.2, 'feelslike_f': 93.6, 'windchill_c': 29.5, 'windchill_f': 85.1, 'heatindex_c': 34.2, 'heatindex_f': 93.6, 'dewpoint_c': 23.8, 'dewpoint_f': 74.8, 'will_it_rain': 0, 'chance_of_rain': '57', 'will_it_snow': 0, 'chance_of_snow': '0', 'vis_km': 10.0, 'vis_miles': 6.0, 'gust_mph': 14.8, 'gust_kph': 23.8, 'uv': 7.0}, {'time_epoch': 1624230000, 'time': '2021-06-20 19:00', 'temp_c': 29.3, 'temp_f': 84.7, 'is_day': 1, 'condition': {'text': 'Patchy rain possible', 'icon': '//cdn.weatherapi.com/weather/64x64/day/176.png', 'code': 1063}, 'wind_mph': 11.0, 'wind_kph': 17.6, 'wind_degree': 164, 'wind_dir': 'SSE', 'pressure_mb': 1018.0, 'pressure_in': 30.5, 'precip_mm': 0.0, 'precip_in': 0.0, 'humidity': 73, 'cloud': 34, 'feelslike_c': 33.9, 'feelslike_f': 93.0, 'windchill_c': 29.3, 'windchill_f': 84.7, 'heatindex_c': 33.9, 'heatindex_f': 93.0, 'dewpoint_c': 23.8, 'dewpoint_f': 74.8, 'will_it_rain': 0, 'chance_of_rain': '29', 'will_it_snow': 0, 'chance_of_snow': '0', 'vis_km': 10.0, 'vis_miles': 6.0, 'gust_mph': 14.3, 'gust_kph': 23.0, 'uv': 6.0}, {'time_epoch': 1624233600, 'time': '2021-06-20 20:00', 'temp_c': 29.1, 'temp_f': 84.4, 'is_day': 1, 'condition': {'text': 'Partly cloudy', 'icon': '//cdn.weatherapi.com/weather/64x64/day/116.png', 'code': 1003}, 'wind_mph': 10.3, 'wind_kph': 16.6, 'wind_degree': 167, 'wind_dir': 'SSE', 'pressure_mb': 1018.0, 'pressure_in': 30.5, 'precip_mm': 0.0, 'precip_in': 0.0, 'humidity': 74, 'cloud': 7, 'feelslike_c': 33.7, 'feelslike_f': 92.7, 'windchill_c': 29.1, 'windchill_f': 84.4, 'heatindex_c': 33.7, 'heatindex_f': 92.7, 'dewpoint_c': 23.9, 'dewpoint_f': 75.0, 'will_it_rain': 0, 'chance_of_rain': '0', 'will_it_snow': 0, 'chance_of_snow': '0', 'vis_km': 10.0, 'vis_miles': 6.0, 'gust_mph': 13.9, 'gust_kph': 22.3, 'uv': 7.0}, {'time_epoch': 1624237200, 'time': '2021-06-20 21:00', 'temp_c': 28.9, 'temp_f': 84.0, 'is_day': 0, 'condition': {'text': 'Patchy rain possible', 'icon': '//cdn.weatherapi.com/weather/64x64/night/176.png', 'code': 1063}, 'wind_mph': 10.1, 'wind_kph': 16.2, 'wind_degree': 166, 'wind_dir': 'SSE', 'pressure_mb': 1018.0, 'pressure_in': 30.5, 'precip_mm': 0.2, 'precip_in': 0.01, 'humidity': 75, 'cloud': 32, 'feelslike_c': 33.5, 'feelslike_f': 92.3, 'windchill_c': 28.9, 'windchill_f': 84.0, 'heatindex_c': 33.5, 'heatindex_f': 92.3, 'dewpoint_c': 24.0, 'dewpoint_f': 75.2, 'will_it_rain': 0, 'chance_of_rain': '25', 'will_it_snow': 0, 'chance_of_snow': '0', 'vis_km': 9.7, 'vis_miles': 6.0, 'gust_mph': 13.6, 'gust_kph': 22.0, 'uv': 1.0}, {'time_epoch': 1624240800, 'time': '2021-06-20 22:00', 'temp_c': 28.7, 'temp_f': 83.7, 'is_day': 0, 'condition': {'text': 'Partly cloudy', 'icon': '//cdn.weatherapi.com/weather/64x64/night/116.png', 'code': 1003}, 'wind_mph': 9.8, 'wind_kph': 15.8, 'wind_degree': 165, 'wind_dir': 'SSE', 'pressure_mb': 1018.0, 'pressure_in': 30.6, 'precip_mm': 0.3, 'precip_in': 0.01, 'humidity': 77, 'cloud': 57, 'feelslike_c': 33.3, 'feelslike_f': 91.9, 'windchill_c': 28.7, 'windchill_f': 83.7, 'heatindex_c': 33.3, 'heatindex_f': 91.9, 'dewpoint_c': 24.2, 'dewpoint_f': 75.6, 'will_it_rain': 0, 'chance_of_rain': '50', 'will_it_snow': 0, 'chance_of_snow': '0', 'vis_km': 9.3, 'vis_miles': 5.0, 'gust_mph': 13.2, 'gust_kph': 21.2, 'uv': 1.0}, {'time_epoch': 1624244400, 'time': '2021-06-20 23:00', 'temp_c': 28.5, 'temp_f': 83.3, 'is_day': 0, 'condition': {'text': 'Patchy rain possible', 'icon': '//cdn.weatherapi.com/weather/64x64/night/176.png', 'code': 1063}, 'wind_mph': 9.6, 'wind_kph': 15.5, 'wind_degree': 164, 'wind_dir': 'SSE', 'pressure_mb': 1019.0, 'pressure_in': 30.6, 'precip_mm': 0.5, 'precip_in': 0.02, 'humidity': 78, 'cloud': 82, 'feelslike_c': 33.1, 'feelslike_f': 91.6, 'windchill_c': 28.5, 'windchill_f': 83.3, 'heatindex_c': 33.1, 'heatindex_f': 91.6, 'dewpoint_c': 24.3, 'dewpoint_f': 75.7, 'will_it_rain': 1, 'chance_of_rain': '75', 'will_it_snow': 0, 'chance_of_snow': '0', 'vis_km': 9.0, 'vis_miles': 5.0, 'gust_mph': 13.0, 'gust_kph': 20.9, 'uv': 1.0}]}, {'date': '2021-06-21', 'date_epoch': 1624233600, 'day': {'maxtemp_c': 29.5, 'maxtemp_f': 85.1, 'mintemp_c': 28.0, 'mintemp_f': 82.4, 'avgtemp_c': 28.6, 'avgtemp_f': 83.5, 'maxwind_mph': 15.0, 'maxwind_kph': 24.1, 'totalprecip_mm': 0.3, 'totalprecip_in': 0.01, 'avgvis_km': 9.9, 'avgvis_miles': 6.0, 'avghumidity': 72.0, 'daily_will_it_rain': 0, 'daily_chance_of_rain': '67', 'daily_will_it_snow': 0, 'daily_chance_of_snow': '0', 'condition': {'text': 'Patchy rain possible', 'icon': '//cdn.weatherapi.com/weather/64x64/day/176.png', 'code': 1063}, 'uv': 11.0}, 'astro': {'sunrise': '06:30 AM', 'sunset': '08:15 PM', 'moonrise': '05:05 PM', 'moonset': '03:37 AM', 'moon_phase': 'Full Moon', 'moon_illumination': '83'}, 'hour': [{'time_epoch': 1624248000, 'time': '2021-06-21 00:00', 'temp_c': 28.4, 'temp_f': 83.1, 'is_day': 0, 'condition': {'text': 'Patchy rain possible', 'icon': '//cdn.weatherapi.com/weather/64x64/night/176.png', 'code': 1063}, 'wind_mph': 10.3, 'wind_kph': 16.6, 'wind_degree': 160, 'wind_dir': 'SSE', 'pressure_mb': 1018.0, 'pressure_in': 30.5, 'precip_mm': 0.4, 'precip_in': 0.02, 'humidity': 77, 'cloud': 81, 'feelslike_c': 32.9, 'feelslike_f': 91.2, 'windchill_c': 28.4, 'windchill_f': 83.1, 'heatindex_c': 32.9, 'heatindex_f': 91.2, 'dewpoint_c': 24.1, 'dewpoint_f': 75.4, 'will_it_rain': 1, 'chance_of_rain': '72', 'will_it_snow': 0, 'chance_of_snow': '0', 'vis_km': 9.0, 'vis_miles': 5.0, 'gust_mph': 13.6, 'gust_kph': 22.0, 'uv': 1.0}, {'time_epoch': 1624251600, 'time': '2021-06-21 01:00', 'temp_c': 28.4, 'temp_f': 83.1, 'is_day': 0, 'condition': {'text': 'Patchy rain possible', 'icon': '//cdn.weatherapi.com/weather/64x64/night/176.png', 'code': 1063}, 'wind_mph': 10.7, 'wind_kph': 17.3, 'wind_degree': 156, 'wind_dir': 'SSE', 'pressure_mb': 1018.0, 'pressure_in': 30.5, 'precip_mm': 0.4, 'precip_in': 0.02, 'humidity': 77, 'cloud': 79, 'feelslike_c': 32.6, 'feelslike_f': 90.7, 'windchill_c': 28.4, 'windchill_f': 83.1, 'heatindex_c': 32.6, 'heatindex_f': 90.7, 'dewpoint_c': 23.9, 'dewpoint_f': 75.0, 'will_it_rain': 0, 'chance_of_rain': '70', 'will_it_snow': 0, 'chance_of_snow': '0', 'vis_km': 9.0, 'vis_miles': 5.0, 'gust_mph': 14.5, 'gust_kph': 23.4, 'uv': 1.0}, {'time_epoch': 1624255200, 'time': '2021-06-21 02:00', 'temp_c': 28.3, 'temp_f': 82.9, 'is_day': 0, 'condition': {'text': 'Patchy rain possible', 'icon': '//cdn.weatherapi.com/weather/64x64/night/176.png', 'code': 1063}, 'wind_mph': 11.4, 'wind_kph': 18.4, 'wind_degree': 152, 'wind_dir': 'SSE', 'pressure_mb': 1018.0, 'pressure_in': 30.5, 'precip_mm': 0.3, 'precip_in': 0.01, 'humidity': 76, 'cloud': 78, 'feelslike_c': 32.4, 'feelslike_f': 90.3, 'windchill_c': 28.3, 'windchill_f': 82.9, 'heatindex_c': 32.4, 'heatindex_f': 90.3, 'dewpoint_c': 23.7, 'dewpoint_f': 74.7, 'will_it_rain': 0, 'chance_of_rain': '67', 'will_it_snow': 0, 'chance_of_snow': '0', 'vis_km': 9.0, 'vis_miles': 5.0, 'gust_mph': 15.2, 'gust_kph': 24.5, 'uv': 1.0}, {'time_epoch': 1624258800, 'time': '2021-06-21 03:00', 'temp_c': 28.2, 'temp_f': 82.8, 'is_day': 0, 'condition': {'text': 'Cloudy', 'icon': '//cdn.weatherapi.com/weather/64x64/night/119.png', 'code': 1006}, 'wind_mph': 12.1, 'wind_kph': 19.4, 'wind_degree': 151, 'wind_dir': 'SSE', 'pressure_mb': 1018.0, 'pressure_in': 30.5, 'precip_mm': 0.2, 'precip_in': 0.01, 'humidity': 77, 'cloud': 74, 'feelslike_c': 32.3, 'feelslike_f': 90.1, 'windchill_c': 28.2, 'windchill_f': 82.8, 'heatindex_c': 32.3, 'heatindex_f': 90.1, 'dewpoint_c': 23.7, 'dewpoint_f': 74.7, 'will_it_rain': 0, 'chance_of_rain': '45', 'will_it_snow': 0, 'chance_of_snow': '0', 'vis_km': 9.3, 'vis_miles': 5.0, 'gust_mph': 16.1, 'gust_kph': 25.9, 'uv': 1.0}, {'time_epoch': 1624262400, 'time': '2021-06-21 04:00', 'temp_c': 28.2, 'temp_f': 82.8, 'is_day': 0, 'condition': {'text': 'Patchy rain possible', 'icon': '//cdn.weatherapi.com/weather/64x64/night/176.png', 'code': 1063}, 'wind_mph': 12.8, 'wind_kph': 20.5, 'wind_degree': 150, 'wind_dir': 'SSE', 'pressure_mb': 1017.0, 'pressure_in': 30.5, 'precip_mm': 0.1, 'precip_in': 0.0, 'humidity': 77, 'cloud': 71, 'feelslike_c': 32.2, 'feelslike_f': 90.0, 'windchill_c': 28.2, 'windchill_f': 82.8, 'heatindex_c': 32.2, 'heatindex_f': 90.0, 'dewpoint_c': 23.8, 'dewpoint_f': 74.8, 'will_it_rain': 0, 'chance_of_rain': '22', 'will_it_snow': 0, 'chance_of_snow': '0', 'vis_km': 9.7, 'vis_miles': 6.0, 'gust_mph': 17.2, 'gust_kph': 27.7, 'uv': 1.0}, {'time_epoch': 1624266000, 'time': '2021-06-21 05:00', 'temp_c': 28.1, 'temp_f': 82.6, 'is_day': 0, 'condition': {'text': 'Cloudy', 'icon': '//cdn.weatherapi.com/weather/64x64/night/119.png', 'code': 1006}, 'wind_mph': 13.4, 'wind_kph': 21.6, 'wind_degree': 148, 'wind_dir': 'SSE', 'pressure_mb': 1017.0, 'pressure_in': 30.5, 'precip_mm': 0.0, 'precip_in': 0.0, 'humidity': 77, 'cloud': 67, 'feelslike_c': 32.1, 'feelslike_f': 89.8, 'windchill_c': 28.1, 'windchill_f': 82.6, 'heatindex_c': 32.1, 'heatindex_f': 89.8, 'dewpoint_c': 23.8, 'dewpoint_f': 74.8, 'will_it_rain': 0, 'chance_of_rain': '0', 'will_it_snow': 0, 'chance_of_snow': '0', 'vis_km': 10.0, 'vis_miles': 6.0, 'gust_mph': 18.1, 'gust_kph': 29.2, 'uv': 1.0}, {'time_epoch': 1624269600, 'time': '2021-06-21 06:00', 'temp_c': 28.1, 'temp_f': 82.6, 'is_day': 0, 'condition': {'text': 'Cloudy', 'icon': '//cdn.weatherapi.com/weather/64x64/night/119.png', 'code': 1006}, 'wind_mph': 13.9, 'wind_kph': 22.3, 'wind_degree': 147, 'wind_dir': 'SSE', 'pressure_mb': 1018.0, 'pressure_in': 30.5, 'precip_mm': 0.0, 'precip_in': 0.0, 'humidity': 76, 'cloud': 71, 'feelslike_c': 31.9, 'feelslike_f': 89.4, 'windchill_c': 28.1, 'windchill_f': 82.6, 'heatindex_c': 31.9, 'heatindex_f': 89.4, 'dewpoint_c': 23.5, 'dewpoint_f': 74.3, 'will_it_rain': 0, 'chance_of_rain': '0', 'will_it_snow': 0, 'chance_of_snow': '0', 'vis_km': 10.0, 'vis_miles': 6.0, 'gust_mph': 18.8, 'gust_kph': 30.2, 'uv': 1.0}, {'time_epoch': 1624273200, 'time': '2021-06-21 07:00', 'temp_c': 28.0, 'temp_f': 82.4, 'is_day': 1, 'condition': {'text': 'Cloudy', 'icon': '//cdn.weatherapi.com/weather/64x64/day/119.png', 'code': 1006}, 'wind_mph': 14.5, 'wind_kph': 23.4, 'wind_degree': 146, 'wind_dir': 'SSE', 'pressure_mb': 1018.0, 'pressure_in': 30.5, 'precip_mm': 0.0, 'precip_in': 0.0, 'humidity': 75, 'cloud': 74, 'feelslike_c': 31.6, 'feelslike_f': 88.9, 'windchill_c': 28.0, 'windchill_f': 82.4, 'heatindex_c': 31.6, 'heatindex_f': 88.9, 'dewpoint_c': 23.2, 'dewpoint_f': 73.8, 'will_it_rain': 0, 'chance_of_rain': '0', 'will_it_snow': 0, 'chance_of_snow': '0', 'vis_km': 10.0, 'vis_miles': 6.0, 'gust_mph': 19.5, 'gust_kph': 31.3, 'uv': 6.0}, {'time_epoch': 1624276800, 'time': '2021-06-21 08:00', 'temp_c': 28.0, 'temp_f': 82.4, 'is_day': 1, 'condition': {'text': 'Cloudy', 'icon': '//cdn.weatherapi.com/weather/64x64/day/119.png', 'code': 1006}, 'wind_mph': 15.0, 'wind_kph': 24.1, 'wind_degree': 145, 'wind_dir': 'SE', 'pressure_mb': 1018.0, 'pressure_in': 30.5, 'precip_mm': 0.0, 'precip_in': 0.0, 'humidity': 74, 'cloud': 78, 'feelslike_c': 31.4, 'feelslike_f': 88.5, 'windchill_c': 28.0, 'windchill_f': 82.4, 'heatindex_c': 31.4, 'heatindex_f': 88.5, 'dewpoint_c': 22.9, 'dewpoint_f': 73.2, 'will_it_rain': 0, 'chance_of_rain': '0', 'will_it_snow': 0, 'chance_of_snow': '0', 'vis_km': 10.0, 'vis_miles': 6.0, 'gust_mph': 20.1, 'gust_kph': 32.4, 'uv': 6.0}, {'time_epoch': 1624280400, 'time': '2021-06-21 09:00', 'temp_c': 28.3, 'temp_f': 82.9, 'is_day': 1, 'condition': {'text': 'Partly cloudy', 'icon': '//cdn.weatherapi.com/weather/64x64/day/116.png', 'code': 1003}, 'wind_mph': 14.5, 'wind_kph': 23.4, 'wind_degree': 148, 'wind_dir': 'SSE', 'pressure_mb': 1018.0, 'pressure_in': 30.6, 'precip_mm': 0.0, 'precip_in': 0.0, 'humidity': 72, 'cloud': 69, 'feelslike_c': 31.6, 'feelslike_f': 88.9, 'windchill_c': 28.3, 'windchill_f': 82.9, 'heatindex_c': 31.6, 'heatindex_f': 88.9, 'dewpoint_c': 22.7, 'dewpoint_f': 72.9, 'will_it_rain': 0, 'chance_of_rain': '0', 'will_it_snow': 0, 'chance_of_snow': '0', 'vis_km': 10.0, 'vis_miles': 6.0, 'gust_mph': 19.0, 'gust_kph': 30.6, 'uv': 7.0}, {'time_epoch': 1624284000, 'time': '2021-06-21 10:00', 'temp_c': 28.5, 'temp_f': 83.3, 'is_day': 1, 'condition': {'text': 'Cloudy', 'icon': '//cdn.weatherapi.com/weather/64x64/day/119.png', 'code': 1006}, 'wind_mph': 14.3, 'wind_kph': 23.0, 'wind_degree': 152, 'wind_dir': 'SSE', 'pressure_mb': 1019.0, 'pressure_in': 30.6, 'precip_mm': 0.0, 'precip_in': 0.0, 'humidity': 70, 'cloud': 60, 'feelslike_c': 31.9, 'feelslike_f': 89.4, 'windchill_c': 28.5, 'windchill_f': 83.3, 'heatindex_c': 31.9, 'heatindex_f': 89.4, 'dewpoint_c': 22.5, 'dewpoint_f': 72.5, 'will_it_rain': 0, 'chance_of_rain': '0', 'will_it_snow': 0, 'chance_of_snow': '0', 'vis_km': 10.0, 'vis_miles': 6.0, 'gust_mph': 18.1, 'gust_kph': 29.2, 'uv': 6.0}, {'time_epoch': 1624287600, 'time': '2021-06-21 11:00', 'temp_c': 28.8, 'temp_f': 83.8, 'is_day': 1, 'condition': {'text': 'Partly cloudy', 'icon': '//cdn.weatherapi.com/weather/64x64/day/116.png', 'code': 1003}, 'wind_mph': 13.9, 'wind_kph': 22.3, 'wind_degree': 156, 'wind_dir': 'SSE', 'pressure_mb': 1019.0, 'pressure_in': 30.6, 'precip_mm': 0.0, 'precip_in': 0.0, 'humidity': 68, 'cloud': 52, 'feelslike_c': 32.1, 'feelslike_f': 89.8, 'windchill_c': 28.8, 'windchill_f': 83.8, 'heatindex_c': 32.1, 'heatindex_f': 89.8, 'dewpoint_c': 22.3, 'dewpoint_f': 72.1, 'will_it_rain': 0, 'chance_of_rain': '0', 'will_it_snow': 0, 'chance_of_snow': '0', 'vis_km': 10.0, 'vis_miles': 6.0, 'gust_mph': 17.0, 'gust_kph': 27.4, 'uv': 7.0}, {'time_epoch': 1624291200, 'time': '2021-06-21 12:00', 'temp_c': 29.0, 'temp_f': 84.2, 'is_day': 1, 'condition': {'text': 'Cloudy', 'icon': '//cdn.weatherapi.com/weather/64x64/day/119.png', 'code': 1006}, 'wind_mph': 12.3, 'wind_kph': 19.8, 'wind_degree': 155, 'wind_dir': 'SSE', 'pressure_mb': 1019.0, 'pressure_in': 30.6, 'precip_mm': 0.0, 'precip_in': 0.0, 'humidity': 67, 'cloud': 59, 'feelslike_c': 32.3, 'feelslike_f': 90.1, 'windchill_c': 29.0, 'windchill_f': 84.2, 'heatindex_c': 32.3, 'heatindex_f': 90.1, 'dewpoint_c': 22.3, 'dewpoint_f': 72.1, 'will_it_rain': 0, 'chance_of_rain': '0', 'will_it_snow': 0, 'chance_of_snow': '0', 'vis_km': 10.0, 'vis_miles': 6.0, 'gust_mph': 15.2, 'gust_kph': 24.5, 'uv': 6.0}, {'time_epoch': 1624294800, 'time': '2021-06-21 13:00', 'temp_c': 29.1, 'temp_f': 84.4, 'is_day': 1, 'condition': {'text': 'Partly cloudy', 'icon': '//cdn.weatherapi.com/weather/64x64/day/116.png', 'code': 1003}, 'wind_mph': 10.7, 'wind_kph': 17.3, 'wind_degree': 153, 'wind_dir': 'SSE', 'pressure_mb': 1019.0, 'pressure_in': 30.6, 'precip_mm': 0.0, 'precip_in': 0.0, 'humidity': 67, 'cloud': 65, 'feelslike_c': 32.6, 'feelslike_f': 90.7, 'windchill_c': 29.1, 'windchill_f': 84.4, 'heatindex_c': 32.6, 'heatindex_f': 90.7, 'dewpoint_c': 22.3, 'dewpoint_f': 72.1, 'will_it_rain': 0, 'chance_of_rain': '0', 'will_it_snow': 0, 'chance_of_snow': '0', 'vis_km': 10.0, 'vis_miles': 6.0, 'gust_mph': 13.4, 'gust_kph': 21.6, 'uv': 7.0}, {'time_epoch': 1624298400, 'time': '2021-06-21 14:00', 'temp_c': 29.3, 'temp_f': 84.7, 'is_day': 1, 'condition': {'text': 'Cloudy', 'icon': '//cdn.weatherapi.com/weather/64x64/day/119.png', 'code': 1006}, 'wind_mph': 9.2, 'wind_kph': 14.8, 'wind_degree': 152, 'wind_dir': 'SSE', 'pressure_mb': 1019.0, 'pressure_in': 30.6, 'precip_mm': 0.0, 'precip_in': 0.0, 'humidity': 66, 'cloud': 72, 'feelslike_c': 32.8, 'feelslike_f': 91.0, 'windchill_c': 29.3, 'windchill_f': 84.7, 'heatindex_c': 32.8, 'heatindex_f': 91.0, 'dewpoint_c': 22.3, 'dewpoint_f': 72.1, 'will_it_rain': 0, 'chance_of_rain': '0', 'will_it_snow': 0, 'chance_of_snow': '0', 'vis_km': 10.0, 'vis_miles': 6.0, 'gust_mph': 11.6, 'gust_kph': 18.7, 'uv': 6.0}, {'time_epoch': 1624302000, 'time': '2021-06-21 15:00', 'temp_c': 29.4, 'temp_f': 84.9, 'is_day': 1, 'condition': {'text': 'Partly cloudy', 'icon': '//cdn.weatherapi.com/weather/64x64/day/116.png', 'code': 1003}, 'wind_mph': 8.7, 'wind_kph': 14.0, 'wind_degree': 140, 'wind_dir': 'SE', 'pressure_mb': 1018.0, 'pressure_in': 30.5, 'precip_mm': 0.0, 'precip_in': 0.0, 'humidity': 66, 'cloud': 59, 'feelslike_c': 32.8, 'feelslike_f': 91.0, 'windchill_c': 29.4, 'windchill_f': 84.9, 'heatindex_c': 32.8, 'heatindex_f': 91.0, 'dewpoint_c': 22.2, 'dewpoint_f': 72.0, 'will_it_rain': 0, 'chance_of_rain': '0', 'will_it_snow': 0, 'chance_of_snow': '0', 'vis_km': 10.0, 'vis_miles': 6.0, 'gust_mph': 11.2, 'gust_kph': 18.0, 'uv': 7.0}, {'time_epoch': 1624305600, 'time': '2021-06-21 16:00', 'temp_c': 29.4, 'temp_f': 84.9, 'is_day': 1, 'condition': {'text': 'Cloudy', 'icon': '//cdn.weatherapi.com/weather/64x64/day/119.png', 'code': 1006}, 'wind_mph': 8.3, 'wind_kph': 13.3, 'wind_degree': 129, 'wind_dir': 'SE', 'pressure_mb': 1018.0, 'pressure_in': 30.5, 'precip_mm': 0.0, 'precip_in': 0.0, 'humidity': 65, 'cloud': 46, 'feelslike_c': 32.9, 'feelslike_f': 91.2, 'windchill_c': 29.4, 'windchill_f': 84.9, 'heatindex_c': 32.9, 'heatindex_f': 91.2, 'dewpoint_c': 22.2, 'dewpoint_f': 72.0, 'will_it_rain': 0, 'chance_of_rain': '0', 'will_it_snow': 0, 'chance_of_snow': '0', 'vis_km': 10.0, 'vis_miles': 6.0, 'gust_mph': 10.5, 'gust_kph': 16.9, 'uv': 6.0}, {'time_epoch': 1624309200, 'time': '2021-06-21 17:00', 'temp_c': 29.5, 'temp_f': 85.1, 'is_day': 1, 'condition': {'text': 'Partly cloudy', 'icon': '//cdn.weatherapi.com/weather/64x64/day/116.png', 'code': 1003}, 'wind_mph': 7.8, 'wind_kph': 12.6, 'wind_degree': 117, 'wind_dir': 'ESE', 'pressure_mb': 1017.0, 'pressure_in': 30.5, 'precip_mm': 0.0, 'precip_in': 0.0, 'humidity': 64, 'cloud': 33, 'feelslike_c': 32.9, 'feelslike_f': 91.2, 'windchill_c': 29.5, 'windchill_f': 85.1, 'heatindex_c': 32.9, 'heatindex_f': 91.2, 'dewpoint_c': 22.1, 'dewpoint_f': 71.8, 'will_it_rain': 0, 'chance_of_rain': '0', 'will_it_snow': 0, 'chance_of_snow': '0', 'vis_km': 10.0, 'vis_miles': 6.0, 'gust_mph': 10.1, 'gust_kph': 16.2, 'uv': 7.0}, {'time_epoch': 1624312800, 'time': '2021-06-21 18:00', 'temp_c': 29.3, 'temp_f': 84.7, 'is_day': 1, 'condition': {'text': 'Partly cloudy', 'icon': '//cdn.weatherapi.com/weather/64x64/day/116.png', 'code': 1003}, 'wind_mph': 8.9, 'wind_kph': 14.4, 'wind_degree': 117, 'wind_dir': 'ESE', 'pressure_mb': 1017.0, 'pressure_in': 30.5, 'precip_mm': 0.0, 'precip_in': 0.0, 'humidity': 67, 'cloud': 26, 'feelslike_c': 32.8, 'feelslike_f': 91.0, 'windchill_c': 29.3, 'windchill_f': 84.7, 'heatindex_c': 32.8, 'heatindex_f': 91.0, 'dewpoint_c': 22.4, 'dewpoint_f': 72.3, 'will_it_rain': 0, 'chance_of_rain': '0', 'will_it_snow': 0, 'chance_of_snow': '0', 'vis_km': 10.0, 'vis_miles': 6.0, 'gust_mph': 11.6, 'gust_kph': 18.7, 'uv': 7.0}, {'time_epoch': 1624316400, 'time': '2021-06-21 19:00', 'temp_c': 29.0, 'temp_f': 84.2, 'is_day': 1, 'condition': {'text': 'Partly cloudy', 'icon': '//cdn.weatherapi.com/weather/64x64/day/116.png', 'code': 1003}, 'wind_mph': 10.1, 'wind_kph': 16.2, 'wind_degree': 116, 'wind_dir': 'ESE', 'pressure_mb': 1017.0, 'pressure_in': 30.5, 'precip_mm': 0.0, 'precip_in': 0.0, 'humidity': 69, 'cloud': 19, 'feelslike_c': 32.8, 'feelslike_f': 91.0, 'windchill_c': 29.0, 'windchill_f': 84.2, 'heatindex_c': 32.8, 'heatindex_f': 91.0, 'dewpoint_c': 22.8, 'dewpoint_f': 73.0, 'will_it_rain': 0, 'chance_of_rain': '0', 'will_it_snow': 0, 'chance_of_snow': '0', 'vis_km': 10.0, 'vis_miles': 6.0, 'gust_mph': 13.2, 'gust_kph': 21.2, 'uv': 7.0}, {'time_epoch': 1624320000, 'time': '2021-06-21 20:00', 'temp_c': 28.8, 'temp_f': 83.8, 'is_day': 1, 'condition': {'text': 'Partly cloudy', 'icon': '//cdn.weatherapi.com/weather/64x64/day/116.png', 'code': 1003}, 'wind_mph': 11.2, 'wind_kph': 18.0, 'wind_degree': 115, 'wind_dir': 'ESE', 'pressure_mb': 1017.0, 'pressure_in': 30.5, 'precip_mm': 0.0, 'precip_in': 0.0, 'humidity': 72, 'cloud': 12, 'feelslike_c': 32.7, 'feelslike_f': 90.9, 'windchill_c': 28.8, 'windchill_f': 83.8, 'heatindex_c': 32.7, 'heatindex_f': 90.9, 'dewpoint_c': 23.1, 'dewpoint_f': 73.6, 'will_it_rain': 0, 'chance_of_rain': '0', 'will_it_snow': 0, 'chance_of_snow': '0', 'vis_km': 10.0, 'vis_miles': 6.0, 'gust_mph': 14.8, 'gust_kph': 23.8, 'uv': 7.0}, {'time_epoch': 1624323600, 'time': '2021-06-21 21:00', 'temp_c': 28.6, 'temp_f': 83.5, 'is_day': 0, 'condition': {'text': 'Partly cloudy', 'icon': '//cdn.weatherapi.com/weather/64x64/night/116.png', 'code': 1003}, 'wind_mph': 12.1, 'wind_kph': 19.4, 'wind_degree': 112, 'wind_dir': 'ESE', 'pressure_mb': 1017.0, 'pressure_in': 30.5, 'precip_mm': 0.0, 'precip_in': 0.0, 'humidity': 73, 'cloud': 13, 'feelslike_c': 32.6, 'feelslike_f': 90.7, 'windchill_c': 28.6, 'windchill_f': 83.5, 'heatindex_c': 32.6, 'heatindex_f': 90.7, 'dewpoint_c': 23.3, 'dewpoint_f': 73.9, 'will_it_rain': 0, 'chance_of_rain': '0', 'will_it_snow': 0, 'chance_of_snow': '0', 'vis_km': 10.0, 'vis_miles': 6.0, 'gust_mph': 16.1, 'gust_kph': 25.9, 'uv': 1.0}, {'time_epoch': 1624327200, 'time': '2021-06-21 22:00', 'temp_c': 28.5, 'temp_f': 83.3, 'is_day': 0, 'condition': {'text': 'Partly cloudy', 'icon': '//cdn.weatherapi.com/weather/64x64/night/116.png', 'code': 1003}, 'wind_mph': 13.0, 'wind_kph': 20.9, 'wind_degree': 108, 'wind_dir': 'ESE', 'pressure_mb': 1017.0, 'pressure_in': 30.5, 'precip_mm': 0.0, 'precip_in': 0.0, 'humidity': 75, 'cloud': 14, 'feelslike_c': 32.5, 'feelslike_f': 90.5, 'windchill_c': 28.5, 'windchill_f': 83.3, 'heatindex_c': 32.5, 'heatindex_f': 90.5, 'dewpoint_c': 23.5, 'dewpoint_f': 74.3, 'will_it_rain': 0, 'chance_of_rain': '0', 'will_it_snow': 0, 'chance_of_snow': '0', 'vis_km': 10.0, 'vis_miles': 6.0, 'gust_mph': 17.2, 'gust_kph': 27.7, 'uv': 1.0}, {'time_epoch': 1624330800, 'time': '2021-06-21 23:00', 'temp_c': 28.3, 'temp_f': 82.9, 'is_day': 0, 'condition': {'text': 'Partly cloudy', 'icon': '//cdn.weatherapi.com/weather/64x64/night/116.png', 'code': 1003}, 'wind_mph': 13.9, 'wind_kph': 22.3, 'wind_degree': 105, 'wind_dir': 'ESE', 'pressure_mb': 1018.0, 'pressure_in': 30.5, 'precip_mm': 0.0, 'precip_in': 0.0, 'humidity': 76, 'cloud': 15, 'feelslike_c': 32.4, 'feelslike_f': 90.3, 'windchill_c': 28.3, 'windchill_f': 82.9, 'heatindex_c': 32.4, 'heatindex_f': 90.3, 'dewpoint_c': 23.7, 'dewpoint_f': 74.7, 'will_it_rain': 0, 'chance_of_rain': '0', 'will_it_snow': 0, 'chance_of_snow': '0', 'vis_km': 10.0, 'vis_miles': 6.0, 'gust_mph': 18.6, 'gust_kph': 29.9, 'uv': 1.0}]}, {'date': '2021-06-22', 'date_epoch': 1624320000, 'day': {'maxtemp_c': 29.4, 'maxtemp_f': 84.9, 'mintemp_c': 28.0, 'mintemp_f': 82.4, 'avgtemp_c': 28.6, 'avgtemp_f': 83.5, 'maxwind_mph': 14.5, 'maxwind_kph': 23.4, 'totalprecip_mm': 1.0, 'totalprecip_in': 0.04, 'avgvis_km': 10.0, 'avgvis_miles': 6.0, 'avghumidity': 74.0, 'daily_will_it_rain': 1, 'daily_chance_of_rain': '75', 'daily_will_it_snow': 0, 'daily_chance_of_snow': '0', 'condition': {'text': 'Patchy rain possible', 'icon': '//cdn.weatherapi.com/weather/64x64/day/176.png', 'code': 1063}, 'uv': 11.0}, 'astro': {'sunrise': '06:30 AM', 'sunset': '08:15 PM', 'moonrise': '06:14 PM', 'moonset': '04:21 AM', 'moon_phase': 'Full Moon', 'moon_illumination': '90'}, 'hour': [{'time_epoch': 1624334400, 'time': '2021-06-22 00:00', 'temp_c': 28.2, 'temp_f': 82.8, 'is_day': 0, 'condition': {'text': 'Partly cloudy', 'icon': '//cdn.weatherapi.com/weather/64x64/night/116.png', 'code': 1003}, 'wind_mph': 12.1, 'wind_kph': 19.4, 'wind_degree': 110, 'wind_dir': 'ESE', 'pressure_mb': 1018.0, 'pressure_in': 30.5, 'precip_mm': 0.0, 'precip_in': 0.0, 'humidity': 76, 'cloud': 13, 'feelslike_c': 32.3, 'feelslike_f': 90.1, 'windchill_c': 28.2, 'windchill_f': 82.8, 'heatindex_c': 32.3, 'heatindex_f': 90.1, 'dewpoint_c': 23.7, 'dewpoint_f': 74.7, 'will_it_rain': 0, 'chance_of_rain': '0', 'will_it_snow': 0, 'chance_of_snow': '0', 'vis_km': 10.0, 'vis_miles': 6.0, 'gust_mph': 16.3, 'gust_kph': 26.3, 'uv': 1.0}, {'time_epoch': 1624338000, 'time': '2021-06-22 01:00', 'temp_c': 28.2, 'temp_f': 82.8, 'is_day': 0, 'condition': {'text': 'Partly cloudy', 'icon': '//cdn.weatherapi.com/weather/64x64/night/116.png', 'code': 1003}, 'wind_mph': 10.3, 'wind_kph': 16.6, 'wind_degree': 115, 'wind_dir': 'ESE', 'pressure_mb': 1017.0, 'pressure_in': 30.5, 'precip_mm': 0.0, 'precip_in': 0.0, 'humidity': 77, 'cloud': 12, 'feelslike_c': 32.1, 'feelslike_f': 89.8, 'windchill_c': 28.2, 'windchill_f': 82.8, 'heatindex_c': 32.1, 'heatindex_f': 89.8, 'dewpoint_c': 23.6, 'dewpoint_f': 74.5, 'will_it_rain': 0, 'chance_of_rain': '0', 'will_it_snow': 0, 'chance_of_snow': '0', 'vis_km': 10.0, 'vis_miles': 6.0, 'gust_mph': 13.9, 'gust_kph': 22.3, 'uv': 1.0}, {'time_epoch': 1624341600, 'time': '2021-06-22 02:00', 'temp_c': 28.1, 'temp_f': 82.6, 'is_day': 0, 'condition': {'text': 'Partly cloudy', 'icon': '//cdn.weatherapi.com/weather/64x64/night/116.png', 'code': 1003}, 'wind_mph': 8.5, 'wind_kph': 13.7, 'wind_degree': 120, 'wind_dir': 'ESE', 'pressure_mb': 1017.0, 'pressure_in': 30.5, 'precip_mm': 0.0, 'precip_in': 0.0, 'humidity': 77, 'cloud': 10, 'feelslike_c': 32.0, 'feelslike_f': 89.6, 'windchill_c': 28.1, 'windchill_f': 82.6, 'heatindex_c': 32.0, 'heatindex_f': 89.6, 'dewpoint_c': 23.6, 'dewpoint_f': 74.5, 'will_it_rain': 0, 'chance_of_rain': '0', 'will_it_snow': 0, 'chance_of_snow': '0', 'vis_km': 10.0, 'vis_miles': 6.0, 'gust_mph': 11.6, 'gust_kph': 18.7, 'uv': 1.0}, {'time_epoch': 1624345200, 'time': '2021-06-22 03:00', 'temp_c': 28.1, 'temp_f': 82.6, 'is_day': 0, 'condition': {'text': 'Cloudy', 'icon': '//cdn.weatherapi.com/weather/64x64/night/119.png', 'code': 1006}, 'wind_mph': 9.8, 'wind_kph': 15.8, 'wind_degree': 124, 'wind_dir': 'SE', 'pressure_mb': 1017.0, 'pressure_in': 30.5, 'precip_mm': 0.0, 'precip_in': 0.0, 'humidity': 77, 'cloud': 29, 'feelslike_c': 32.0, 'feelslike_f': 89.6, 'windchill_c': 28.1, 'windchill_f': 82.6, 'heatindex_c': 32.0, 'heatindex_f': 89.6, 'dewpoint_c': 23.6, 'dewpoint_f': 74.5, 'will_it_rain': 0, 'chance_of_rain': '0', 'will_it_snow': 0, 'chance_of_snow': '0', 'vis_km': 10.0, 'vis_miles': 6.0, 'gust_mph': 13.6, 'gust_kph': 22.0, 'uv': 1.0}, {'time_epoch': 1624348800, 'time': '2021-06-22 04:00', 'temp_c': 28.0, 'temp_f': 82.4, 'is_day': 0, 'condition': {'text': 'Partly cloudy', 'icon': '//cdn.weatherapi.com/weather/64x64/night/116.png', 'code': 1003}, 'wind_mph': 11.4, 'wind_kph': 18.4, 'wind_degree': 128, 'wind_dir': 'SE', 'pressure_mb': 1017.0, 'pressure_in': 30.5, 'precip_mm': 0.0, 'precip_in': 0.0, 'humidity': 77, 'cloud': 48, 'feelslike_c': 31.9, 'feelslike_f': 89.4, 'windchill_c': 28.0, 'windchill_f': 82.4, 'heatindex_c': 31.9, 'heatindex_f': 89.4, 'dewpoint_c': 23.7, 'dewpoint_f': 74.7, 'will_it_rain': 0, 'chance_of_rain': '0', 'will_it_snow': 0, 'chance_of_snow': '0', 'vis_km': 10.0, 'vis_miles': 6.0, 'gust_mph': 15.4, 'gust_kph': 24.8, 'uv': 1.0}, {'time_epoch': 1624352400, 'time': '2021-06-22 05:00', 'temp_c': 28.0, 'temp_f': 82.4, 'is_day': 0, 'condition': {'text': 'Cloudy', 'icon': '//cdn.weatherapi.com/weather/64x64/night/119.png', 'code': 1006}, 'wind_mph': 12.8, 'wind_kph': 20.5, 'wind_degree': 132, 'wind_dir': 'SE', 'pressure_mb': 1017.0, 'pressure_in': 30.5, 'precip_mm': 0.0, 'precip_in': 0.0, 'humidity': 77, 'cloud': 67, 'feelslike_c': 31.9, 'feelslike_f': 89.4, 'windchill_c': 28.0, 'windchill_f': 82.4, 'heatindex_c': 31.9, 'heatindex_f': 89.4, 'dewpoint_c': 23.7, 'dewpoint_f': 74.7, 'will_it_rain': 0, 'chance_of_rain': '0', 'will_it_snow': 0, 'chance_of_snow': '0', 'vis_km': 10.0, 'vis_miles': 6.0, 'gust_mph': 17.4, 'gust_kph': 28.1, 'uv': 1.0}, {'time_epoch': 1624356000, 'time': '2021-06-22 06:00', 'temp_c': 28.1, 'temp_f': 82.6, 'is_day': 0, 'condition': {'text': 'Light rain shower', 'icon': '//cdn.weatherapi.com/weather/64x64/night/353.png', 'code': 1240}, 'wind_mph': 13.4, 'wind_kph': 21.6, 'wind_degree': 134, 'wind_dir': 'SE', 'pressure_mb': 1017.0, 'pressure_in': 30.5, 'precip_mm': 0.1, 'precip_in': 0.0, 'humidity': 77, 'cloud': 65, 'feelslike_c': 32.1, 'feelslike_f': 89.8, 'windchill_c': 28.1, 'windchill_f': 82.6, 'heatindex_c': 32.1, 'heatindex_f': 89.8, 'dewpoint_c': 23.8, 'dewpoint_f': 74.8, 'will_it_rain': 0, 'chance_of_rain': '21', 'will_it_snow': 0, 'chance_of_snow': '0', 'vis_km': 10.0, 'vis_miles': 6.0, 'gust_mph': 18.1, 'gust_kph': 29.2, 'uv': 1.0}, {'time_epoch': 1624359600, 'time': '2021-06-22 07:00', 'temp_c': 28.1, 'temp_f': 82.6, 'is_day': 1, 'condition': {'text': 'Cloudy', 'icon': '//cdn.weatherapi.com/weather/64x64/day/119.png', 'code': 1006}, 'wind_mph': 13.9, 'wind_kph': 22.3, 'wind_degree': 137, 'wind_dir': 'SE', 'pressure_mb': 1017.0, 'pressure_in': 30.5, 'precip_mm': 0.1, 'precip_in': 0.0, 'humidity': 78, 'cloud': 62, 'feelslike_c': 32.2, 'feelslike_f': 90.0, 'windchill_c': 28.1, 'windchill_f': 82.6, 'heatindex_c': 32.2, 'heatindex_f': 90.0, 'dewpoint_c': 23.8, 'dewpoint_f': 74.8, 'will_it_rain': 0, 'chance_of_rain': '41', 'will_it_snow': 0, 'chance_of_snow': '0', 'vis_km': 10.0, 'vis_miles': 6.0, 'gust_mph': 19.0, 'gust_kph': 30.6, 'uv': 6.0}, {'time_epoch': 1624363200, 'time': '2021-06-22 08:00', 'temp_c': 28.2, 'temp_f': 82.8, 'is_day': 1, 'condition': {'text': 'Light rain shower', 'icon': '//cdn.weatherapi.com/weather/64x64/day/353.png', 'code': 1240}, 'wind_mph': 14.5, 'wind_kph': 23.4, 'wind_degree': 140, 'wind_dir': 'SE', 'pressure_mb': 1017.0, 'pressure_in': 30.5, 'precip_mm': 0.2, 'precip_in': 0.01, 'humidity': 78, 'cloud': 60, 'feelslike_c': 32.4, 'feelslike_f': 90.3, 'windchill_c': 28.2, 'windchill_f': 82.8, 'heatindex_c': 32.4, 'heatindex_f': 90.3, 'dewpoint_c': 23.9, 'dewpoint_f': 75.0, 'will_it_rain': 0, 'chance_of_rain': '62', 'will_it_snow': 0, 'chance_of_snow': '0', 'vis_km': 10.0, 'vis_miles': 6.0, 'gust_mph': 19.7, 'gust_kph': 31.7, 'uv': 6.0}, {'time_epoch': 1624366800, 'time': '2021-06-22 09:00', 'temp_c': 28.5, 'temp_f': 83.3, 'is_day': 1, 'condition': {'text': 'Partly cloudy', 'icon': '//cdn.weatherapi.com/weather/64x64/day/116.png', 'code': 1003}, 'wind_mph': 14.1, 'wind_kph': 22.7, 'wind_degree': 140, 'wind_dir': 'SE', 'pressure_mb': 1017.0, 'pressure_in': 30.5, 'precip_mm': 0.1, 'precip_in': 0.0, 'humidity': 76, 'cloud': 50, 'feelslike_c': 32.6, 'feelslike_f': 90.7, 'windchill_c': 28.5, 'windchill_f': 83.3, 'heatindex_c': 32.6, 'heatindex_f': 90.7, 'dewpoint_c': 23.7, 'dewpoint_f': 74.7, 'will_it_rain': 0, 'chance_of_rain': '41', 'will_it_snow': 0, 'chance_of_snow': '0', 'vis_km': 10.0, 'vis_miles': 6.0, 'gust_mph': 18.6, 'gust_kph': 29.9, 'uv': 7.0}, {'time_epoch': 1624370400, 'time': '2021-06-22 10:00', 'temp_c': 28.7, 'temp_f': 83.7, 'is_day': 1, 'condition': {'text': 'Light rain shower', 'icon': '//cdn.weatherapi.com/weather/64x64/day/353.png', 'code': 1240}, 'wind_mph': 13.9, 'wind_kph': 22.3, 'wind_degree': 141, 'wind_dir': 'SE', 'pressure_mb': 1018.0, 'pressure_in': 30.5, 'precip_mm': 0.1, 'precip_in': 0.0, 'humidity': 74, 'cloud': 40, 'feelslike_c': 32.9, 'feelslike_f': 91.2, 'windchill_c': 28.7, 'windchill_f': 83.7, 'heatindex_c': 32.9, 'heatindex_f': 91.2, 'dewpoint_c': 23.5, 'dewpoint_f': 74.3, 'will_it_rain': 0, 'chance_of_rain': '21', 'will_it_snow': 0, 'chance_of_snow': '0', 'vis_km': 10.0, 'vis_miles': 6.0, 'gust_mph': 17.7, 'gust_kph': 28.4, 'uv': 6.0}, {'time_epoch': 1624374000, 'time': '2021-06-22 11:00', 'temp_c': 29.0, 'temp_f': 84.2, 'is_day': 1, 'condition': {'text': 'Partly cloudy', 'icon': '//cdn.weatherapi.com/weather/64x64/day/116.png', 'code': 1003}, 'wind_mph': 13.4, 'wind_kph': 21.6, 'wind_degree': 142, 'wind_dir': 'SE', 'pressure_mb': 1018.0, 'pressure_in': 30.5, 'precip_mm': 0.0, 'precip_in': 0.0, 'humidity': 71, 'cloud': 30, 'feelslike_c': 33.1, 'feelslike_f': 91.6, 'windchill_c': 29.0, 'windchill_f': 84.2, 'heatindex_c': 33.1, 'heatindex_f': 91.6, 'dewpoint_c': 23.3, 'dewpoint_f': 73.9, 'will_it_rain': 0, 'chance_of_rain': '0', 'will_it_snow': 0, 'chance_of_snow': '0', 'vis_km': 10.0, 'vis_miles': 6.0, 'gust_mph': 16.6, 'gust_kph': 26.6, 'uv': 7.0}, {'time_epoch': 1624377600, 'time': '2021-06-22 12:00', 'temp_c': 29.1, 'temp_f': 84.4, 'is_day': 1, 'condition': {'text': 'Partly cloudy', 'icon': '//cdn.weatherapi.com/weather/64x64/day/116.png', 'code': 1003}, 'wind_mph': 13.6, 'wind_kph': 22.0, 'wind_degree': 141, 'wind_dir': 'SE', 'pressure_mb': 1018.0, 'pressure_in': 30.5, 'precip_mm': 0.0, 'precip_in': 0.0, 'humidity': 71, 'cloud': 29, 'feelslike_c': 33.4, 'feelslike_f': 92.1, 'windchill_c': 29.1, 'windchill_f': 84.4, 'heatindex_c': 33.4, 'heatindex_f': 92.1, 'dewpoint_c': 23.4, 'dewpoint_f': 74.1, 'will_it_rain': 0, 'chance_of_rain': '0', 'will_it_snow': 0, 'chance_of_snow': '0', 'vis_km': 10.0, 'vis_miles': 6.0, 'gust_mph': 16.3, 'gust_kph': 26.3, 'uv': 7.0}, {'time_epoch': 1624381200, 'time': '2021-06-22 13:00', 'temp_c': 29.3, 'temp_f': 84.7, 'is_day': 1, 'condition': {'text': 'Partly cloudy', 'icon': '//cdn.weatherapi.com/weather/64x64/day/116.png', 'code': 1003}, 'wind_mph': 13.6, 'wind_kph': 22.0, 'wind_degree': 140, 'wind_dir': 'SE', 'pressure_mb': 1017.0, 'pressure_in': 30.5, 'precip_mm': 0.0, 'precip_in': 0.0, 'humidity': 71, 'cloud': 28, 'feelslike_c': 33.6, 'feelslike_f': 92.5, 'windchill_c': 29.3, 'windchill_f': 84.7, 'heatindex_c': 33.6, 'heatindex_f': 92.5, 'dewpoint_c': 23.5, 'dewpoint_f': 74.3, 'will_it_rain': 0, 'chance_of_rain': '0', 'will_it_snow': 0, 'chance_of_snow': '0', 'vis_km': 10.0, 'vis_miles': 6.0, 'gust_mph': 16.3, 'gust_kph': 26.3, 'uv': 7.0}, {'time_epoch': 1624384800, 'time': '2021-06-22 14:00', 'temp_c': 29.4, 'temp_f': 84.9, 'is_day': 1, 'condition': {'text': 'Partly cloudy', 'icon': '//cdn.weatherapi.com/weather/64x64/day/116.png', 'code': 1003}, 'wind_mph': 13.9, 'wind_kph': 22.3, 'wind_degree': 140, 'wind_dir': 'SE', 'pressure_mb': 1017.0, 'pressure_in': 30.5, 'precip_mm': 0.0, 'precip_in': 0.0, 'humidity': 71, 'cloud': 27, 'feelslike_c': 33.9, 'feelslike_f': 93.0, 'windchill_c': 29.4, 'windchill_f': 84.9, 'heatindex_c': 33.9, 'heatindex_f': 93.0, 'dewpoint_c': 23.6, 'dewpoint_f': 74.5, 'will_it_rain': 0, 'chance_of_rain': '0', 'will_it_snow': 0, 'chance_of_snow': '0', 'vis_km': 10.0, 'vis_miles': 6.0, 'gust_mph': 16.1, 'gust_kph': 25.9, 'uv': 7.0}, {'time_epoch': 1624388400, 'time': '2021-06-22 15:00', 'temp_c': 29.3, 'temp_f': 84.7, 'is_day': 1, 'condition': {'text': 'Patchy rain possible', 'icon': '//cdn.weatherapi.com/weather/64x64/day/176.png', 'code': 1063}, 'wind_mph': 12.3, 'wind_kph': 19.8, 'wind_degree': 143, 'wind_dir': 'SE', 'pressure_mb': 1017.0, 'pressure_in': 30.5, 'precip_mm': 0.1, 'precip_in': 0.0, 'humidity': 71, 'cloud': 43, 'feelslike_c': 33.7, 'feelslike_f': 92.7, 'windchill_c': 29.3, 'windchill_f': 84.7, 'heatindex_c': 33.7, 'heatindex_f': 92.7, 'dewpoint_c': 23.5, 'dewpoint_f': 74.3, 'will_it_rain': 0, 'chance_of_rain': '21', 'will_it_snow': 0, 'chance_of_snow': '0', 'vis_km': 10.0, 'vis_miles': 6.0, 'gust_mph': 14.3, 'gust_kph': 23.0, 'uv': 6.0}, {'time_epoch': 1624392000, 'time': '2021-06-22 16:00', 'temp_c': 29.3, 'temp_f': 84.7, 'is_day': 1, 'condition': {'text': 'Partly cloudy', 'icon': '//cdn.weatherapi.com/weather/64x64/day/116.png', 'code': 1003}, 'wind_mph': 10.5, 'wind_kph': 16.9, 'wind_degree': 147, 'wind_dir': 'SSE', 'pressure_mb': 1017.0, 'pressure_in': 30.5, 'precip_mm': 0.2, 'precip_in': 0.01, 'humidity': 71, 'cloud': 59, 'feelslike_c': 33.5, 'feelslike_f': 92.3, 'windchill_c': 29.3, 'windchill_f': 84.7, 'heatindex_c': 33.5, 'heatindex_f': 92.3, 'dewpoint_c': 23.4, 'dewpoint_f': 74.1, 'will_it_rain': 0, 'chance_of_rain': '41', 'will_it_snow': 0, 'chance_of_snow': '0', 'vis_km': 10.0, 'vis_miles': 6.0, 'gust_mph': 12.8, 'gust_kph': 20.5, 'uv': 7.0}, {'time_epoch': 1624395600, 'time': '2021-06-22 17:00', 'temp_c': 29.2, 'temp_f': 84.6, 'is_day': 1, 'condition': {'text': 'Patchy rain possible', 'icon': '//cdn.weatherapi.com/weather/64x64/day/176.png', 'code': 1063}, 'wind_mph': 8.9, 'wind_kph': 14.4, 'wind_degree': 150, 'wind_dir': 'SSE', 'pressure_mb': 1017.0, 'pressure_in': 30.5, 'precip_mm': 0.3, 'precip_in': 0.01, 'humidity': 71, 'cloud': 75, 'feelslike_c': 33.3, 'feelslike_f': 91.9, 'windchill_c': 29.2, 'windchill_f': 84.6, 'heatindex_c': 33.3, 'heatindex_f': 91.9, 'dewpoint_c': 23.3, 'dewpoint_f': 73.9, 'will_it_rain': 0, 'chance_of_rain': '62', 'will_it_snow': 0, 'chance_of_snow': '0', 'vis_km': 10.0, 'vis_miles': 6.0, 'gust_mph': 11.0, 'gust_kph': 17.6, 'uv': 6.0}, {'time_epoch': 1624399200, 'time': '2021-06-22 18:00', 'temp_c': 29.0, 'temp_f': 84.2, 'is_day': 1, 'condition': {'text': 'Patchy rain possible', 'icon': '//cdn.weatherapi.com/weather/64x64/day/176.png', 'code': 1063}, 'wind_mph': 10.1, 'wind_kph': 16.2, 'wind_degree': 146, 'wind_dir': 'SSE', 'pressure_mb': 1017.0, 'pressure_in': 30.5, 'precip_mm': 0.2, 'precip_in': 0.01, 'humidity': 71, 'cloud': 77, 'feelslike_c': 33.0, 'feelslike_f': 91.4, 'windchill_c': 29.0, 'windchill_f': 84.2, 'heatindex_c': 33.0, 'heatindex_f': 91.4, 'dewpoint_c': 23.3, 'dewpoint_f': 73.9, 'will_it_rain': 0, 'chance_of_rain': '66', 'will_it_snow': 0, 'chance_of_snow': '0', 'vis_km': 10.0, 'vis_miles': 6.0, 'gust_mph': 12.8, 'gust_kph': 20.5, 'uv': 6.0}, {'time_epoch': 1624402800, 'time': '2021-06-22 19:00', 'temp_c': 28.9, 'temp_f': 84.0, 'is_day': 1, 'condition': {'text': 'Patchy rain possible', 'icon': '//cdn.weatherapi.com/weather/64x64/day/176.png', 'code': 1063}, 'wind_mph': 11.4, 'wind_kph': 18.4, 'wind_degree': 142, 'wind_dir': 'SE', 'pressure_mb': 1017.0, 'pressure_in': 30.5, 'precip_mm': 0.2, 'precip_in': 0.01, 'humidity': 72, 'cloud': 78, 'feelslike_c': 32.8, 'feelslike_f': 91.0, 'windchill_c': 28.9, 'windchill_f': 84.0, 'heatindex_c': 32.8, 'heatindex_f': 91.0, 'dewpoint_c': 23.2, 'dewpoint_f': 73.8, 'will_it_rain': 1, 'chance_of_rain': '71', 'will_it_snow': 0, 'chance_of_snow': '0', 'vis_km': 10.0, 'vis_miles': 6.0, 'gust_mph': 14.5, 'gust_kph': 23.4, 'uv': 6.0}, {'time_epoch': 1624406400, 'time': '2021-06-22 20:00', 'temp_c': 28.7, 'temp_f': 83.7, 'is_day': 1, 'condition': {'text': 'Patchy rain possible', 'icon': '//cdn.weatherapi.com/weather/64x64/day/176.png', 'code': 1063}, 'wind_mph': 12.5, 'wind_kph': 20.2, 'wind_degree': 137, 'wind_dir': 'SE', 'pressure_mb': 1016.0, 'pressure_in': 30.5, 'precip_mm': 0.1, 'precip_in': 0.0, 'humidity': 72, 'cloud': 80, 'feelslike_c': 32.5, 'feelslike_f': 90.5, 'windchill_c': 28.7, 'windchill_f': 83.7, 'heatindex_c': 32.5, 'heatindex_f': 90.5, 'dewpoint_c': 23.2, 'dewpoint_f': 73.8, 'will_it_rain': 1, 'chance_of_rain': '75', 'will_it_snow': 0, 'chance_of_snow': '0', 'vis_km': 10.0, 'vis_miles': 6.0, 'gust_mph': 16.3, 'gust_kph': 26.3, 'uv': 6.0}, {'time_epoch': 1624410000, 'time': '2021-06-22 21:00', 'temp_c': 28.6, 'temp_f': 83.5, 'is_day': 0, 'condition': {'text': 'Patchy rain possible', 'icon': '//cdn.weatherapi.com/weather/64x64/night/176.png', 'code': 1063}, 'wind_mph': 11.0, 'wind_kph': 17.6, 'wind_degree': 136, 'wind_dir': 'SE', 'pressure_mb': 1017.0, 'pressure_in': 30.5, 'precip_mm': 0.2, 'precip_in': 0.01, 'humidity': 73, 'cloud': 83, 'feelslike_c': 32.4, 'feelslike_f': 90.3, 'windchill_c': 28.6, 'windchill_f': 83.5, 'heatindex_c': 32.4, 'heatindex_f': 90.3, 'dewpoint_c': 23.3, 'dewpoint_f': 73.9, 'will_it_rain': 1, 'chance_of_rain': '75', 'will_it_snow': 0, 'chance_of_snow': '0', 'vis_km': 10.0, 'vis_miles': 6.0, 'gust_mph': 14.5, 'gust_kph': 23.4, 'uv': 1.0}, {'time_epoch': 1624413600, 'time': '2021-06-22 22:00', 'temp_c': 28.4, 'temp_f': 83.1, 'is_day': 0, 'condition': {'text': 'Patchy rain possible', 'icon': '//cdn.weatherapi.com/weather/64x64/night/176.png', 'code': 1063}, 'wind_mph': 9.4, 'wind_kph': 15.1, 'wind_degree': 135, 'wind_dir': 'SE', 'pressure_mb': 1018.0, 'pressure_in': 30.5, 'precip_mm': 0.3, 'precip_in': 0.01, 'humidity': 74, 'cloud': 85, 'feelslike_c': 32.3, 'feelslike_f': 90.1, 'windchill_c': 28.4, 'windchill_f': 83.1, 'heatindex_c': 32.3, 'heatindex_f': 90.1, 'dewpoint_c': 23.4, 'dewpoint_f': 74.1, 'will_it_rain': 1, 'chance_of_rain': '75', 'will_it_snow': 0, 'chance_of_snow': '0', 'vis_km': 10.0, 'vis_miles': 6.0, 'gust_mph': 12.5, 'gust_kph': 20.2, 'uv': 1.0}, {'time_epoch': 1624417200, 'time': '2021-06-22 23:00', 'temp_c': 28.3, 'temp_f': 82.9, 'is_day': 0, 'condition': {'text': 'Patchy rain possible', 'icon': '//cdn.weatherapi.com/weather/64x64/night/176.png', 'code': 1063}, 'wind_mph': 7.8, 'wind_kph': 12.6, 'wind_degree': 134, 'wind_dir': 'SE', 'pressure_mb': 1019.0, 'pressure_in': 30.6, 'precip_mm': 0.4, 'precip_in': 0.02, 'humidity': 75, 'cloud': 88, 'feelslike_c': 32.2, 'feelslike_f': 90.0, 'windchill_c': 28.3, 'windchill_f': 82.9, 'heatindex_c': 32.2, 'heatindex_f': 90.0, 'dewpoint_c': 23.5, 'dewpoint_f': 74.3, 'will_it_rain': 1, 'chance_of_rain': '75', 'will_it_snow': 0, 'chance_of_snow': '0', 'vis_km': 10.0, 'vis_miles': 6.0, 'gust_mph': 10.7, 'gust_kph': 17.3, 'uv': 1.0}]}]}}\n"
     ]
    }
   ],
   "source": [
    "forecast = requests.get(\"http://api.weatherapi.com/v1/forecast.json?key=43f4b06173444f3699b210224211406&q=Miami&days=7&aqi=no&alerts=no\")\n",
    "data5 = forecast.json()\n",
    "print(data5)"
   ]
  },
  {
   "cell_type": "code",
   "execution_count": 67,
   "metadata": {},
   "outputs": [
    {
     "data": {
      "text/plain": [
       "{'date': '2021-06-20',\n",
       " 'date_epoch': 1624147200,\n",
       " 'day': {'maxtemp_c': 29.7,\n",
       "  'maxtemp_f': 85.5,\n",
       "  'mintemp_c': 28.0,\n",
       "  'mintemp_f': 82.4,\n",
       "  'avgtemp_c': 28.8,\n",
       "  'avgtemp_f': 83.8,\n",
       "  'maxwind_mph': 13.2,\n",
       "  'maxwind_kph': 21.2,\n",
       "  'totalprecip_mm': 3.3,\n",
       "  'totalprecip_in': 0.13,\n",
       "  'avgvis_km': 9.5,\n",
       "  'avgvis_miles': 5.0,\n",
       "  'avghumidity': 76.0,\n",
       "  'daily_will_it_rain': 1,\n",
       "  'daily_chance_of_rain': '88',\n",
       "  'daily_will_it_snow': 0,\n",
       "  'daily_chance_of_snow': '0',\n",
       "  'condition': {'text': 'Patchy rain possible',\n",
       "   'icon': '//cdn.weatherapi.com/weather/64x64/day/176.png',\n",
       "   'code': 1063},\n",
       "  'uv': 9.0},\n",
       " 'astro': {'sunrise': '06:29 AM',\n",
       "  'sunset': '08:15 PM',\n",
       "  'moonrise': '03:59 PM',\n",
       "  'moonset': '02:57 AM',\n",
       "  'moon_phase': 'Full Moon',\n",
       "  'moon_illumination': '76'},\n",
       " 'hour': [{'time_epoch': 1624161600,\n",
       "   'time': '2021-06-20 00:00',\n",
       "   'temp_c': 28.4,\n",
       "   'temp_f': 83.1,\n",
       "   'is_day': 0,\n",
       "   'condition': {'text': 'Partly cloudy',\n",
       "    'icon': '//cdn.weatherapi.com/weather/64x64/night/116.png',\n",
       "    'code': 1003},\n",
       "   'wind_mph': 10.1,\n",
       "   'wind_kph': 16.2,\n",
       "   'wind_degree': 119,\n",
       "   'wind_dir': 'ESE',\n",
       "   'pressure_mb': 1018.0,\n",
       "   'pressure_in': 30.5,\n",
       "   'precip_mm': 0.0,\n",
       "   'precip_in': 0.0,\n",
       "   'humidity': 80,\n",
       "   'cloud': 14,\n",
       "   'feelslike_c': 33.3,\n",
       "   'feelslike_f': 91.9,\n",
       "   'windchill_c': 28.4,\n",
       "   'windchill_f': 83.1,\n",
       "   'heatindex_c': 33.3,\n",
       "   'heatindex_f': 91.9,\n",
       "   'dewpoint_c': 24.7,\n",
       "   'dewpoint_f': 76.5,\n",
       "   'will_it_rain': 0,\n",
       "   'chance_of_rain': '0',\n",
       "   'will_it_snow': 0,\n",
       "   'chance_of_snow': '0',\n",
       "   'vis_km': 10.0,\n",
       "   'vis_miles': 6.0,\n",
       "   'gust_mph': 13.4,\n",
       "   'gust_kph': 21.6,\n",
       "   'uv': 1.0},\n",
       "  {'time_epoch': 1624165200,\n",
       "   'time': '2021-06-20 01:00',\n",
       "   'temp_c': 28.5,\n",
       "   'temp_f': 83.3,\n",
       "   'is_day': 0,\n",
       "   'condition': {'text': 'Partly cloudy',\n",
       "    'icon': '//cdn.weatherapi.com/weather/64x64/night/116.png',\n",
       "    'code': 1003},\n",
       "   'wind_mph': 8.7,\n",
       "   'wind_kph': 14.0,\n",
       "   'wind_degree': 127,\n",
       "   'wind_dir': 'SE',\n",
       "   'pressure_mb': 1018.0,\n",
       "   'pressure_in': 30.5,\n",
       "   'precip_mm': 0.0,\n",
       "   'precip_in': 0.0,\n",
       "   'humidity': 81,\n",
       "   'cloud': 11,\n",
       "   'feelslike_c': 33.5,\n",
       "   'feelslike_f': 92.3,\n",
       "   'windchill_c': 28.5,\n",
       "   'windchill_f': 83.3,\n",
       "   'heatindex_c': 33.5,\n",
       "   'heatindex_f': 92.3,\n",
       "   'dewpoint_c': 24.8,\n",
       "   'dewpoint_f': 76.6,\n",
       "   'will_it_rain': 0,\n",
       "   'chance_of_rain': '0',\n",
       "   'will_it_snow': 0,\n",
       "   'chance_of_snow': '0',\n",
       "   'vis_km': 10.0,\n",
       "   'vis_miles': 6.0,\n",
       "   'gust_mph': 11.4,\n",
       "   'gust_kph': 18.4,\n",
       "   'uv': 1.0},\n",
       "  {'time_epoch': 1624168800,\n",
       "   'time': '2021-06-20 02:00',\n",
       "   'temp_c': 28.5,\n",
       "   'temp_f': 83.3,\n",
       "   'is_day': 0,\n",
       "   'condition': {'text': 'Partly cloudy',\n",
       "    'icon': '//cdn.weatherapi.com/weather/64x64/night/116.png',\n",
       "    'code': 1003},\n",
       "   'wind_mph': 7.2,\n",
       "   'wind_kph': 11.5,\n",
       "   'wind_degree': 134,\n",
       "   'wind_dir': 'SE',\n",
       "   'pressure_mb': 1017.0,\n",
       "   'pressure_in': 30.5,\n",
       "   'precip_mm': 0.0,\n",
       "   'precip_in': 0.0,\n",
       "   'humidity': 81,\n",
       "   'cloud': 9,\n",
       "   'feelslike_c': 33.6,\n",
       "   'feelslike_f': 92.5,\n",
       "   'windchill_c': 28.5,\n",
       "   'windchill_f': 83.3,\n",
       "   'heatindex_c': 33.6,\n",
       "   'heatindex_f': 92.5,\n",
       "   'dewpoint_c': 24.9,\n",
       "   'dewpoint_f': 76.8,\n",
       "   'will_it_rain': 0,\n",
       "   'chance_of_rain': '0',\n",
       "   'will_it_snow': 0,\n",
       "   'chance_of_snow': '0',\n",
       "   'vis_km': 10.0,\n",
       "   'vis_miles': 6.0,\n",
       "   'gust_mph': 9.4,\n",
       "   'gust_kph': 15.1,\n",
       "   'uv': 1.0},\n",
       "  {'time_epoch': 1624172400,\n",
       "   'time': '2021-06-20 03:00',\n",
       "   'temp_c': 28.3,\n",
       "   'temp_f': 82.9,\n",
       "   'is_day': 0,\n",
       "   'condition': {'text': 'Light rain shower',\n",
       "    'icon': '//cdn.weatherapi.com/weather/64x64/night/353.png',\n",
       "    'code': 1240},\n",
       "   'wind_mph': 8.5,\n",
       "   'wind_kph': 13.7,\n",
       "   'wind_degree': 142,\n",
       "   'wind_dir': 'SE',\n",
       "   'pressure_mb': 1017.0,\n",
       "   'pressure_in': 30.5,\n",
       "   'precip_mm': 0.1,\n",
       "   'precip_in': 0.0,\n",
       "   'humidity': 81,\n",
       "   'cloud': 30,\n",
       "   'feelslike_c': 33.2,\n",
       "   'feelslike_f': 91.8,\n",
       "   'windchill_c': 28.3,\n",
       "   'windchill_f': 82.9,\n",
       "   'heatindex_c': 33.2,\n",
       "   'heatindex_f': 91.8,\n",
       "   'dewpoint_c': 24.7,\n",
       "   'dewpoint_f': 76.5,\n",
       "   'will_it_rain': 0,\n",
       "   'chance_of_rain': '24',\n",
       "   'will_it_snow': 0,\n",
       "   'chance_of_snow': '0',\n",
       "   'vis_km': 10.0,\n",
       "   'vis_miles': 6.0,\n",
       "   'gust_mph': 11.2,\n",
       "   'gust_kph': 18.0,\n",
       "   'uv': 1.0},\n",
       "  {'time_epoch': 1624176000,\n",
       "   'time': '2021-06-20 04:00',\n",
       "   'temp_c': 28.2,\n",
       "   'temp_f': 82.8,\n",
       "   'is_day': 0,\n",
       "   'condition': {'text': 'Partly cloudy',\n",
       "    'icon': '//cdn.weatherapi.com/weather/64x64/night/116.png',\n",
       "    'code': 1003},\n",
       "   'wind_mph': 9.6,\n",
       "   'wind_kph': 15.5,\n",
       "   'wind_degree': 151,\n",
       "   'wind_dir': 'SSE',\n",
       "   'pressure_mb': 1017.0,\n",
       "   'pressure_in': 30.5,\n",
       "   'precip_mm': 0.1,\n",
       "   'precip_in': 0.0,\n",
       "   'humidity': 81,\n",
       "   'cloud': 51,\n",
       "   'feelslike_c': 32.8,\n",
       "   'feelslike_f': 91.0,\n",
       "   'windchill_c': 28.2,\n",
       "   'windchill_f': 82.8,\n",
       "   'heatindex_c': 32.8,\n",
       "   'heatindex_f': 91.0,\n",
       "   'dewpoint_c': 24.5,\n",
       "   'dewpoint_f': 76.1,\n",
       "   'will_it_rain': 0,\n",
       "   'chance_of_rain': '48',\n",
       "   'will_it_snow': 0,\n",
       "   'chance_of_snow': '0',\n",
       "   'vis_km': 10.0,\n",
       "   'vis_miles': 6.0,\n",
       "   'gust_mph': 13.2,\n",
       "   'gust_kph': 21.2,\n",
       "   'uv': 1.0},\n",
       "  {'time_epoch': 1624179600,\n",
       "   'time': '2021-06-20 05:00',\n",
       "   'temp_c': 28.0,\n",
       "   'temp_f': 82.4,\n",
       "   'is_day': 0,\n",
       "   'condition': {'text': 'Light rain shower',\n",
       "    'icon': '//cdn.weatherapi.com/weather/64x64/night/353.png',\n",
       "    'code': 1240},\n",
       "   'wind_mph': 11.0,\n",
       "   'wind_kph': 17.6,\n",
       "   'wind_degree': 159,\n",
       "   'wind_dir': 'SSE',\n",
       "   'pressure_mb': 1017.0,\n",
       "   'pressure_in': 30.5,\n",
       "   'precip_mm': 0.2,\n",
       "   'precip_in': 0.01,\n",
       "   'humidity': 80,\n",
       "   'cloud': 72,\n",
       "   'feelslike_c': 32.4,\n",
       "   'feelslike_f': 90.3,\n",
       "   'windchill_c': 28.0,\n",
       "   'windchill_f': 82.4,\n",
       "   'heatindex_c': 32.4,\n",
       "   'heatindex_f': 90.3,\n",
       "   'dewpoint_c': 24.3,\n",
       "   'dewpoint_f': 75.7,\n",
       "   'will_it_rain': 1,\n",
       "   'chance_of_rain': '72',\n",
       "   'will_it_snow': 0,\n",
       "   'chance_of_snow': '0',\n",
       "   'vis_km': 10.0,\n",
       "   'vis_miles': 6.0,\n",
       "   'gust_mph': 15.0,\n",
       "   'gust_kph': 24.1,\n",
       "   'uv': 1.0},\n",
       "  {'time_epoch': 1624183200,\n",
       "   'time': '2021-06-20 06:00',\n",
       "   'temp_c': 28.0,\n",
       "   'temp_f': 82.4,\n",
       "   'is_day': 0,\n",
       "   'condition': {'text': 'Patchy rain possible',\n",
       "    'icon': '//cdn.weatherapi.com/weather/64x64/night/176.png',\n",
       "    'code': 1063},\n",
       "   'wind_mph': 11.0,\n",
       "   'wind_kph': 17.6,\n",
       "   'wind_degree': 162,\n",
       "   'wind_dir': 'SSE',\n",
       "   'pressure_mb': 1018.0,\n",
       "   'pressure_in': 30.5,\n",
       "   'precip_mm': 0.3,\n",
       "   'precip_in': 0.01,\n",
       "   'humidity': 80,\n",
       "   'cloud': 75,\n",
       "   'feelslike_c': 32.3,\n",
       "   'feelslike_f': 90.1,\n",
       "   'windchill_c': 28.0,\n",
       "   'windchill_f': 82.4,\n",
       "   'heatindex_c': 32.3,\n",
       "   'heatindex_f': 90.1,\n",
       "   'dewpoint_c': 24.2,\n",
       "   'dewpoint_f': 75.6,\n",
       "   'will_it_rain': 0,\n",
       "   'chance_of_rain': '68',\n",
       "   'will_it_snow': 0,\n",
       "   'chance_of_snow': '0',\n",
       "   'vis_km': 9.7,\n",
       "   'vis_miles': 6.0,\n",
       "   'gust_mph': 15.0,\n",
       "   'gust_kph': 24.1,\n",
       "   'uv': 1.0},\n",
       "  {'time_epoch': 1624186800,\n",
       "   'time': '2021-06-20 07:00',\n",
       "   'temp_c': 28.0,\n",
       "   'temp_f': 82.4,\n",
       "   'is_day': 1,\n",
       "   'condition': {'text': 'Light rain shower',\n",
       "    'icon': '//cdn.weatherapi.com/weather/64x64/day/353.png',\n",
       "    'code': 1240},\n",
       "   'wind_mph': 10.7,\n",
       "   'wind_kph': 17.3,\n",
       "   'wind_degree': 165,\n",
       "   'wind_dir': 'SSE',\n",
       "   'pressure_mb': 1018.0,\n",
       "   'pressure_in': 30.5,\n",
       "   'precip_mm': 0.5,\n",
       "   'precip_in': 0.02,\n",
       "   'humidity': 80,\n",
       "   'cloud': 77,\n",
       "   'feelslike_c': 32.3,\n",
       "   'feelslike_f': 90.1,\n",
       "   'windchill_c': 28.0,\n",
       "   'windchill_f': 82.4,\n",
       "   'heatindex_c': 32.3,\n",
       "   'heatindex_f': 90.1,\n",
       "   'dewpoint_c': 24.1,\n",
       "   'dewpoint_f': 75.4,\n",
       "   'will_it_rain': 0,\n",
       "   'chance_of_rain': '64',\n",
       "   'will_it_snow': 0,\n",
       "   'chance_of_snow': '0',\n",
       "   'vis_km': 9.3,\n",
       "   'vis_miles': 5.0,\n",
       "   'gust_mph': 14.8,\n",
       "   'gust_kph': 23.8,\n",
       "   'uv': 6.0},\n",
       "  {'time_epoch': 1624190400,\n",
       "   'time': '2021-06-20 08:00',\n",
       "   'temp_c': 28.0,\n",
       "   'temp_f': 82.4,\n",
       "   'is_day': 1,\n",
       "   'condition': {'text': 'Patchy rain possible',\n",
       "    'icon': '//cdn.weatherapi.com/weather/64x64/day/176.png',\n",
       "    'code': 1063},\n",
       "   'wind_mph': 10.7,\n",
       "   'wind_kph': 17.3,\n",
       "   'wind_degree': 169,\n",
       "   'wind_dir': 'S',\n",
       "   'pressure_mb': 1019.0,\n",
       "   'pressure_in': 30.6,\n",
       "   'precip_mm': 0.6,\n",
       "   'precip_in': 0.02,\n",
       "   'humidity': 79,\n",
       "   'cloud': 80,\n",
       "   'feelslike_c': 32.2,\n",
       "   'feelslike_f': 90.0,\n",
       "   'windchill_c': 28.0,\n",
       "   'windchill_f': 82.4,\n",
       "   'heatindex_c': 32.2,\n",
       "   'heatindex_f': 90.0,\n",
       "   'dewpoint_c': 24.0,\n",
       "   'dewpoint_f': 75.2,\n",
       "   'will_it_rain': 0,\n",
       "   'chance_of_rain': '60',\n",
       "   'will_it_snow': 0,\n",
       "   'chance_of_snow': '0',\n",
       "   'vis_km': 9.0,\n",
       "   'vis_miles': 5.0,\n",
       "   'gust_mph': 14.8,\n",
       "   'gust_kph': 23.8,\n",
       "   'uv': 6.0},\n",
       "  {'time_epoch': 1624194000,\n",
       "   'time': '2021-06-20 09:00',\n",
       "   'temp_c': 28.3,\n",
       "   'temp_f': 82.9,\n",
       "   'is_day': 1,\n",
       "   'condition': {'text': 'Patchy rain possible',\n",
       "    'icon': '//cdn.weatherapi.com/weather/64x64/day/176.png',\n",
       "    'code': 1063},\n",
       "   'wind_mph': 11.6,\n",
       "   'wind_kph': 18.7,\n",
       "   'wind_degree': 165,\n",
       "   'wind_dir': 'SSE',\n",
       "   'pressure_mb': 1019.0,\n",
       "   'pressure_in': 30.6,\n",
       "   'precip_mm': 0.8,\n",
       "   'precip_in': 0.03,\n",
       "   'humidity': 78,\n",
       "   'cloud': 80,\n",
       "   'feelslike_c': 32.8,\n",
       "   'feelslike_f': 91.0,\n",
       "   'windchill_c': 28.3,\n",
       "   'windchill_f': 82.9,\n",
       "   'heatindex_c': 32.8,\n",
       "   'heatindex_f': 91.0,\n",
       "   'dewpoint_c': 24.1,\n",
       "   'dewpoint_f': 75.4,\n",
       "   'will_it_rain': 0,\n",
       "   'chance_of_rain': '69',\n",
       "   'will_it_snow': 0,\n",
       "   'chance_of_snow': '0',\n",
       "   'vis_km': 9.0,\n",
       "   'vis_miles': 5.0,\n",
       "   'gust_mph': 15.9,\n",
       "   'gust_kph': 25.6,\n",
       "   'uv': 6.0},\n",
       "  {'time_epoch': 1624197600,\n",
       "   'time': '2021-06-20 10:00',\n",
       "   'temp_c': 28.7,\n",
       "   'temp_f': 83.7,\n",
       "   'is_day': 1,\n",
       "   'condition': {'text': 'Patchy rain possible',\n",
       "    'icon': '//cdn.weatherapi.com/weather/64x64/day/176.png',\n",
       "    'code': 1063},\n",
       "   'wind_mph': 12.3,\n",
       "   'wind_kph': 19.8,\n",
       "   'wind_degree': 161,\n",
       "   'wind_dir': 'SSE',\n",
       "   'pressure_mb': 1019.0,\n",
       "   'pressure_in': 30.6,\n",
       "   'precip_mm': 1.0,\n",
       "   'precip_in': 0.04,\n",
       "   'humidity': 77,\n",
       "   'cloud': 80,\n",
       "   'feelslike_c': 33.3,\n",
       "   'feelslike_f': 91.9,\n",
       "   'windchill_c': 28.7,\n",
       "   'windchill_f': 83.7,\n",
       "   'heatindex_c': 33.3,\n",
       "   'heatindex_f': 91.9,\n",
       "   'dewpoint_c': 24.2,\n",
       "   'dewpoint_f': 75.6,\n",
       "   'will_it_rain': 1,\n",
       "   'chance_of_rain': '79',\n",
       "   'will_it_snow': 0,\n",
       "   'chance_of_snow': '0',\n",
       "   'vis_km': 9.0,\n",
       "   'vis_miles': 5.0,\n",
       "   'gust_mph': 16.8,\n",
       "   'gust_kph': 27.0,\n",
       "   'uv': 6.0},\n",
       "  {'time_epoch': 1624201200,\n",
       "   'time': '2021-06-20 11:00',\n",
       "   'temp_c': 29.0,\n",
       "   'temp_f': 84.2,\n",
       "   'is_day': 1,\n",
       "   'condition': {'text': 'Patchy rain possible',\n",
       "    'icon': '//cdn.weatherapi.com/weather/64x64/day/176.png',\n",
       "    'code': 1063},\n",
       "   'wind_mph': 13.2,\n",
       "   'wind_kph': 21.2,\n",
       "   'wind_degree': 158,\n",
       "   'wind_dir': 'SSE',\n",
       "   'pressure_mb': 1019.0,\n",
       "   'pressure_in': 30.6,\n",
       "   'precip_mm': 1.2,\n",
       "   'precip_in': 0.05,\n",
       "   'humidity': 76,\n",
       "   'cloud': 80,\n",
       "   'feelslike_c': 33.9,\n",
       "   'feelslike_f': 93.0,\n",
       "   'windchill_c': 29.0,\n",
       "   'windchill_f': 84.2,\n",
       "   'heatindex_c': 33.9,\n",
       "   'heatindex_f': 93.0,\n",
       "   'dewpoint_c': 24.3,\n",
       "   'dewpoint_f': 75.7,\n",
       "   'will_it_rain': 1,\n",
       "   'chance_of_rain': '88',\n",
       "   'will_it_snow': 0,\n",
       "   'chance_of_snow': '0',\n",
       "   'vis_km': 9.0,\n",
       "   'vis_miles': 5.0,\n",
       "   'gust_mph': 17.9,\n",
       "   'gust_kph': 28.8,\n",
       "   'uv': 6.0},\n",
       "  {'time_epoch': 1624204800,\n",
       "   'time': '2021-06-20 12:00',\n",
       "   'temp_c': 29.2,\n",
       "   'temp_f': 84.6,\n",
       "   'is_day': 1,\n",
       "   'condition': {'text': 'Patchy rain possible',\n",
       "    'icon': '//cdn.weatherapi.com/weather/64x64/day/176.png',\n",
       "    'code': 1063},\n",
       "   'wind_mph': 12.8,\n",
       "   'wind_kph': 20.5,\n",
       "   'wind_degree': 160,\n",
       "   'wind_dir': 'SSE',\n",
       "   'pressure_mb': 1019.0,\n",
       "   'pressure_in': 30.6,\n",
       "   'precip_mm': 1.0,\n",
       "   'precip_in': 0.04,\n",
       "   'humidity': 75,\n",
       "   'cloud': 79,\n",
       "   'feelslike_c': 34.1,\n",
       "   'feelslike_f': 93.4,\n",
       "   'windchill_c': 29.2,\n",
       "   'windchill_f': 84.6,\n",
       "   'heatindex_c': 34.1,\n",
       "   'heatindex_f': 93.4,\n",
       "   'dewpoint_c': 24.2,\n",
       "   'dewpoint_f': 75.6,\n",
       "   'will_it_rain': 1,\n",
       "   'chance_of_rain': '83',\n",
       "   'will_it_snow': 0,\n",
       "   'chance_of_snow': '0',\n",
       "   'vis_km': 9.0,\n",
       "   'vis_miles': 5.0,\n",
       "   'gust_mph': 17.0,\n",
       "   'gust_kph': 27.4,\n",
       "   'uv': 6.0},\n",
       "  {'time_epoch': 1624208400,\n",
       "   'time': '2021-06-20 13:00',\n",
       "   'temp_c': 29.4,\n",
       "   'temp_f': 84.9,\n",
       "   'is_day': 1,\n",
       "   'condition': {'text': 'Patchy rain possible',\n",
       "    'icon': '//cdn.weatherapi.com/weather/64x64/day/176.png',\n",
       "    'code': 1063},\n",
       "   'wind_mph': 12.5,\n",
       "   'wind_kph': 20.2,\n",
       "   'wind_degree': 162,\n",
       "   'wind_dir': 'SSE',\n",
       "   'pressure_mb': 1019.0,\n",
       "   'pressure_in': 30.6,\n",
       "   'precip_mm': 0.9,\n",
       "   'precip_in': 0.04,\n",
       "   'humidity': 73,\n",
       "   'cloud': 79,\n",
       "   'feelslike_c': 34.3,\n",
       "   'feelslike_f': 93.7,\n",
       "   'windchill_c': 29.4,\n",
       "   'windchill_f': 84.9,\n",
       "   'heatindex_c': 34.3,\n",
       "   'heatindex_f': 93.7,\n",
       "   'dewpoint_c': 24.2,\n",
       "   'dewpoint_f': 75.6,\n",
       "   'will_it_rain': 1,\n",
       "   'chance_of_rain': '77',\n",
       "   'will_it_snow': 0,\n",
       "   'chance_of_snow': '0',\n",
       "   'vis_km': 9.0,\n",
       "   'vis_miles': 5.0,\n",
       "   'gust_mph': 16.1,\n",
       "   'gust_kph': 25.9,\n",
       "   'uv': 6.0},\n",
       "  {'time_epoch': 1624212000,\n",
       "   'time': '2021-06-20 14:00',\n",
       "   'temp_c': 29.6,\n",
       "   'temp_f': 85.3,\n",
       "   'is_day': 1,\n",
       "   'condition': {'text': 'Patchy rain possible',\n",
       "    'icon': '//cdn.weatherapi.com/weather/64x64/day/176.png',\n",
       "    'code': 1063},\n",
       "   'wind_mph': 12.1,\n",
       "   'wind_kph': 19.4,\n",
       "   'wind_degree': 164,\n",
       "   'wind_dir': 'SSE',\n",
       "   'pressure_mb': 1018.0,\n",
       "   'pressure_in': 30.5,\n",
       "   'precip_mm': 0.7,\n",
       "   'precip_in': 0.03,\n",
       "   'humidity': 72,\n",
       "   'cloud': 78,\n",
       "   'feelslike_c': 34.5,\n",
       "   'feelslike_f': 94.1,\n",
       "   'windchill_c': 29.6,\n",
       "   'windchill_f': 85.3,\n",
       "   'heatindex_c': 34.5,\n",
       "   'heatindex_f': 94.1,\n",
       "   'dewpoint_c': 24.1,\n",
       "   'dewpoint_f': 75.4,\n",
       "   'will_it_rain': 1,\n",
       "   'chance_of_rain': '72',\n",
       "   'will_it_snow': 0,\n",
       "   'chance_of_snow': '0',\n",
       "   'vis_km': 9.0,\n",
       "   'vis_miles': 5.0,\n",
       "   'gust_mph': 15.2,\n",
       "   'gust_kph': 24.5,\n",
       "   'uv': 6.0},\n",
       "  {'time_epoch': 1624215600,\n",
       "   'time': '2021-06-20 15:00',\n",
       "   'temp_c': 29.6,\n",
       "   'temp_f': 85.3,\n",
       "   'is_day': 1,\n",
       "   'condition': {'text': 'Patchy rain possible',\n",
       "    'icon': '//cdn.weatherapi.com/weather/64x64/day/176.png',\n",
       "    'code': 1063},\n",
       "   'wind_mph': 12.1,\n",
       "   'wind_kph': 19.4,\n",
       "   'wind_degree': 162,\n",
       "   'wind_dir': 'SSE',\n",
       "   'pressure_mb': 1018.0,\n",
       "   'pressure_in': 30.5,\n",
       "   'precip_mm': 0.5,\n",
       "   'precip_in': 0.02,\n",
       "   'humidity': 72,\n",
       "   'cloud': 81,\n",
       "   'feelslike_c': 34.5,\n",
       "   'feelslike_f': 94.1,\n",
       "   'windchill_c': 29.6,\n",
       "   'windchill_f': 85.3,\n",
       "   'heatindex_c': 34.5,\n",
       "   'heatindex_f': 94.1,\n",
       "   'dewpoint_c': 24.0,\n",
       "   'dewpoint_f': 75.2,\n",
       "   'will_it_rain': 1,\n",
       "   'chance_of_rain': '77',\n",
       "   'will_it_snow': 0,\n",
       "   'chance_of_snow': '0',\n",
       "   'vis_km': 9.3,\n",
       "   'vis_miles': 5.0,\n",
       "   'gust_mph': 15.2,\n",
       "   'gust_kph': 24.5,\n",
       "   'uv': 6.0},\n",
       "  {'time_epoch': 1624219200,\n",
       "   'time': '2021-06-20 16:00',\n",
       "   'temp_c': 29.7,\n",
       "   'temp_f': 85.5,\n",
       "   'is_day': 1,\n",
       "   'condition': {'text': 'Patchy rain possible',\n",
       "    'icon': '//cdn.weatherapi.com/weather/64x64/day/176.png',\n",
       "    'code': 1063},\n",
       "   'wind_mph': 12.1,\n",
       "   'wind_kph': 19.4,\n",
       "   'wind_degree': 160,\n",
       "   'wind_dir': 'SSE',\n",
       "   'pressure_mb': 1017.0,\n",
       "   'pressure_in': 30.5,\n",
       "   'precip_mm': 0.3,\n",
       "   'precip_in': 0.01,\n",
       "   'humidity': 71,\n",
       "   'cloud': 85,\n",
       "   'feelslike_c': 34.4,\n",
       "   'feelslike_f': 93.9,\n",
       "   'windchill_c': 29.7,\n",
       "   'windchill_f': 85.5,\n",
       "   'heatindex_c': 34.4,\n",
       "   'heatindex_f': 93.9,\n",
       "   'dewpoint_c': 23.8,\n",
       "   'dewpoint_f': 74.8,\n",
       "   'will_it_rain': 1,\n",
       "   'chance_of_rain': '81',\n",
       "   'will_it_snow': 0,\n",
       "   'chance_of_snow': '0',\n",
       "   'vis_km': 9.7,\n",
       "   'vis_miles': 6.0,\n",
       "   'gust_mph': 15.2,\n",
       "   'gust_kph': 24.5,\n",
       "   'uv': 6.0},\n",
       "  {'time_epoch': 1624222800,\n",
       "   'time': '2021-06-20 17:00',\n",
       "   'temp_c': 29.7,\n",
       "   'temp_f': 85.5,\n",
       "   'is_day': 1,\n",
       "   'condition': {'text': 'Patchy rain possible',\n",
       "    'icon': '//cdn.weatherapi.com/weather/64x64/day/176.png',\n",
       "    'code': 1063},\n",
       "   'wind_mph': 12.1,\n",
       "   'wind_kph': 19.4,\n",
       "   'wind_degree': 157,\n",
       "   'wind_dir': 'SSE',\n",
       "   'pressure_mb': 1017.0,\n",
       "   'pressure_in': 30.5,\n",
       "   'precip_mm': 0.1,\n",
       "   'precip_in': 0.0,\n",
       "   'humidity': 70,\n",
       "   'cloud': 88,\n",
       "   'feelslike_c': 34.4,\n",
       "   'feelslike_f': 93.9,\n",
       "   'windchill_c': 29.7,\n",
       "   'windchill_f': 85.5,\n",
       "   'heatindex_c': 34.4,\n",
       "   'heatindex_f': 93.9,\n",
       "   'dewpoint_c': 23.7,\n",
       "   'dewpoint_f': 74.7,\n",
       "   'will_it_rain': 1,\n",
       "   'chance_of_rain': '86',\n",
       "   'will_it_snow': 0,\n",
       "   'chance_of_snow': '0',\n",
       "   'vis_km': 10.0,\n",
       "   'vis_miles': 6.0,\n",
       "   'gust_mph': 15.2,\n",
       "   'gust_kph': 24.5,\n",
       "   'uv': 6.0},\n",
       "  {'time_epoch': 1624226400,\n",
       "   'time': '2021-06-20 18:00',\n",
       "   'temp_c': 29.5,\n",
       "   'temp_f': 85.1,\n",
       "   'is_day': 1,\n",
       "   'condition': {'text': 'Partly cloudy',\n",
       "    'icon': '//cdn.weatherapi.com/weather/64x64/day/116.png',\n",
       "    'code': 1003},\n",
       "   'wind_mph': 11.4,\n",
       "   'wind_kph': 18.4,\n",
       "   'wind_degree': 161,\n",
       "   'wind_dir': 'SSE',\n",
       "   'pressure_mb': 1017.0,\n",
       "   'pressure_in': 30.5,\n",
       "   'precip_mm': 0.1,\n",
       "   'precip_in': 0.0,\n",
       "   'humidity': 71,\n",
       "   'cloud': 61,\n",
       "   'feelslike_c': 34.2,\n",
       "   'feelslike_f': 93.6,\n",
       "   'windchill_c': 29.5,\n",
       "   'windchill_f': 85.1,\n",
       "   'heatindex_c': 34.2,\n",
       "   'heatindex_f': 93.6,\n",
       "   'dewpoint_c': 23.8,\n",
       "   'dewpoint_f': 74.8,\n",
       "   'will_it_rain': 0,\n",
       "   'chance_of_rain': '57',\n",
       "   'will_it_snow': 0,\n",
       "   'chance_of_snow': '0',\n",
       "   'vis_km': 10.0,\n",
       "   'vis_miles': 6.0,\n",
       "   'gust_mph': 14.8,\n",
       "   'gust_kph': 23.8,\n",
       "   'uv': 7.0},\n",
       "  {'time_epoch': 1624230000,\n",
       "   'time': '2021-06-20 19:00',\n",
       "   'temp_c': 29.3,\n",
       "   'temp_f': 84.7,\n",
       "   'is_day': 1,\n",
       "   'condition': {'text': 'Patchy rain possible',\n",
       "    'icon': '//cdn.weatherapi.com/weather/64x64/day/176.png',\n",
       "    'code': 1063},\n",
       "   'wind_mph': 11.0,\n",
       "   'wind_kph': 17.6,\n",
       "   'wind_degree': 164,\n",
       "   'wind_dir': 'SSE',\n",
       "   'pressure_mb': 1018.0,\n",
       "   'pressure_in': 30.5,\n",
       "   'precip_mm': 0.0,\n",
       "   'precip_in': 0.0,\n",
       "   'humidity': 73,\n",
       "   'cloud': 34,\n",
       "   'feelslike_c': 33.9,\n",
       "   'feelslike_f': 93.0,\n",
       "   'windchill_c': 29.3,\n",
       "   'windchill_f': 84.7,\n",
       "   'heatindex_c': 33.9,\n",
       "   'heatindex_f': 93.0,\n",
       "   'dewpoint_c': 23.8,\n",
       "   'dewpoint_f': 74.8,\n",
       "   'will_it_rain': 0,\n",
       "   'chance_of_rain': '29',\n",
       "   'will_it_snow': 0,\n",
       "   'chance_of_snow': '0',\n",
       "   'vis_km': 10.0,\n",
       "   'vis_miles': 6.0,\n",
       "   'gust_mph': 14.3,\n",
       "   'gust_kph': 23.0,\n",
       "   'uv': 6.0},\n",
       "  {'time_epoch': 1624233600,\n",
       "   'time': '2021-06-20 20:00',\n",
       "   'temp_c': 29.1,\n",
       "   'temp_f': 84.4,\n",
       "   'is_day': 1,\n",
       "   'condition': {'text': 'Partly cloudy',\n",
       "    'icon': '//cdn.weatherapi.com/weather/64x64/day/116.png',\n",
       "    'code': 1003},\n",
       "   'wind_mph': 10.3,\n",
       "   'wind_kph': 16.6,\n",
       "   'wind_degree': 167,\n",
       "   'wind_dir': 'SSE',\n",
       "   'pressure_mb': 1018.0,\n",
       "   'pressure_in': 30.5,\n",
       "   'precip_mm': 0.0,\n",
       "   'precip_in': 0.0,\n",
       "   'humidity': 74,\n",
       "   'cloud': 7,\n",
       "   'feelslike_c': 33.7,\n",
       "   'feelslike_f': 92.7,\n",
       "   'windchill_c': 29.1,\n",
       "   'windchill_f': 84.4,\n",
       "   'heatindex_c': 33.7,\n",
       "   'heatindex_f': 92.7,\n",
       "   'dewpoint_c': 23.9,\n",
       "   'dewpoint_f': 75.0,\n",
       "   'will_it_rain': 0,\n",
       "   'chance_of_rain': '0',\n",
       "   'will_it_snow': 0,\n",
       "   'chance_of_snow': '0',\n",
       "   'vis_km': 10.0,\n",
       "   'vis_miles': 6.0,\n",
       "   'gust_mph': 13.9,\n",
       "   'gust_kph': 22.3,\n",
       "   'uv': 7.0},\n",
       "  {'time_epoch': 1624237200,\n",
       "   'time': '2021-06-20 21:00',\n",
       "   'temp_c': 28.9,\n",
       "   'temp_f': 84.0,\n",
       "   'is_day': 0,\n",
       "   'condition': {'text': 'Patchy rain possible',\n",
       "    'icon': '//cdn.weatherapi.com/weather/64x64/night/176.png',\n",
       "    'code': 1063},\n",
       "   'wind_mph': 10.1,\n",
       "   'wind_kph': 16.2,\n",
       "   'wind_degree': 166,\n",
       "   'wind_dir': 'SSE',\n",
       "   'pressure_mb': 1018.0,\n",
       "   'pressure_in': 30.5,\n",
       "   'precip_mm': 0.2,\n",
       "   'precip_in': 0.01,\n",
       "   'humidity': 75,\n",
       "   'cloud': 32,\n",
       "   'feelslike_c': 33.5,\n",
       "   'feelslike_f': 92.3,\n",
       "   'windchill_c': 28.9,\n",
       "   'windchill_f': 84.0,\n",
       "   'heatindex_c': 33.5,\n",
       "   'heatindex_f': 92.3,\n",
       "   'dewpoint_c': 24.0,\n",
       "   'dewpoint_f': 75.2,\n",
       "   'will_it_rain': 0,\n",
       "   'chance_of_rain': '25',\n",
       "   'will_it_snow': 0,\n",
       "   'chance_of_snow': '0',\n",
       "   'vis_km': 9.7,\n",
       "   'vis_miles': 6.0,\n",
       "   'gust_mph': 13.6,\n",
       "   'gust_kph': 22.0,\n",
       "   'uv': 1.0},\n",
       "  {'time_epoch': 1624240800,\n",
       "   'time': '2021-06-20 22:00',\n",
       "   'temp_c': 28.7,\n",
       "   'temp_f': 83.7,\n",
       "   'is_day': 0,\n",
       "   'condition': {'text': 'Partly cloudy',\n",
       "    'icon': '//cdn.weatherapi.com/weather/64x64/night/116.png',\n",
       "    'code': 1003},\n",
       "   'wind_mph': 9.8,\n",
       "   'wind_kph': 15.8,\n",
       "   'wind_degree': 165,\n",
       "   'wind_dir': 'SSE',\n",
       "   'pressure_mb': 1018.0,\n",
       "   'pressure_in': 30.6,\n",
       "   'precip_mm': 0.3,\n",
       "   'precip_in': 0.01,\n",
       "   'humidity': 77,\n",
       "   'cloud': 57,\n",
       "   'feelslike_c': 33.3,\n",
       "   'feelslike_f': 91.9,\n",
       "   'windchill_c': 28.7,\n",
       "   'windchill_f': 83.7,\n",
       "   'heatindex_c': 33.3,\n",
       "   'heatindex_f': 91.9,\n",
       "   'dewpoint_c': 24.2,\n",
       "   'dewpoint_f': 75.6,\n",
       "   'will_it_rain': 0,\n",
       "   'chance_of_rain': '50',\n",
       "   'will_it_snow': 0,\n",
       "   'chance_of_snow': '0',\n",
       "   'vis_km': 9.3,\n",
       "   'vis_miles': 5.0,\n",
       "   'gust_mph': 13.2,\n",
       "   'gust_kph': 21.2,\n",
       "   'uv': 1.0},\n",
       "  {'time_epoch': 1624244400,\n",
       "   'time': '2021-06-20 23:00',\n",
       "   'temp_c': 28.5,\n",
       "   'temp_f': 83.3,\n",
       "   'is_day': 0,\n",
       "   'condition': {'text': 'Patchy rain possible',\n",
       "    'icon': '//cdn.weatherapi.com/weather/64x64/night/176.png',\n",
       "    'code': 1063},\n",
       "   'wind_mph': 9.6,\n",
       "   'wind_kph': 15.5,\n",
       "   'wind_degree': 164,\n",
       "   'wind_dir': 'SSE',\n",
       "   'pressure_mb': 1019.0,\n",
       "   'pressure_in': 30.6,\n",
       "   'precip_mm': 0.5,\n",
       "   'precip_in': 0.02,\n",
       "   'humidity': 78,\n",
       "   'cloud': 82,\n",
       "   'feelslike_c': 33.1,\n",
       "   'feelslike_f': 91.6,\n",
       "   'windchill_c': 28.5,\n",
       "   'windchill_f': 83.3,\n",
       "   'heatindex_c': 33.1,\n",
       "   'heatindex_f': 91.6,\n",
       "   'dewpoint_c': 24.3,\n",
       "   'dewpoint_f': 75.7,\n",
       "   'will_it_rain': 1,\n",
       "   'chance_of_rain': '75',\n",
       "   'will_it_snow': 0,\n",
       "   'chance_of_snow': '0',\n",
       "   'vis_km': 9.0,\n",
       "   'vis_miles': 5.0,\n",
       "   'gust_mph': 13.0,\n",
       "   'gust_kph': 20.9,\n",
       "   'uv': 1.0}]}"
      ]
     },
     "execution_count": 67,
     "metadata": {},
     "output_type": "execute_result"
    }
   ],
   "source": [
    "data5['forecast']['forecastday'][0]"
   ]
  },
  {
   "cell_type": "code",
   "execution_count": 79,
   "metadata": {
    "scrolled": true
   },
   "outputs": [
    {
     "name": "stdout",
     "output_type": "stream",
     "text": [
      "These are high temperatures for each day.\n",
      "29.7 degrees Celsius on 2021-06-20. It's hot.\n",
      "29.5 degrees Celsius on 2021-06-21. It's hot.\n",
      "29.4 degrees Celsius on 2021-06-22. It's warm.\n"
     ]
    }
   ],
   "source": [
    "highs = data5['forecast']['forecastday']\n",
    "print(\"These are high temperatures for each day.\")\n",
    "for high in highs :\n",
    "    if high['day']['maxtemp_c'] >= 29.5:\n",
    "        print(f\"{high['day']['maxtemp_c']} degrees Celsius on {high['date']}. It's hot.\")\n",
    "    elif 29.5 > high['day']['maxtemp_c'] > 25.0:\n",
    "        print(f\"{high['day']['maxtemp_c']} degrees Celsius on {high['date']}. It's warm.\")\n",
    "    else:\n",
    "        print(f\"{high['day']['maxtemp_c']} degrees Celsius on {high['date']}. It's cold.\")"
   ]
  },
  {
   "cell_type": "markdown",
   "metadata": {},
   "source": [
    "# 6) What will be the hottest day in the next week? What is the high temperature on that day?"
   ]
  },
  {
   "cell_type": "code",
   "execution_count": 85,
   "metadata": {},
   "outputs": [
    {
     "name": "stdout",
     "output_type": "stream",
     "text": [
      "2021-06-20 is the hottest day with 28.8 degrees Celsius on average. The high temperature on the day is 29.7 degrees.\n"
     ]
    }
   ],
   "source": [
    "hottest_avg = 0\n",
    "hottest_day = ''\n",
    "hottest_max = ''\n",
    "\n",
    "for avg in highs :\n",
    "    if avg['day']['avgtemp_c'] > hottest_avg:\n",
    "        hottest_avg = avg['day']['avgtemp_c']\n",
    "        hottest_day = avg['date']\n",
    "        hottest_max = avg['day']['maxtemp_c']\n",
    "print(f\"{hottest_day} is the hottest day with {hottest_avg} degrees Celsius on average. The high temperature on the day is {hottest_max} degrees.\")"
   ]
  },
  {
   "cell_type": "code",
   "execution_count": null,
   "metadata": {
    "collapsed": true
   },
   "outputs": [],
   "source": []
  },
  {
   "cell_type": "markdown",
   "metadata": {},
   "source": [
    "## 7) What's the weather looking like for the next 24+ hours in Miami, Florida?\n",
    "\n",
    "I'd like to know the temperature for every hour, and if it's going to have cloud cover of more than 50% say \"{temperature} and cloudy\" instead of just the temperature. \n",
    "\n",
    "- *Tip: You'll only need one day of forecast*"
   ]
  },
  {
   "cell_type": "code",
   "execution_count": 100,
   "metadata": {},
   "outputs": [
    {
     "name": "stdout",
     "output_type": "stream",
     "text": [
      "{'location': {'name': 'Miami', 'region': 'Florida', 'country': 'United States of America', 'lat': 25.77, 'lon': -80.19, 'tz_id': 'America/Kentucky/Monticello', 'localtime_epoch': 1624177142, 'localtime': '2021-06-20 4:19'}, 'current': {'last_updated_epoch': 1624176900, 'last_updated': '2021-06-20 04:15', 'temp_c': 28.3, 'temp_f': 82.9, 'is_day': 0, 'condition': {'text': 'Partly cloudy', 'icon': '//cdn.weatherapi.com/weather/64x64/night/116.png', 'code': 1003}, 'wind_mph': 4.3, 'wind_kph': 6.8, 'wind_degree': 180, 'wind_dir': 'S', 'pressure_mb': 1017.0, 'pressure_in': 30.5, 'precip_mm': 0.0, 'precip_in': 0.0, 'humidity': 88, 'cloud': 75, 'feelslike_c': 33.1, 'feelslike_f': 91.6, 'vis_km': 16.0, 'vis_miles': 9.0, 'uv': 1.0, 'gust_mph': 11.4, 'gust_kph': 18.4}, 'forecast': {'forecastday': [{'date': '2021-06-20', 'date_epoch': 1624147200, 'day': {'maxtemp_c': 29.7, 'maxtemp_f': 85.5, 'mintemp_c': 28.0, 'mintemp_f': 82.4, 'avgtemp_c': 28.8, 'avgtemp_f': 83.8, 'maxwind_mph': 13.2, 'maxwind_kph': 21.2, 'totalprecip_mm': 3.3, 'totalprecip_in': 0.13, 'avgvis_km': 9.5, 'avgvis_miles': 5.0, 'avghumidity': 76.0, 'daily_will_it_rain': 1, 'daily_chance_of_rain': '88', 'daily_will_it_snow': 0, 'daily_chance_of_snow': '0', 'condition': {'text': 'Patchy rain possible', 'icon': '//cdn.weatherapi.com/weather/64x64/day/176.png', 'code': 1063}, 'uv': 9.0}, 'astro': {'sunrise': '06:29 AM', 'sunset': '08:15 PM', 'moonrise': '03:59 PM', 'moonset': '02:57 AM', 'moon_phase': 'Full Moon', 'moon_illumination': '76'}, 'hour': [{'time_epoch': 1624161600, 'time': '2021-06-20 00:00', 'temp_c': 28.4, 'temp_f': 83.1, 'is_day': 0, 'condition': {'text': 'Partly cloudy', 'icon': '//cdn.weatherapi.com/weather/64x64/night/116.png', 'code': 1003}, 'wind_mph': 10.1, 'wind_kph': 16.2, 'wind_degree': 119, 'wind_dir': 'ESE', 'pressure_mb': 1018.0, 'pressure_in': 30.5, 'precip_mm': 0.0, 'precip_in': 0.0, 'humidity': 80, 'cloud': 14, 'feelslike_c': 33.3, 'feelslike_f': 91.9, 'windchill_c': 28.4, 'windchill_f': 83.1, 'heatindex_c': 33.3, 'heatindex_f': 91.9, 'dewpoint_c': 24.7, 'dewpoint_f': 76.5, 'will_it_rain': 0, 'chance_of_rain': '0', 'will_it_snow': 0, 'chance_of_snow': '0', 'vis_km': 10.0, 'vis_miles': 6.0, 'gust_mph': 13.4, 'gust_kph': 21.6, 'uv': 1.0}, {'time_epoch': 1624165200, 'time': '2021-06-20 01:00', 'temp_c': 28.5, 'temp_f': 83.3, 'is_day': 0, 'condition': {'text': 'Partly cloudy', 'icon': '//cdn.weatherapi.com/weather/64x64/night/116.png', 'code': 1003}, 'wind_mph': 8.7, 'wind_kph': 14.0, 'wind_degree': 127, 'wind_dir': 'SE', 'pressure_mb': 1018.0, 'pressure_in': 30.5, 'precip_mm': 0.0, 'precip_in': 0.0, 'humidity': 81, 'cloud': 11, 'feelslike_c': 33.5, 'feelslike_f': 92.3, 'windchill_c': 28.5, 'windchill_f': 83.3, 'heatindex_c': 33.5, 'heatindex_f': 92.3, 'dewpoint_c': 24.8, 'dewpoint_f': 76.6, 'will_it_rain': 0, 'chance_of_rain': '0', 'will_it_snow': 0, 'chance_of_snow': '0', 'vis_km': 10.0, 'vis_miles': 6.0, 'gust_mph': 11.4, 'gust_kph': 18.4, 'uv': 1.0}, {'time_epoch': 1624168800, 'time': '2021-06-20 02:00', 'temp_c': 28.5, 'temp_f': 83.3, 'is_day': 0, 'condition': {'text': 'Partly cloudy', 'icon': '//cdn.weatherapi.com/weather/64x64/night/116.png', 'code': 1003}, 'wind_mph': 7.2, 'wind_kph': 11.5, 'wind_degree': 134, 'wind_dir': 'SE', 'pressure_mb': 1017.0, 'pressure_in': 30.5, 'precip_mm': 0.0, 'precip_in': 0.0, 'humidity': 81, 'cloud': 9, 'feelslike_c': 33.6, 'feelslike_f': 92.5, 'windchill_c': 28.5, 'windchill_f': 83.3, 'heatindex_c': 33.6, 'heatindex_f': 92.5, 'dewpoint_c': 24.9, 'dewpoint_f': 76.8, 'will_it_rain': 0, 'chance_of_rain': '0', 'will_it_snow': 0, 'chance_of_snow': '0', 'vis_km': 10.0, 'vis_miles': 6.0, 'gust_mph': 9.4, 'gust_kph': 15.1, 'uv': 1.0}, {'time_epoch': 1624172400, 'time': '2021-06-20 03:00', 'temp_c': 28.3, 'temp_f': 82.9, 'is_day': 0, 'condition': {'text': 'Light rain shower', 'icon': '//cdn.weatherapi.com/weather/64x64/night/353.png', 'code': 1240}, 'wind_mph': 8.5, 'wind_kph': 13.7, 'wind_degree': 142, 'wind_dir': 'SE', 'pressure_mb': 1017.0, 'pressure_in': 30.5, 'precip_mm': 0.1, 'precip_in': 0.0, 'humidity': 81, 'cloud': 30, 'feelslike_c': 33.2, 'feelslike_f': 91.8, 'windchill_c': 28.3, 'windchill_f': 82.9, 'heatindex_c': 33.2, 'heatindex_f': 91.8, 'dewpoint_c': 24.7, 'dewpoint_f': 76.5, 'will_it_rain': 0, 'chance_of_rain': '24', 'will_it_snow': 0, 'chance_of_snow': '0', 'vis_km': 10.0, 'vis_miles': 6.0, 'gust_mph': 11.2, 'gust_kph': 18.0, 'uv': 1.0}, {'time_epoch': 1624176000, 'time': '2021-06-20 04:00', 'temp_c': 28.2, 'temp_f': 82.8, 'is_day': 0, 'condition': {'text': 'Partly cloudy', 'icon': '//cdn.weatherapi.com/weather/64x64/night/116.png', 'code': 1003}, 'wind_mph': 9.6, 'wind_kph': 15.5, 'wind_degree': 151, 'wind_dir': 'SSE', 'pressure_mb': 1017.0, 'pressure_in': 30.5, 'precip_mm': 0.1, 'precip_in': 0.0, 'humidity': 81, 'cloud': 51, 'feelslike_c': 32.8, 'feelslike_f': 91.0, 'windchill_c': 28.2, 'windchill_f': 82.8, 'heatindex_c': 32.8, 'heatindex_f': 91.0, 'dewpoint_c': 24.5, 'dewpoint_f': 76.1, 'will_it_rain': 0, 'chance_of_rain': '48', 'will_it_snow': 0, 'chance_of_snow': '0', 'vis_km': 10.0, 'vis_miles': 6.0, 'gust_mph': 13.2, 'gust_kph': 21.2, 'uv': 1.0}, {'time_epoch': 1624179600, 'time': '2021-06-20 05:00', 'temp_c': 28.0, 'temp_f': 82.4, 'is_day': 0, 'condition': {'text': 'Light rain shower', 'icon': '//cdn.weatherapi.com/weather/64x64/night/353.png', 'code': 1240}, 'wind_mph': 11.0, 'wind_kph': 17.6, 'wind_degree': 159, 'wind_dir': 'SSE', 'pressure_mb': 1017.0, 'pressure_in': 30.5, 'precip_mm': 0.2, 'precip_in': 0.01, 'humidity': 80, 'cloud': 72, 'feelslike_c': 32.4, 'feelslike_f': 90.3, 'windchill_c': 28.0, 'windchill_f': 82.4, 'heatindex_c': 32.4, 'heatindex_f': 90.3, 'dewpoint_c': 24.3, 'dewpoint_f': 75.7, 'will_it_rain': 1, 'chance_of_rain': '72', 'will_it_snow': 0, 'chance_of_snow': '0', 'vis_km': 10.0, 'vis_miles': 6.0, 'gust_mph': 15.0, 'gust_kph': 24.1, 'uv': 1.0}, {'time_epoch': 1624183200, 'time': '2021-06-20 06:00', 'temp_c': 28.0, 'temp_f': 82.4, 'is_day': 0, 'condition': {'text': 'Patchy rain possible', 'icon': '//cdn.weatherapi.com/weather/64x64/night/176.png', 'code': 1063}, 'wind_mph': 11.0, 'wind_kph': 17.6, 'wind_degree': 162, 'wind_dir': 'SSE', 'pressure_mb': 1018.0, 'pressure_in': 30.5, 'precip_mm': 0.3, 'precip_in': 0.01, 'humidity': 80, 'cloud': 75, 'feelslike_c': 32.3, 'feelslike_f': 90.1, 'windchill_c': 28.0, 'windchill_f': 82.4, 'heatindex_c': 32.3, 'heatindex_f': 90.1, 'dewpoint_c': 24.2, 'dewpoint_f': 75.6, 'will_it_rain': 0, 'chance_of_rain': '68', 'will_it_snow': 0, 'chance_of_snow': '0', 'vis_km': 9.7, 'vis_miles': 6.0, 'gust_mph': 15.0, 'gust_kph': 24.1, 'uv': 1.0}, {'time_epoch': 1624186800, 'time': '2021-06-20 07:00', 'temp_c': 28.0, 'temp_f': 82.4, 'is_day': 1, 'condition': {'text': 'Light rain shower', 'icon': '//cdn.weatherapi.com/weather/64x64/day/353.png', 'code': 1240}, 'wind_mph': 10.7, 'wind_kph': 17.3, 'wind_degree': 165, 'wind_dir': 'SSE', 'pressure_mb': 1018.0, 'pressure_in': 30.5, 'precip_mm': 0.5, 'precip_in': 0.02, 'humidity': 80, 'cloud': 77, 'feelslike_c': 32.3, 'feelslike_f': 90.1, 'windchill_c': 28.0, 'windchill_f': 82.4, 'heatindex_c': 32.3, 'heatindex_f': 90.1, 'dewpoint_c': 24.1, 'dewpoint_f': 75.4, 'will_it_rain': 0, 'chance_of_rain': '64', 'will_it_snow': 0, 'chance_of_snow': '0', 'vis_km': 9.3, 'vis_miles': 5.0, 'gust_mph': 14.8, 'gust_kph': 23.8, 'uv': 6.0}, {'time_epoch': 1624190400, 'time': '2021-06-20 08:00', 'temp_c': 28.0, 'temp_f': 82.4, 'is_day': 1, 'condition': {'text': 'Patchy rain possible', 'icon': '//cdn.weatherapi.com/weather/64x64/day/176.png', 'code': 1063}, 'wind_mph': 10.7, 'wind_kph': 17.3, 'wind_degree': 169, 'wind_dir': 'S', 'pressure_mb': 1019.0, 'pressure_in': 30.6, 'precip_mm': 0.6, 'precip_in': 0.02, 'humidity': 79, 'cloud': 80, 'feelslike_c': 32.2, 'feelslike_f': 90.0, 'windchill_c': 28.0, 'windchill_f': 82.4, 'heatindex_c': 32.2, 'heatindex_f': 90.0, 'dewpoint_c': 24.0, 'dewpoint_f': 75.2, 'will_it_rain': 0, 'chance_of_rain': '60', 'will_it_snow': 0, 'chance_of_snow': '0', 'vis_km': 9.0, 'vis_miles': 5.0, 'gust_mph': 14.8, 'gust_kph': 23.8, 'uv': 6.0}, {'time_epoch': 1624194000, 'time': '2021-06-20 09:00', 'temp_c': 28.3, 'temp_f': 82.9, 'is_day': 1, 'condition': {'text': 'Patchy rain possible', 'icon': '//cdn.weatherapi.com/weather/64x64/day/176.png', 'code': 1063}, 'wind_mph': 11.6, 'wind_kph': 18.7, 'wind_degree': 165, 'wind_dir': 'SSE', 'pressure_mb': 1019.0, 'pressure_in': 30.6, 'precip_mm': 0.8, 'precip_in': 0.03, 'humidity': 78, 'cloud': 80, 'feelslike_c': 32.8, 'feelslike_f': 91.0, 'windchill_c': 28.3, 'windchill_f': 82.9, 'heatindex_c': 32.8, 'heatindex_f': 91.0, 'dewpoint_c': 24.1, 'dewpoint_f': 75.4, 'will_it_rain': 0, 'chance_of_rain': '69', 'will_it_snow': 0, 'chance_of_snow': '0', 'vis_km': 9.0, 'vis_miles': 5.0, 'gust_mph': 15.9, 'gust_kph': 25.6, 'uv': 6.0}, {'time_epoch': 1624197600, 'time': '2021-06-20 10:00', 'temp_c': 28.7, 'temp_f': 83.7, 'is_day': 1, 'condition': {'text': 'Patchy rain possible', 'icon': '//cdn.weatherapi.com/weather/64x64/day/176.png', 'code': 1063}, 'wind_mph': 12.3, 'wind_kph': 19.8, 'wind_degree': 161, 'wind_dir': 'SSE', 'pressure_mb': 1019.0, 'pressure_in': 30.6, 'precip_mm': 1.0, 'precip_in': 0.04, 'humidity': 77, 'cloud': 80, 'feelslike_c': 33.3, 'feelslike_f': 91.9, 'windchill_c': 28.7, 'windchill_f': 83.7, 'heatindex_c': 33.3, 'heatindex_f': 91.9, 'dewpoint_c': 24.2, 'dewpoint_f': 75.6, 'will_it_rain': 1, 'chance_of_rain': '79', 'will_it_snow': 0, 'chance_of_snow': '0', 'vis_km': 9.0, 'vis_miles': 5.0, 'gust_mph': 16.8, 'gust_kph': 27.0, 'uv': 6.0}, {'time_epoch': 1624201200, 'time': '2021-06-20 11:00', 'temp_c': 29.0, 'temp_f': 84.2, 'is_day': 1, 'condition': {'text': 'Patchy rain possible', 'icon': '//cdn.weatherapi.com/weather/64x64/day/176.png', 'code': 1063}, 'wind_mph': 13.2, 'wind_kph': 21.2, 'wind_degree': 158, 'wind_dir': 'SSE', 'pressure_mb': 1019.0, 'pressure_in': 30.6, 'precip_mm': 1.2, 'precip_in': 0.05, 'humidity': 76, 'cloud': 80, 'feelslike_c': 33.9, 'feelslike_f': 93.0, 'windchill_c': 29.0, 'windchill_f': 84.2, 'heatindex_c': 33.9, 'heatindex_f': 93.0, 'dewpoint_c': 24.3, 'dewpoint_f': 75.7, 'will_it_rain': 1, 'chance_of_rain': '88', 'will_it_snow': 0, 'chance_of_snow': '0', 'vis_km': 9.0, 'vis_miles': 5.0, 'gust_mph': 17.9, 'gust_kph': 28.8, 'uv': 6.0}, {'time_epoch': 1624204800, 'time': '2021-06-20 12:00', 'temp_c': 29.2, 'temp_f': 84.6, 'is_day': 1, 'condition': {'text': 'Patchy rain possible', 'icon': '//cdn.weatherapi.com/weather/64x64/day/176.png', 'code': 1063}, 'wind_mph': 12.8, 'wind_kph': 20.5, 'wind_degree': 160, 'wind_dir': 'SSE', 'pressure_mb': 1019.0, 'pressure_in': 30.6, 'precip_mm': 1.0, 'precip_in': 0.04, 'humidity': 75, 'cloud': 79, 'feelslike_c': 34.1, 'feelslike_f': 93.4, 'windchill_c': 29.2, 'windchill_f': 84.6, 'heatindex_c': 34.1, 'heatindex_f': 93.4, 'dewpoint_c': 24.2, 'dewpoint_f': 75.6, 'will_it_rain': 1, 'chance_of_rain': '83', 'will_it_snow': 0, 'chance_of_snow': '0', 'vis_km': 9.0, 'vis_miles': 5.0, 'gust_mph': 17.0, 'gust_kph': 27.4, 'uv': 6.0}, {'time_epoch': 1624208400, 'time': '2021-06-20 13:00', 'temp_c': 29.4, 'temp_f': 84.9, 'is_day': 1, 'condition': {'text': 'Patchy rain possible', 'icon': '//cdn.weatherapi.com/weather/64x64/day/176.png', 'code': 1063}, 'wind_mph': 12.5, 'wind_kph': 20.2, 'wind_degree': 162, 'wind_dir': 'SSE', 'pressure_mb': 1019.0, 'pressure_in': 30.6, 'precip_mm': 0.9, 'precip_in': 0.04, 'humidity': 73, 'cloud': 79, 'feelslike_c': 34.3, 'feelslike_f': 93.7, 'windchill_c': 29.4, 'windchill_f': 84.9, 'heatindex_c': 34.3, 'heatindex_f': 93.7, 'dewpoint_c': 24.2, 'dewpoint_f': 75.6, 'will_it_rain': 1, 'chance_of_rain': '77', 'will_it_snow': 0, 'chance_of_snow': '0', 'vis_km': 9.0, 'vis_miles': 5.0, 'gust_mph': 16.1, 'gust_kph': 25.9, 'uv': 6.0}, {'time_epoch': 1624212000, 'time': '2021-06-20 14:00', 'temp_c': 29.6, 'temp_f': 85.3, 'is_day': 1, 'condition': {'text': 'Patchy rain possible', 'icon': '//cdn.weatherapi.com/weather/64x64/day/176.png', 'code': 1063}, 'wind_mph': 12.1, 'wind_kph': 19.4, 'wind_degree': 164, 'wind_dir': 'SSE', 'pressure_mb': 1018.0, 'pressure_in': 30.5, 'precip_mm': 0.7, 'precip_in': 0.03, 'humidity': 72, 'cloud': 78, 'feelslike_c': 34.5, 'feelslike_f': 94.1, 'windchill_c': 29.6, 'windchill_f': 85.3, 'heatindex_c': 34.5, 'heatindex_f': 94.1, 'dewpoint_c': 24.1, 'dewpoint_f': 75.4, 'will_it_rain': 1, 'chance_of_rain': '72', 'will_it_snow': 0, 'chance_of_snow': '0', 'vis_km': 9.0, 'vis_miles': 5.0, 'gust_mph': 15.2, 'gust_kph': 24.5, 'uv': 6.0}, {'time_epoch': 1624215600, 'time': '2021-06-20 15:00', 'temp_c': 29.6, 'temp_f': 85.3, 'is_day': 1, 'condition': {'text': 'Patchy rain possible', 'icon': '//cdn.weatherapi.com/weather/64x64/day/176.png', 'code': 1063}, 'wind_mph': 12.1, 'wind_kph': 19.4, 'wind_degree': 162, 'wind_dir': 'SSE', 'pressure_mb': 1018.0, 'pressure_in': 30.5, 'precip_mm': 0.5, 'precip_in': 0.02, 'humidity': 72, 'cloud': 81, 'feelslike_c': 34.5, 'feelslike_f': 94.1, 'windchill_c': 29.6, 'windchill_f': 85.3, 'heatindex_c': 34.5, 'heatindex_f': 94.1, 'dewpoint_c': 24.0, 'dewpoint_f': 75.2, 'will_it_rain': 1, 'chance_of_rain': '77', 'will_it_snow': 0, 'chance_of_snow': '0', 'vis_km': 9.3, 'vis_miles': 5.0, 'gust_mph': 15.2, 'gust_kph': 24.5, 'uv': 6.0}, {'time_epoch': 1624219200, 'time': '2021-06-20 16:00', 'temp_c': 29.7, 'temp_f': 85.5, 'is_day': 1, 'condition': {'text': 'Patchy rain possible', 'icon': '//cdn.weatherapi.com/weather/64x64/day/176.png', 'code': 1063}, 'wind_mph': 12.1, 'wind_kph': 19.4, 'wind_degree': 160, 'wind_dir': 'SSE', 'pressure_mb': 1017.0, 'pressure_in': 30.5, 'precip_mm': 0.3, 'precip_in': 0.01, 'humidity': 71, 'cloud': 85, 'feelslike_c': 34.4, 'feelslike_f': 93.9, 'windchill_c': 29.7, 'windchill_f': 85.5, 'heatindex_c': 34.4, 'heatindex_f': 93.9, 'dewpoint_c': 23.8, 'dewpoint_f': 74.8, 'will_it_rain': 1, 'chance_of_rain': '81', 'will_it_snow': 0, 'chance_of_snow': '0', 'vis_km': 9.7, 'vis_miles': 6.0, 'gust_mph': 15.2, 'gust_kph': 24.5, 'uv': 6.0}, {'time_epoch': 1624222800, 'time': '2021-06-20 17:00', 'temp_c': 29.7, 'temp_f': 85.5, 'is_day': 1, 'condition': {'text': 'Patchy rain possible', 'icon': '//cdn.weatherapi.com/weather/64x64/day/176.png', 'code': 1063}, 'wind_mph': 12.1, 'wind_kph': 19.4, 'wind_degree': 157, 'wind_dir': 'SSE', 'pressure_mb': 1017.0, 'pressure_in': 30.5, 'precip_mm': 0.1, 'precip_in': 0.0, 'humidity': 70, 'cloud': 88, 'feelslike_c': 34.4, 'feelslike_f': 93.9, 'windchill_c': 29.7, 'windchill_f': 85.5, 'heatindex_c': 34.4, 'heatindex_f': 93.9, 'dewpoint_c': 23.7, 'dewpoint_f': 74.7, 'will_it_rain': 1, 'chance_of_rain': '86', 'will_it_snow': 0, 'chance_of_snow': '0', 'vis_km': 10.0, 'vis_miles': 6.0, 'gust_mph': 15.2, 'gust_kph': 24.5, 'uv': 6.0}, {'time_epoch': 1624226400, 'time': '2021-06-20 18:00', 'temp_c': 29.5, 'temp_f': 85.1, 'is_day': 1, 'condition': {'text': 'Partly cloudy', 'icon': '//cdn.weatherapi.com/weather/64x64/day/116.png', 'code': 1003}, 'wind_mph': 11.4, 'wind_kph': 18.4, 'wind_degree': 161, 'wind_dir': 'SSE', 'pressure_mb': 1017.0, 'pressure_in': 30.5, 'precip_mm': 0.1, 'precip_in': 0.0, 'humidity': 71, 'cloud': 61, 'feelslike_c': 34.2, 'feelslike_f': 93.6, 'windchill_c': 29.5, 'windchill_f': 85.1, 'heatindex_c': 34.2, 'heatindex_f': 93.6, 'dewpoint_c': 23.8, 'dewpoint_f': 74.8, 'will_it_rain': 0, 'chance_of_rain': '57', 'will_it_snow': 0, 'chance_of_snow': '0', 'vis_km': 10.0, 'vis_miles': 6.0, 'gust_mph': 14.8, 'gust_kph': 23.8, 'uv': 7.0}, {'time_epoch': 1624230000, 'time': '2021-06-20 19:00', 'temp_c': 29.3, 'temp_f': 84.7, 'is_day': 1, 'condition': {'text': 'Patchy rain possible', 'icon': '//cdn.weatherapi.com/weather/64x64/day/176.png', 'code': 1063}, 'wind_mph': 11.0, 'wind_kph': 17.6, 'wind_degree': 164, 'wind_dir': 'SSE', 'pressure_mb': 1018.0, 'pressure_in': 30.5, 'precip_mm': 0.0, 'precip_in': 0.0, 'humidity': 73, 'cloud': 34, 'feelslike_c': 33.9, 'feelslike_f': 93.0, 'windchill_c': 29.3, 'windchill_f': 84.7, 'heatindex_c': 33.9, 'heatindex_f': 93.0, 'dewpoint_c': 23.8, 'dewpoint_f': 74.8, 'will_it_rain': 0, 'chance_of_rain': '29', 'will_it_snow': 0, 'chance_of_snow': '0', 'vis_km': 10.0, 'vis_miles': 6.0, 'gust_mph': 14.3, 'gust_kph': 23.0, 'uv': 6.0}, {'time_epoch': 1624233600, 'time': '2021-06-20 20:00', 'temp_c': 29.1, 'temp_f': 84.4, 'is_day': 1, 'condition': {'text': 'Partly cloudy', 'icon': '//cdn.weatherapi.com/weather/64x64/day/116.png', 'code': 1003}, 'wind_mph': 10.3, 'wind_kph': 16.6, 'wind_degree': 167, 'wind_dir': 'SSE', 'pressure_mb': 1018.0, 'pressure_in': 30.5, 'precip_mm': 0.0, 'precip_in': 0.0, 'humidity': 74, 'cloud': 7, 'feelslike_c': 33.7, 'feelslike_f': 92.7, 'windchill_c': 29.1, 'windchill_f': 84.4, 'heatindex_c': 33.7, 'heatindex_f': 92.7, 'dewpoint_c': 23.9, 'dewpoint_f': 75.0, 'will_it_rain': 0, 'chance_of_rain': '0', 'will_it_snow': 0, 'chance_of_snow': '0', 'vis_km': 10.0, 'vis_miles': 6.0, 'gust_mph': 13.9, 'gust_kph': 22.3, 'uv': 7.0}, {'time_epoch': 1624237200, 'time': '2021-06-20 21:00', 'temp_c': 28.9, 'temp_f': 84.0, 'is_day': 0, 'condition': {'text': 'Patchy rain possible', 'icon': '//cdn.weatherapi.com/weather/64x64/night/176.png', 'code': 1063}, 'wind_mph': 10.1, 'wind_kph': 16.2, 'wind_degree': 166, 'wind_dir': 'SSE', 'pressure_mb': 1018.0, 'pressure_in': 30.5, 'precip_mm': 0.2, 'precip_in': 0.01, 'humidity': 75, 'cloud': 32, 'feelslike_c': 33.5, 'feelslike_f': 92.3, 'windchill_c': 28.9, 'windchill_f': 84.0, 'heatindex_c': 33.5, 'heatindex_f': 92.3, 'dewpoint_c': 24.0, 'dewpoint_f': 75.2, 'will_it_rain': 0, 'chance_of_rain': '25', 'will_it_snow': 0, 'chance_of_snow': '0', 'vis_km': 9.7, 'vis_miles': 6.0, 'gust_mph': 13.6, 'gust_kph': 22.0, 'uv': 1.0}, {'time_epoch': 1624240800, 'time': '2021-06-20 22:00', 'temp_c': 28.7, 'temp_f': 83.7, 'is_day': 0, 'condition': {'text': 'Partly cloudy', 'icon': '//cdn.weatherapi.com/weather/64x64/night/116.png', 'code': 1003}, 'wind_mph': 9.8, 'wind_kph': 15.8, 'wind_degree': 165, 'wind_dir': 'SSE', 'pressure_mb': 1018.0, 'pressure_in': 30.6, 'precip_mm': 0.3, 'precip_in': 0.01, 'humidity': 77, 'cloud': 57, 'feelslike_c': 33.3, 'feelslike_f': 91.9, 'windchill_c': 28.7, 'windchill_f': 83.7, 'heatindex_c': 33.3, 'heatindex_f': 91.9, 'dewpoint_c': 24.2, 'dewpoint_f': 75.6, 'will_it_rain': 0, 'chance_of_rain': '50', 'will_it_snow': 0, 'chance_of_snow': '0', 'vis_km': 9.3, 'vis_miles': 5.0, 'gust_mph': 13.2, 'gust_kph': 21.2, 'uv': 1.0}, {'time_epoch': 1624244400, 'time': '2021-06-20 23:00', 'temp_c': 28.5, 'temp_f': 83.3, 'is_day': 0, 'condition': {'text': 'Patchy rain possible', 'icon': '//cdn.weatherapi.com/weather/64x64/night/176.png', 'code': 1063}, 'wind_mph': 9.6, 'wind_kph': 15.5, 'wind_degree': 164, 'wind_dir': 'SSE', 'pressure_mb': 1019.0, 'pressure_in': 30.6, 'precip_mm': 0.5, 'precip_in': 0.02, 'humidity': 78, 'cloud': 82, 'feelslike_c': 33.1, 'feelslike_f': 91.6, 'windchill_c': 28.5, 'windchill_f': 83.3, 'heatindex_c': 33.1, 'heatindex_f': 91.6, 'dewpoint_c': 24.3, 'dewpoint_f': 75.7, 'will_it_rain': 1, 'chance_of_rain': '75', 'will_it_snow': 0, 'chance_of_snow': '0', 'vis_km': 9.0, 'vis_miles': 5.0, 'gust_mph': 13.0, 'gust_kph': 20.9, 'uv': 1.0}]}]}}\n"
     ]
    }
   ],
   "source": [
    "hours = requests.get(\"http://api.weatherapi.com/v1/forecast.json?key=43f4b06173444f3699b210224211406&q=Miami&days=1&aqi=no&alerts=no\")\n",
    "data6 = hours.json()\n",
    "print(data6)"
   ]
  },
  {
   "cell_type": "code",
   "execution_count": 102,
   "metadata": {},
   "outputs": [
    {
     "data": {
      "text/plain": [
       "24"
      ]
     },
     "execution_count": 102,
     "metadata": {},
     "output_type": "execute_result"
    }
   ],
   "source": [
    "len(data6['forecast']['forecastday'][0]['hour'])"
   ]
  },
  {
   "cell_type": "code",
   "execution_count": 103,
   "metadata": {},
   "outputs": [
    {
     "data": {
      "text/plain": [
       "{'time_epoch': 1624161600,\n",
       " 'time': '2021-06-20 00:00',\n",
       " 'temp_c': 28.4,\n",
       " 'temp_f': 83.1,\n",
       " 'is_day': 0,\n",
       " 'condition': {'text': 'Partly cloudy',\n",
       "  'icon': '//cdn.weatherapi.com/weather/64x64/night/116.png',\n",
       "  'code': 1003},\n",
       " 'wind_mph': 10.1,\n",
       " 'wind_kph': 16.2,\n",
       " 'wind_degree': 119,\n",
       " 'wind_dir': 'ESE',\n",
       " 'pressure_mb': 1018.0,\n",
       " 'pressure_in': 30.5,\n",
       " 'precip_mm': 0.0,\n",
       " 'precip_in': 0.0,\n",
       " 'humidity': 80,\n",
       " 'cloud': 14,\n",
       " 'feelslike_c': 33.3,\n",
       " 'feelslike_f': 91.9,\n",
       " 'windchill_c': 28.4,\n",
       " 'windchill_f': 83.1,\n",
       " 'heatindex_c': 33.3,\n",
       " 'heatindex_f': 91.9,\n",
       " 'dewpoint_c': 24.7,\n",
       " 'dewpoint_f': 76.5,\n",
       " 'will_it_rain': 0,\n",
       " 'chance_of_rain': '0',\n",
       " 'will_it_snow': 0,\n",
       " 'chance_of_snow': '0',\n",
       " 'vis_km': 10.0,\n",
       " 'vis_miles': 6.0,\n",
       " 'gust_mph': 13.4,\n",
       " 'gust_kph': 21.6,\n",
       " 'uv': 1.0}"
      ]
     },
     "execution_count": 103,
     "metadata": {},
     "output_type": "execute_result"
    }
   ],
   "source": [
    "data6['forecast']['forecastday'][0]['hour'][0]"
   ]
  },
  {
   "cell_type": "code",
   "execution_count": 107,
   "metadata": {},
   "outputs": [
    {
     "name": "stdout",
     "output_type": "stream",
     "text": [
      "Forecast for next 24 hours in Miami.\n",
      "Temperature at 2021-06-20 00:00 is 28.4 degrees Celsius.\n",
      "Temperature at 2021-06-20 01:00 is 28.5 degrees Celsius.\n",
      "Temperature at 2021-06-20 02:00 is 28.5 degrees Celsius.\n",
      "Temperature at 2021-06-20 03:00 is 28.3 degrees Celsius.\n",
      "Temperature at 2021-06-20 04:00 is 28.2 degrees Celsius and cloudy.\n",
      "Temperature at 2021-06-20 05:00 is 28.0 degrees Celsius and cloudy.\n",
      "Temperature at 2021-06-20 06:00 is 28.0 degrees Celsius and cloudy.\n",
      "Temperature at 2021-06-20 07:00 is 28.0 degrees Celsius and cloudy.\n",
      "Temperature at 2021-06-20 08:00 is 28.0 degrees Celsius and cloudy.\n",
      "Temperature at 2021-06-20 09:00 is 28.3 degrees Celsius and cloudy.\n",
      "Temperature at 2021-06-20 10:00 is 28.7 degrees Celsius and cloudy.\n",
      "Temperature at 2021-06-20 11:00 is 29.0 degrees Celsius and cloudy.\n",
      "Temperature at 2021-06-20 12:00 is 29.2 degrees Celsius and cloudy.\n",
      "Temperature at 2021-06-20 13:00 is 29.4 degrees Celsius and cloudy.\n",
      "Temperature at 2021-06-20 14:00 is 29.6 degrees Celsius and cloudy.\n",
      "Temperature at 2021-06-20 15:00 is 29.6 degrees Celsius and cloudy.\n",
      "Temperature at 2021-06-20 16:00 is 29.7 degrees Celsius and cloudy.\n",
      "Temperature at 2021-06-20 17:00 is 29.7 degrees Celsius and cloudy.\n",
      "Temperature at 2021-06-20 18:00 is 29.5 degrees Celsius and cloudy.\n",
      "Temperature at 2021-06-20 19:00 is 29.3 degrees Celsius.\n",
      "Temperature at 2021-06-20 20:00 is 29.1 degrees Celsius.\n",
      "Temperature at 2021-06-20 21:00 is 28.9 degrees Celsius.\n",
      "Temperature at 2021-06-20 22:00 is 28.7 degrees Celsius and cloudy.\n",
      "Temperature at 2021-06-20 23:00 is 28.5 degrees Celsius and cloudy.\n"
     ]
    }
   ],
   "source": [
    "print(\"Forecast for next 24 hours in Miami.\")\n",
    "hour_temps = data6['forecast']['forecastday'][0]['hour']\n",
    "for hour_temp in hour_temps:\n",
    "    if hour_temp['cloud'] > 50:\n",
    "        print(f\"Temperature at {hour_temp['time']} is {hour_temp['temp_c']} degrees Celsius and cloudy.\")\n",
    "    else:\n",
    "              print(f\"Temperature at {hour_temp['time']} is {hour_temp['temp_c']} degrees Celsius.\")"
   ]
  },
  {
   "cell_type": "code",
   "execution_count": null,
   "metadata": {},
   "outputs": [],
   "source": []
  },
  {
   "cell_type": "markdown",
   "metadata": {},
   "source": [
    "# 8) For the next 24-ish hours in Miami, what percent of the time is the temperature above 85 degrees?\n",
    "\n",
    "- *Tip: You might want to read up on [looping patterns](http://jonathansoma.com/lede/foundations-2017/classes/data%20structures/looping-patterns/)*"
   ]
  },
  {
   "cell_type": "code",
   "execution_count": 112,
   "metadata": {},
   "outputs": [
    {
     "name": "stdout",
     "output_type": "stream",
     "text": [
      "20.8 % of the time is abovee 85 degrees for the next 24-ish hours.\n"
     ]
    }
   ],
   "source": [
    "count = 0\n",
    "for hour_tempf in hour_temps:\n",
    "    if hour_tempf['temp_f'] > 85:\n",
    "        count = count + 1\n",
    "print(f\"{round(count/24*100,1)} % of the time is abovee 85 degrees for the next 24-ish hours.\")"
   ]
  },
  {
   "cell_type": "code",
   "execution_count": null,
   "metadata": {
    "collapsed": true
   },
   "outputs": [],
   "source": []
  },
  {
   "cell_type": "markdown",
   "metadata": {},
   "source": [
    "## 9) What was the temperature in Central Park on Christmas Day, 2020? How about 2012? 2007? How far back does the API allow you to go?\n",
    "\n",
    "- *Tip: You'll need to use latitude/longitude. You can ask Google where Central Park is, it knows*\n",
    "- *Tip: Remember when latitude/longitude might use negative numbers*"
   ]
  },
  {
   "cell_type": "code",
   "execution_count": 117,
   "metadata": {},
   "outputs": [
    {
     "name": "stdout",
     "output_type": "stream",
     "text": [
      "API can show the historical weather data on/after Jan 1st, 2010. Weather API's  document says.\n"
     ]
    }
   ],
   "source": [
    "print(\"API can show the historical weather data on/after Jan 1st, 2010. Weather API's  document says.\")"
   ]
  },
  {
   "cell_type": "code",
   "execution_count": 119,
   "metadata": {},
   "outputs": [
    {
     "name": "stdout",
     "output_type": "stream",
     "text": [
      "<Response [400]>\n"
     ]
    }
   ],
   "source": [
    "history = requests.get(\"http://api.weatherapi.com/v1/history.json?key=43f4b06173444f3699b210224211406&q=40.7812,-73.9665&dt=2020-12-25\")\n",
    "data7 = history\n",
    "print(data7)"
   ]
  },
  {
   "cell_type": "code",
   "execution_count": 121,
   "metadata": {},
   "outputs": [
    {
     "name": "stdout",
     "output_type": "stream",
     "text": [
      "According to API explorer, 'API key is limited to history data. please check our prising pages and upgrage to higher plan.''\n"
     ]
    }
   ],
   "source": [
    "print(\"According to API explorer, 'API key is limited to history data. please check our prising pages and upgrage to higher plan.''\")"
   ]
  },
  {
   "cell_type": "code",
   "execution_count": null,
   "metadata": {},
   "outputs": [],
   "source": []
  }
 ],
 "metadata": {
  "kernelspec": {
   "display_name": "Python 3",
   "language": "python",
   "name": "python3"
  },
  "language_info": {
   "codemirror_mode": {
    "name": "ipython",
    "version": 3
   },
   "file_extension": ".py",
   "mimetype": "text/x-python",
   "name": "python",
   "nbconvert_exporter": "python",
   "pygments_lexer": "ipython3",
   "version": "3.8.10"
  }
 },
 "nbformat": 4,
 "nbformat_minor": 1
}
