{
 "cells": [
  {
   "cell_type": "markdown",
   "metadata": {},
   "source": [
    "# WeatherAPI (Weather)\n",
    "\n",
    "Answer the following questions using [WeatherAPI](http://www.weatherapi.com/). I've added three cells for most questions but you're free to use more or less! Hold `Shift` and hit `Enter` to run a cell, and use the `+` on the top left to add a new cell to a notebook.\n",
    "\n",
    "Be sure to take advantage of both the documentation and the API Explorer!\n",
    "\n",
    "## 0) Import any libraries you might need\n",
    "\n",
    "- *Tip: We're going to be downloading things from the internet, so we probably need `requests`.*\n",
    "- *Tip: Remember you only need to import requests once!*"
   ]
  },
  {
   "cell_type": "code",
   "execution_count": 14,
   "metadata": {},
   "outputs": [
    {
     "name": "stdout",
     "output_type": "stream",
     "text": [
      "{'location': {'name': 'Tokyo', 'region': 'Tokyo', 'country': 'Japan', 'lat': 35.69, 'lon': 139.69, 'tz_id': 'Asia/Tokyo', 'localtime_epoch': 1624223674, 'localtime': '2021-06-21 6:14'}, 'current': {'last_updated_epoch': 1624219200, 'last_updated': '2021-06-21 05:00', 'temp_c': 22.7, 'temp_f': 72.9, 'is_day': 1, 'condition': {'text': 'Moderate or heavy rain shower', 'icon': '//cdn.weatherapi.com/weather/64x64/day/356.png', 'code': 1243}, 'wind_mph': 10.5, 'wind_kph': 16.9, 'wind_degree': 137, 'wind_dir': 'SE', 'pressure_mb': 1003.0, 'pressure_in': 30.1, 'precip_mm': 7.4, 'precip_in': 0.29, 'humidity': 70, 'cloud': 52, 'feelslike_c': 24.8, 'feelslike_f': 76.6, 'vis_km': 7.0, 'vis_miles': 4.0, 'uv': 1.0, 'gust_mph': 19.9, 'gust_kph': 32.0}}\n"
     ]
    }
   ],
   "source": [
    "from dotenv import load_dotenv\n",
    "load_dotenv()\n",
    "import os\n",
    "API_KEY2 = os.getenv(\"apikey2\")\n",
    "\n",
    "import  requests\n",
    "response = requests.get(f\"http://api.weatherapi.com/v1/current.json?key={API_KEY2}&q=Tokyo\")\n",
    "data = response.json()\n",
    "print(data)"
   ]
  },
  {
   "cell_type": "code",
   "execution_count": null,
   "metadata": {},
   "outputs": [],
   "source": []
  },
  {
   "cell_type": "code",
   "execution_count": 4,
   "metadata": {},
   "outputs": [],
   "source": []
  },
  {
   "cell_type": "markdown",
   "metadata": {
    "collapsed": true
   },
   "source": [
    "## 1) Make a request to the Weather API for where you were born (or lived, or want to visit!).\n",
    "\n",
    "- *Tip: This sure seems familiar.*"
   ]
  },
  {
   "cell_type": "code",
   "execution_count": 15,
   "metadata": {},
   "outputs": [
    {
     "name": "stdout",
     "output_type": "stream",
     "text": [
      "{'location': {'name': 'Miami', 'region': 'Florida', 'country': 'United States of America', 'lat': 25.77, 'lon': -80.19, 'tz_id': 'America/Kentucky/Monticello', 'localtime_epoch': 1624223914, 'localtime': '2021-06-20 17:18'}, 'current': {'last_updated_epoch': 1624223700, 'last_updated': '2021-06-20 17:15', 'temp_c': 32.2, 'temp_f': 90.0, 'is_day': 1, 'condition': {'text': 'Moderate or heavy rain with thunder', 'icon': '//cdn.weatherapi.com/weather/64x64/day/389.png', 'code': 1276}, 'wind_mph': 10.5, 'wind_kph': 16.9, 'wind_degree': 150, 'wind_dir': 'SSE', 'pressure_mb': 1017.0, 'pressure_in': 30.5, 'precip_mm': 1.0, 'precip_in': 0.04, 'humidity': 62, 'cloud': 75, 'feelslike_c': 41.8, 'feelslike_f': 107.2, 'vis_km': 16.0, 'vis_miles': 9.0, 'uv': 6.0, 'gust_mph': 17.9, 'gust_kph': 28.8}}\n"
     ]
    }
   ],
   "source": [
    "weather = requests.get(f\"http://api.weatherapi.com/v1/current.json?key={API_KEY2}&q=Miami\")\n",
    "data2 = weather.json()\n",
    "print(data2)"
   ]
  },
  {
   "cell_type": "code",
   "execution_count": null,
   "metadata": {},
   "outputs": [],
   "source": []
  },
  {
   "cell_type": "markdown",
   "metadata": {},
   "source": [
    "## 2) What's the current wind speed, and how much warmer does it feel than it actually is?\n",
    "\n",
    "- *Tip: You can do this by browsing through the dictionaries, but it might be easier to read the documentation*\n",
    "- *Tip: For the second half: it **is** one temperature, and it **feels** a different temperature. Calculate the difference. Same as we did last time!*"
   ]
  },
  {
   "cell_type": "code",
   "execution_count": 5,
   "metadata": {},
   "outputs": [
    {
     "data": {
      "text/plain": [
       "dict"
      ]
     },
     "execution_count": 5,
     "metadata": {},
     "output_type": "execute_result"
    }
   ],
   "source": [
    "type(data2)"
   ]
  },
  {
   "cell_type": "code",
   "execution_count": 6,
   "metadata": {},
   "outputs": [
    {
     "data": {
      "text/plain": [
       "dict_keys(['location', 'current'])"
      ]
     },
     "execution_count": 6,
     "metadata": {},
     "output_type": "execute_result"
    }
   ],
   "source": [
    "data2.keys()"
   ]
  },
  {
   "cell_type": "code",
   "execution_count": 7,
   "metadata": {},
   "outputs": [
    {
     "data": {
      "text/plain": [
       "{'last_updated_epoch': 1624167900,\n",
       " 'last_updated': '2021-06-20 01:45',\n",
       " 'temp_c': 28.3,\n",
       " 'temp_f': 82.9,\n",
       " 'is_day': 0,\n",
       " 'condition': {'text': 'Partly cloudy',\n",
       "  'icon': '//cdn.weatherapi.com/weather/64x64/night/116.png',\n",
       "  'code': 1003},\n",
       " 'wind_mph': 10.5,\n",
       " 'wind_kph': 16.9,\n",
       " 'wind_degree': 120,\n",
       " 'wind_dir': 'ESE',\n",
       " 'pressure_mb': 1018.0,\n",
       " 'pressure_in': 30.5,\n",
       " 'precip_mm': 0.0,\n",
       " 'precip_in': 0.0,\n",
       " 'humidity': 88,\n",
       " 'cloud': 75,\n",
       " 'feelslike_c': 33.0,\n",
       " 'feelslike_f': 91.4,\n",
       " 'vis_km': 16.0,\n",
       " 'vis_miles': 9.0,\n",
       " 'uv': 1.0,\n",
       " 'gust_mph': 13.4,\n",
       " 'gust_kph': 21.6}"
      ]
     },
     "execution_count": 7,
     "metadata": {},
     "output_type": "execute_result"
    }
   ],
   "source": [
    "data2['current']"
   ]
  },
  {
   "cell_type": "code",
   "execution_count": 8,
   "metadata": {},
   "outputs": [
    {
     "data": {
      "text/plain": [
       "10.5"
      ]
     },
     "execution_count": 8,
     "metadata": {},
     "output_type": "execute_result"
    }
   ],
   "source": [
    "data2['current']['wind_mph']"
   ]
  },
  {
   "cell_type": "code",
   "execution_count": 11,
   "metadata": {},
   "outputs": [
    {
     "name": "stdout",
     "output_type": "stream",
     "text": [
      "Current wind speed in Miami is 10.5mph.\n"
     ]
    }
   ],
   "source": [
    "print(f\"Current wind speed in Miami is {data2['current']['wind_mph']}mph.\")"
   ]
  },
  {
   "cell_type": "code",
   "execution_count": 12,
   "metadata": {},
   "outputs": [
    {
     "data": {
      "text/plain": [
       "28.3"
      ]
     },
     "execution_count": 12,
     "metadata": {},
     "output_type": "execute_result"
    }
   ],
   "source": [
    "data2['current'] ['temp_c']"
   ]
  },
  {
   "cell_type": "code",
   "execution_count": 14,
   "metadata": {},
   "outputs": [
    {
     "data": {
      "text/plain": [
       "33.0"
      ]
     },
     "execution_count": 14,
     "metadata": {},
     "output_type": "execute_result"
    }
   ],
   "source": [
    "data2['current']['feelslike_c']"
   ]
  },
  {
   "cell_type": "code",
   "execution_count": 17,
   "metadata": {},
   "outputs": [
    {
     "name": "stdout",
     "output_type": "stream",
     "text": [
      "Current temperature is 28.3 degrees Celsius. But we feel 4.7 degrees warmer.\n"
     ]
    }
   ],
   "source": [
    "print(f\"Current temperature is {data2['current'] ['temp_c'] } degrees Celsius. But we feel {round((data2['current']['feelslike_c'])-(data2['current'] ['temp_c']),1)} degrees warmer.\")"
   ]
  },
  {
   "cell_type": "markdown",
   "metadata": {},
   "source": [
    "## 3) What is the API endpoint for moon-related information? For the place you decided on above, how much of the moon will be visible on next Thursday?\n",
    "\n",
    "- *Tip: Check the documentation!*\n",
    "- *Tip: If you aren't sure what something means, ask in Slack*"
   ]
  },
  {
   "cell_type": "code",
   "execution_count": 16,
   "metadata": {},
   "outputs": [
    {
     "name": "stdout",
     "output_type": "stream",
     "text": [
      "{'location': {'name': 'Miami', 'region': 'Florida', 'country': 'United States of America', 'lat': 25.77, 'lon': -80.19, 'tz_id': 'America/Kentucky/Monticello', 'localtime_epoch': 1624223941, 'localtime': '2021-06-20 17:19'}, 'astronomy': {'astro': {'sunrise': '06:30 AM', 'sunset': '08:15 PM', 'moonrise': '06:14 PM', 'moonset': '04:21 AM', 'moon_phase': 'Waxing Gibbous', 'moon_illumination': '87'}}}\n",
      "http://api.weatherapi.com/v1/astronomy.json is API endpoint for moon-related information.\n"
     ]
    }
   ],
   "source": [
    "astro = requests.get(f\"http://api.weatherapi.com/v1/astronomy.json?key={API_KEY2}&q=Miami&dt=2021-06-22\")\n",
    "data3 = astro.json()\n",
    "print(data3)\n",
    "print(\"http://api.weatherapi.com/v1/astronomy.json is API endpoint for moon-related information.\")"
   ]
  },
  {
   "cell_type": "code",
   "execution_count": 29,
   "metadata": {},
   "outputs": [
    {
     "data": {
      "text/plain": [
       "dict_keys(['location', 'astronomy'])"
      ]
     },
     "execution_count": 29,
     "metadata": {},
     "output_type": "execute_result"
    }
   ],
   "source": [
    "data3.keys()"
   ]
  },
  {
   "cell_type": "code",
   "execution_count": 30,
   "metadata": {},
   "outputs": [
    {
     "data": {
      "text/plain": [
       "dict_keys(['astro'])"
      ]
     },
     "execution_count": 30,
     "metadata": {},
     "output_type": "execute_result"
    }
   ],
   "source": [
    "data3['astronomy'].keys()"
   ]
  },
  {
   "cell_type": "code",
   "execution_count": 31,
   "metadata": {},
   "outputs": [
    {
     "data": {
      "text/plain": [
       "{'sunrise': '06:30 AM',\n",
       " 'sunset': '08:15 PM',\n",
       " 'moonrise': '06:14 PM',\n",
       " 'moonset': '04:21 AM',\n",
       " 'moon_phase': 'Waxing Gibbous',\n",
       " 'moon_illumination': '87'}"
      ]
     },
     "execution_count": 31,
     "metadata": {},
     "output_type": "execute_result"
    }
   ],
   "source": [
    "data3['astronomy']['astro']"
   ]
  },
  {
   "cell_type": "code",
   "execution_count": 34,
   "metadata": {},
   "outputs": [
    {
     "name": "stdout",
     "output_type": "stream",
     "text": [
      "On the next Tuesday, June 22, we can see Waxing Gibbous　moon in Miami. 87% of the moon is visible.\n"
     ]
    }
   ],
   "source": [
    "moon = data3['astronomy']['astro']\n",
    "print(f\"On the next Tuesday, June 22, we can see {moon['moon_phase']}　moon in Miami. {moon['moon_illumination']}% of the moon is visible.\")"
   ]
  },
  {
   "cell_type": "markdown",
   "metadata": {},
   "source": [
    "## 4) What's the difference between the high and low temperatures for today?\n",
    "\n",
    "- *Tip: When you requested moon data, you probably overwrote your variables! If so, you'll need to make a new request.*"
   ]
  },
  {
   "cell_type": "code",
   "execution_count": 19,
   "metadata": {},
   "outputs": [],
   "source": [
    "highlow = requests.get(f\"http://api.weatherapi.com/v1/forecast.json?key={API_KEY2}&q=Miami&days=1\")\n",
    "data4 = highlow.json()"
   ]
  },
  {
   "cell_type": "code",
   "execution_count": 42,
   "metadata": {},
   "outputs": [
    {
     "data": {
      "text/plain": [
       "dict_keys(['location', 'current', 'forecast'])"
      ]
     },
     "execution_count": 42,
     "metadata": {},
     "output_type": "execute_result"
    }
   ],
   "source": [
    "data4.keys()"
   ]
  },
  {
   "cell_type": "code",
   "execution_count": 47,
   "metadata": {},
   "outputs": [
    {
     "data": {
      "text/plain": [
       "dict_keys(['date', 'date_epoch', 'day', 'astro', 'hour'])"
      ]
     },
     "execution_count": 47,
     "metadata": {},
     "output_type": "execute_result"
    }
   ],
   "source": [
    "data4['forecast']['forecastday'][0].keys()"
   ]
  },
  {
   "cell_type": "code",
   "execution_count": 49,
   "metadata": {},
   "outputs": [
    {
     "data": {
      "text/plain": [
       "dict_keys(['maxtemp_c', 'maxtemp_f', 'mintemp_c', 'mintemp_f', 'avgtemp_c', 'avgtemp_f', 'maxwind_mph', 'maxwind_kph', 'totalprecip_mm', 'totalprecip_in', 'avgvis_km', 'avgvis_miles', 'avghumidity', 'daily_will_it_rain', 'daily_chance_of_rain', 'daily_will_it_snow', 'daily_chance_of_snow', 'condition', 'uv'])"
      ]
     },
     "execution_count": 49,
     "metadata": {},
     "output_type": "execute_result"
    }
   ],
   "source": [
    "data4['forecast']['forecastday'][0]['day'].keys()"
   ]
  },
  {
   "cell_type": "code",
   "execution_count": 55,
   "metadata": {},
   "outputs": [
    {
     "name": "stdout",
     "output_type": "stream",
     "text": [
      "There is 1.7 degree difference between maximum temperature and minimum temperature today.\n"
     ]
    }
   ],
   "source": [
    "temp = data4['forecast']['forecastday'][0]['day']\n",
    "print(f\"There is {round(temp['maxtemp_c']-temp['mintemp_c'],1)} degree difference between maximum temperature and minimum temperature today.\")"
   ]
  },
  {
   "cell_type": "markdown",
   "metadata": {
    "collapsed": true
   },
   "source": [
    "## 4.5) How can you avoid the \"oh no I don't have the data any more because I made another request\" problem in the future?\n",
    "\n",
    "What variable(s) do you have to rename, and what would you rename them?"
   ]
  },
  {
   "cell_type": "code",
   "execution_count": 60,
   "metadata": {},
   "outputs": [
    {
     "name": "stdout",
     "output_type": "stream",
     "text": [
      "I change the variable standing for 'requests.get('url'). I also use different variable on variable2 = variable.json(). Example: if I use r = requests.get('url1'), data = r.json() on the first request, I choose  p = requests.get('url2'), data2 = p.json() on the second request.\n"
     ]
    }
   ],
   "source": [
    "print(\"I change the variable standing for 'requests.get('url'). I also use different variable on variable2 = variable.json(). Example: if I use r = requests.get('url1'), data = r.json() on the first request, I choose  p = requests.get('url2'), data2 = p.json() on the second request.\" )"
   ]
  },
  {
   "cell_type": "code",
   "execution_count": null,
   "metadata": {},
   "outputs": [],
   "source": []
  },
  {
   "cell_type": "markdown",
   "metadata": {},
   "source": [
    "## 5) Go through the daily forecasts, printing out the next week's worth of predictions.\n",
    "\n",
    "I'd like to know the **high temperature** for each day, and whether it's **hot, warm, or cold** (based on what temperatures you think are hot, warm or cold).\n",
    "\n",
    "- *Tip: You'll need to use an `if` statement to say whether it is hot, warm or cold.*"
   ]
  },
  {
   "cell_type": "code",
   "execution_count": 21,
   "metadata": {},
   "outputs": [],
   "source": [
    "forecast = requests.get(f\"http://api.weatherapi.com/v1/forecast.json?key={API_KEY2}&q=Miami&days=7&aqi=no&alerts=no\")\n",
    "data5 = forecast.json()"
   ]
  },
  {
   "cell_type": "code",
   "execution_count": 67,
   "metadata": {},
   "outputs": [
    {
     "data": {
      "text/plain": [
       "{'date': '2021-06-20',\n",
       " 'date_epoch': 1624147200,\n",
       " 'day': {'maxtemp_c': 29.7,\n",
       "  'maxtemp_f': 85.5,\n",
       "  'mintemp_c': 28.0,\n",
       "  'mintemp_f': 82.4,\n",
       "  'avgtemp_c': 28.8,\n",
       "  'avgtemp_f': 83.8,\n",
       "  'maxwind_mph': 13.2,\n",
       "  'maxwind_kph': 21.2,\n",
       "  'totalprecip_mm': 3.3,\n",
       "  'totalprecip_in': 0.13,\n",
       "  'avgvis_km': 9.5,\n",
       "  'avgvis_miles': 5.0,\n",
       "  'avghumidity': 76.0,\n",
       "  'daily_will_it_rain': 1,\n",
       "  'daily_chance_of_rain': '88',\n",
       "  'daily_will_it_snow': 0,\n",
       "  'daily_chance_of_snow': '0',\n",
       "  'condition': {'text': 'Patchy rain possible',\n",
       "   'icon': '//cdn.weatherapi.com/weather/64x64/day/176.png',\n",
       "   'code': 1063},\n",
       "  'uv': 9.0},\n",
       " 'astro': {'sunrise': '06:29 AM',\n",
       "  'sunset': '08:15 PM',\n",
       "  'moonrise': '03:59 PM',\n",
       "  'moonset': '02:57 AM',\n",
       "  'moon_phase': 'Full Moon',\n",
       "  'moon_illumination': '76'},\n",
       " 'hour': [{'time_epoch': 1624161600,\n",
       "   'time': '2021-06-20 00:00',\n",
       "   'temp_c': 28.4,\n",
       "   'temp_f': 83.1,\n",
       "   'is_day': 0,\n",
       "   'condition': {'text': 'Partly cloudy',\n",
       "    'icon': '//cdn.weatherapi.com/weather/64x64/night/116.png',\n",
       "    'code': 1003},\n",
       "   'wind_mph': 10.1,\n",
       "   'wind_kph': 16.2,\n",
       "   'wind_degree': 119,\n",
       "   'wind_dir': 'ESE',\n",
       "   'pressure_mb': 1018.0,\n",
       "   'pressure_in': 30.5,\n",
       "   'precip_mm': 0.0,\n",
       "   'precip_in': 0.0,\n",
       "   'humidity': 80,\n",
       "   'cloud': 14,\n",
       "   'feelslike_c': 33.3,\n",
       "   'feelslike_f': 91.9,\n",
       "   'windchill_c': 28.4,\n",
       "   'windchill_f': 83.1,\n",
       "   'heatindex_c': 33.3,\n",
       "   'heatindex_f': 91.9,\n",
       "   'dewpoint_c': 24.7,\n",
       "   'dewpoint_f': 76.5,\n",
       "   'will_it_rain': 0,\n",
       "   'chance_of_rain': '0',\n",
       "   'will_it_snow': 0,\n",
       "   'chance_of_snow': '0',\n",
       "   'vis_km': 10.0,\n",
       "   'vis_miles': 6.0,\n",
       "   'gust_mph': 13.4,\n",
       "   'gust_kph': 21.6,\n",
       "   'uv': 1.0},\n",
       "  {'time_epoch': 1624165200,\n",
       "   'time': '2021-06-20 01:00',\n",
       "   'temp_c': 28.5,\n",
       "   'temp_f': 83.3,\n",
       "   'is_day': 0,\n",
       "   'condition': {'text': 'Partly cloudy',\n",
       "    'icon': '//cdn.weatherapi.com/weather/64x64/night/116.png',\n",
       "    'code': 1003},\n",
       "   'wind_mph': 8.7,\n",
       "   'wind_kph': 14.0,\n",
       "   'wind_degree': 127,\n",
       "   'wind_dir': 'SE',\n",
       "   'pressure_mb': 1018.0,\n",
       "   'pressure_in': 30.5,\n",
       "   'precip_mm': 0.0,\n",
       "   'precip_in': 0.0,\n",
       "   'humidity': 81,\n",
       "   'cloud': 11,\n",
       "   'feelslike_c': 33.5,\n",
       "   'feelslike_f': 92.3,\n",
       "   'windchill_c': 28.5,\n",
       "   'windchill_f': 83.3,\n",
       "   'heatindex_c': 33.5,\n",
       "   'heatindex_f': 92.3,\n",
       "   'dewpoint_c': 24.8,\n",
       "   'dewpoint_f': 76.6,\n",
       "   'will_it_rain': 0,\n",
       "   'chance_of_rain': '0',\n",
       "   'will_it_snow': 0,\n",
       "   'chance_of_snow': '0',\n",
       "   'vis_km': 10.0,\n",
       "   'vis_miles': 6.0,\n",
       "   'gust_mph': 11.4,\n",
       "   'gust_kph': 18.4,\n",
       "   'uv': 1.0},\n",
       "  {'time_epoch': 1624168800,\n",
       "   'time': '2021-06-20 02:00',\n",
       "   'temp_c': 28.5,\n",
       "   'temp_f': 83.3,\n",
       "   'is_day': 0,\n",
       "   'condition': {'text': 'Partly cloudy',\n",
       "    'icon': '//cdn.weatherapi.com/weather/64x64/night/116.png',\n",
       "    'code': 1003},\n",
       "   'wind_mph': 7.2,\n",
       "   'wind_kph': 11.5,\n",
       "   'wind_degree': 134,\n",
       "   'wind_dir': 'SE',\n",
       "   'pressure_mb': 1017.0,\n",
       "   'pressure_in': 30.5,\n",
       "   'precip_mm': 0.0,\n",
       "   'precip_in': 0.0,\n",
       "   'humidity': 81,\n",
       "   'cloud': 9,\n",
       "   'feelslike_c': 33.6,\n",
       "   'feelslike_f': 92.5,\n",
       "   'windchill_c': 28.5,\n",
       "   'windchill_f': 83.3,\n",
       "   'heatindex_c': 33.6,\n",
       "   'heatindex_f': 92.5,\n",
       "   'dewpoint_c': 24.9,\n",
       "   'dewpoint_f': 76.8,\n",
       "   'will_it_rain': 0,\n",
       "   'chance_of_rain': '0',\n",
       "   'will_it_snow': 0,\n",
       "   'chance_of_snow': '0',\n",
       "   'vis_km': 10.0,\n",
       "   'vis_miles': 6.0,\n",
       "   'gust_mph': 9.4,\n",
       "   'gust_kph': 15.1,\n",
       "   'uv': 1.0},\n",
       "  {'time_epoch': 1624172400,\n",
       "   'time': '2021-06-20 03:00',\n",
       "   'temp_c': 28.3,\n",
       "   'temp_f': 82.9,\n",
       "   'is_day': 0,\n",
       "   'condition': {'text': 'Light rain shower',\n",
       "    'icon': '//cdn.weatherapi.com/weather/64x64/night/353.png',\n",
       "    'code': 1240},\n",
       "   'wind_mph': 8.5,\n",
       "   'wind_kph': 13.7,\n",
       "   'wind_degree': 142,\n",
       "   'wind_dir': 'SE',\n",
       "   'pressure_mb': 1017.0,\n",
       "   'pressure_in': 30.5,\n",
       "   'precip_mm': 0.1,\n",
       "   'precip_in': 0.0,\n",
       "   'humidity': 81,\n",
       "   'cloud': 30,\n",
       "   'feelslike_c': 33.2,\n",
       "   'feelslike_f': 91.8,\n",
       "   'windchill_c': 28.3,\n",
       "   'windchill_f': 82.9,\n",
       "   'heatindex_c': 33.2,\n",
       "   'heatindex_f': 91.8,\n",
       "   'dewpoint_c': 24.7,\n",
       "   'dewpoint_f': 76.5,\n",
       "   'will_it_rain': 0,\n",
       "   'chance_of_rain': '24',\n",
       "   'will_it_snow': 0,\n",
       "   'chance_of_snow': '0',\n",
       "   'vis_km': 10.0,\n",
       "   'vis_miles': 6.0,\n",
       "   'gust_mph': 11.2,\n",
       "   'gust_kph': 18.0,\n",
       "   'uv': 1.0},\n",
       "  {'time_epoch': 1624176000,\n",
       "   'time': '2021-06-20 04:00',\n",
       "   'temp_c': 28.2,\n",
       "   'temp_f': 82.8,\n",
       "   'is_day': 0,\n",
       "   'condition': {'text': 'Partly cloudy',\n",
       "    'icon': '//cdn.weatherapi.com/weather/64x64/night/116.png',\n",
       "    'code': 1003},\n",
       "   'wind_mph': 9.6,\n",
       "   'wind_kph': 15.5,\n",
       "   'wind_degree': 151,\n",
       "   'wind_dir': 'SSE',\n",
       "   'pressure_mb': 1017.0,\n",
       "   'pressure_in': 30.5,\n",
       "   'precip_mm': 0.1,\n",
       "   'precip_in': 0.0,\n",
       "   'humidity': 81,\n",
       "   'cloud': 51,\n",
       "   'feelslike_c': 32.8,\n",
       "   'feelslike_f': 91.0,\n",
       "   'windchill_c': 28.2,\n",
       "   'windchill_f': 82.8,\n",
       "   'heatindex_c': 32.8,\n",
       "   'heatindex_f': 91.0,\n",
       "   'dewpoint_c': 24.5,\n",
       "   'dewpoint_f': 76.1,\n",
       "   'will_it_rain': 0,\n",
       "   'chance_of_rain': '48',\n",
       "   'will_it_snow': 0,\n",
       "   'chance_of_snow': '0',\n",
       "   'vis_km': 10.0,\n",
       "   'vis_miles': 6.0,\n",
       "   'gust_mph': 13.2,\n",
       "   'gust_kph': 21.2,\n",
       "   'uv': 1.0},\n",
       "  {'time_epoch': 1624179600,\n",
       "   'time': '2021-06-20 05:00',\n",
       "   'temp_c': 28.0,\n",
       "   'temp_f': 82.4,\n",
       "   'is_day': 0,\n",
       "   'condition': {'text': 'Light rain shower',\n",
       "    'icon': '//cdn.weatherapi.com/weather/64x64/night/353.png',\n",
       "    'code': 1240},\n",
       "   'wind_mph': 11.0,\n",
       "   'wind_kph': 17.6,\n",
       "   'wind_degree': 159,\n",
       "   'wind_dir': 'SSE',\n",
       "   'pressure_mb': 1017.0,\n",
       "   'pressure_in': 30.5,\n",
       "   'precip_mm': 0.2,\n",
       "   'precip_in': 0.01,\n",
       "   'humidity': 80,\n",
       "   'cloud': 72,\n",
       "   'feelslike_c': 32.4,\n",
       "   'feelslike_f': 90.3,\n",
       "   'windchill_c': 28.0,\n",
       "   'windchill_f': 82.4,\n",
       "   'heatindex_c': 32.4,\n",
       "   'heatindex_f': 90.3,\n",
       "   'dewpoint_c': 24.3,\n",
       "   'dewpoint_f': 75.7,\n",
       "   'will_it_rain': 1,\n",
       "   'chance_of_rain': '72',\n",
       "   'will_it_snow': 0,\n",
       "   'chance_of_snow': '0',\n",
       "   'vis_km': 10.0,\n",
       "   'vis_miles': 6.0,\n",
       "   'gust_mph': 15.0,\n",
       "   'gust_kph': 24.1,\n",
       "   'uv': 1.0},\n",
       "  {'time_epoch': 1624183200,\n",
       "   'time': '2021-06-20 06:00',\n",
       "   'temp_c': 28.0,\n",
       "   'temp_f': 82.4,\n",
       "   'is_day': 0,\n",
       "   'condition': {'text': 'Patchy rain possible',\n",
       "    'icon': '//cdn.weatherapi.com/weather/64x64/night/176.png',\n",
       "    'code': 1063},\n",
       "   'wind_mph': 11.0,\n",
       "   'wind_kph': 17.6,\n",
       "   'wind_degree': 162,\n",
       "   'wind_dir': 'SSE',\n",
       "   'pressure_mb': 1018.0,\n",
       "   'pressure_in': 30.5,\n",
       "   'precip_mm': 0.3,\n",
       "   'precip_in': 0.01,\n",
       "   'humidity': 80,\n",
       "   'cloud': 75,\n",
       "   'feelslike_c': 32.3,\n",
       "   'feelslike_f': 90.1,\n",
       "   'windchill_c': 28.0,\n",
       "   'windchill_f': 82.4,\n",
       "   'heatindex_c': 32.3,\n",
       "   'heatindex_f': 90.1,\n",
       "   'dewpoint_c': 24.2,\n",
       "   'dewpoint_f': 75.6,\n",
       "   'will_it_rain': 0,\n",
       "   'chance_of_rain': '68',\n",
       "   'will_it_snow': 0,\n",
       "   'chance_of_snow': '0',\n",
       "   'vis_km': 9.7,\n",
       "   'vis_miles': 6.0,\n",
       "   'gust_mph': 15.0,\n",
       "   'gust_kph': 24.1,\n",
       "   'uv': 1.0},\n",
       "  {'time_epoch': 1624186800,\n",
       "   'time': '2021-06-20 07:00',\n",
       "   'temp_c': 28.0,\n",
       "   'temp_f': 82.4,\n",
       "   'is_day': 1,\n",
       "   'condition': {'text': 'Light rain shower',\n",
       "    'icon': '//cdn.weatherapi.com/weather/64x64/day/353.png',\n",
       "    'code': 1240},\n",
       "   'wind_mph': 10.7,\n",
       "   'wind_kph': 17.3,\n",
       "   'wind_degree': 165,\n",
       "   'wind_dir': 'SSE',\n",
       "   'pressure_mb': 1018.0,\n",
       "   'pressure_in': 30.5,\n",
       "   'precip_mm': 0.5,\n",
       "   'precip_in': 0.02,\n",
       "   'humidity': 80,\n",
       "   'cloud': 77,\n",
       "   'feelslike_c': 32.3,\n",
       "   'feelslike_f': 90.1,\n",
       "   'windchill_c': 28.0,\n",
       "   'windchill_f': 82.4,\n",
       "   'heatindex_c': 32.3,\n",
       "   'heatindex_f': 90.1,\n",
       "   'dewpoint_c': 24.1,\n",
       "   'dewpoint_f': 75.4,\n",
       "   'will_it_rain': 0,\n",
       "   'chance_of_rain': '64',\n",
       "   'will_it_snow': 0,\n",
       "   'chance_of_snow': '0',\n",
       "   'vis_km': 9.3,\n",
       "   'vis_miles': 5.0,\n",
       "   'gust_mph': 14.8,\n",
       "   'gust_kph': 23.8,\n",
       "   'uv': 6.0},\n",
       "  {'time_epoch': 1624190400,\n",
       "   'time': '2021-06-20 08:00',\n",
       "   'temp_c': 28.0,\n",
       "   'temp_f': 82.4,\n",
       "   'is_day': 1,\n",
       "   'condition': {'text': 'Patchy rain possible',\n",
       "    'icon': '//cdn.weatherapi.com/weather/64x64/day/176.png',\n",
       "    'code': 1063},\n",
       "   'wind_mph': 10.7,\n",
       "   'wind_kph': 17.3,\n",
       "   'wind_degree': 169,\n",
       "   'wind_dir': 'S',\n",
       "   'pressure_mb': 1019.0,\n",
       "   'pressure_in': 30.6,\n",
       "   'precip_mm': 0.6,\n",
       "   'precip_in': 0.02,\n",
       "   'humidity': 79,\n",
       "   'cloud': 80,\n",
       "   'feelslike_c': 32.2,\n",
       "   'feelslike_f': 90.0,\n",
       "   'windchill_c': 28.0,\n",
       "   'windchill_f': 82.4,\n",
       "   'heatindex_c': 32.2,\n",
       "   'heatindex_f': 90.0,\n",
       "   'dewpoint_c': 24.0,\n",
       "   'dewpoint_f': 75.2,\n",
       "   'will_it_rain': 0,\n",
       "   'chance_of_rain': '60',\n",
       "   'will_it_snow': 0,\n",
       "   'chance_of_snow': '0',\n",
       "   'vis_km': 9.0,\n",
       "   'vis_miles': 5.0,\n",
       "   'gust_mph': 14.8,\n",
       "   'gust_kph': 23.8,\n",
       "   'uv': 6.0},\n",
       "  {'time_epoch': 1624194000,\n",
       "   'time': '2021-06-20 09:00',\n",
       "   'temp_c': 28.3,\n",
       "   'temp_f': 82.9,\n",
       "   'is_day': 1,\n",
       "   'condition': {'text': 'Patchy rain possible',\n",
       "    'icon': '//cdn.weatherapi.com/weather/64x64/day/176.png',\n",
       "    'code': 1063},\n",
       "   'wind_mph': 11.6,\n",
       "   'wind_kph': 18.7,\n",
       "   'wind_degree': 165,\n",
       "   'wind_dir': 'SSE',\n",
       "   'pressure_mb': 1019.0,\n",
       "   'pressure_in': 30.6,\n",
       "   'precip_mm': 0.8,\n",
       "   'precip_in': 0.03,\n",
       "   'humidity': 78,\n",
       "   'cloud': 80,\n",
       "   'feelslike_c': 32.8,\n",
       "   'feelslike_f': 91.0,\n",
       "   'windchill_c': 28.3,\n",
       "   'windchill_f': 82.9,\n",
       "   'heatindex_c': 32.8,\n",
       "   'heatindex_f': 91.0,\n",
       "   'dewpoint_c': 24.1,\n",
       "   'dewpoint_f': 75.4,\n",
       "   'will_it_rain': 0,\n",
       "   'chance_of_rain': '69',\n",
       "   'will_it_snow': 0,\n",
       "   'chance_of_snow': '0',\n",
       "   'vis_km': 9.0,\n",
       "   'vis_miles': 5.0,\n",
       "   'gust_mph': 15.9,\n",
       "   'gust_kph': 25.6,\n",
       "   'uv': 6.0},\n",
       "  {'time_epoch': 1624197600,\n",
       "   'time': '2021-06-20 10:00',\n",
       "   'temp_c': 28.7,\n",
       "   'temp_f': 83.7,\n",
       "   'is_day': 1,\n",
       "   'condition': {'text': 'Patchy rain possible',\n",
       "    'icon': '//cdn.weatherapi.com/weather/64x64/day/176.png',\n",
       "    'code': 1063},\n",
       "   'wind_mph': 12.3,\n",
       "   'wind_kph': 19.8,\n",
       "   'wind_degree': 161,\n",
       "   'wind_dir': 'SSE',\n",
       "   'pressure_mb': 1019.0,\n",
       "   'pressure_in': 30.6,\n",
       "   'precip_mm': 1.0,\n",
       "   'precip_in': 0.04,\n",
       "   'humidity': 77,\n",
       "   'cloud': 80,\n",
       "   'feelslike_c': 33.3,\n",
       "   'feelslike_f': 91.9,\n",
       "   'windchill_c': 28.7,\n",
       "   'windchill_f': 83.7,\n",
       "   'heatindex_c': 33.3,\n",
       "   'heatindex_f': 91.9,\n",
       "   'dewpoint_c': 24.2,\n",
       "   'dewpoint_f': 75.6,\n",
       "   'will_it_rain': 1,\n",
       "   'chance_of_rain': '79',\n",
       "   'will_it_snow': 0,\n",
       "   'chance_of_snow': '0',\n",
       "   'vis_km': 9.0,\n",
       "   'vis_miles': 5.0,\n",
       "   'gust_mph': 16.8,\n",
       "   'gust_kph': 27.0,\n",
       "   'uv': 6.0},\n",
       "  {'time_epoch': 1624201200,\n",
       "   'time': '2021-06-20 11:00',\n",
       "   'temp_c': 29.0,\n",
       "   'temp_f': 84.2,\n",
       "   'is_day': 1,\n",
       "   'condition': {'text': 'Patchy rain possible',\n",
       "    'icon': '//cdn.weatherapi.com/weather/64x64/day/176.png',\n",
       "    'code': 1063},\n",
       "   'wind_mph': 13.2,\n",
       "   'wind_kph': 21.2,\n",
       "   'wind_degree': 158,\n",
       "   'wind_dir': 'SSE',\n",
       "   'pressure_mb': 1019.0,\n",
       "   'pressure_in': 30.6,\n",
       "   'precip_mm': 1.2,\n",
       "   'precip_in': 0.05,\n",
       "   'humidity': 76,\n",
       "   'cloud': 80,\n",
       "   'feelslike_c': 33.9,\n",
       "   'feelslike_f': 93.0,\n",
       "   'windchill_c': 29.0,\n",
       "   'windchill_f': 84.2,\n",
       "   'heatindex_c': 33.9,\n",
       "   'heatindex_f': 93.0,\n",
       "   'dewpoint_c': 24.3,\n",
       "   'dewpoint_f': 75.7,\n",
       "   'will_it_rain': 1,\n",
       "   'chance_of_rain': '88',\n",
       "   'will_it_snow': 0,\n",
       "   'chance_of_snow': '0',\n",
       "   'vis_km': 9.0,\n",
       "   'vis_miles': 5.0,\n",
       "   'gust_mph': 17.9,\n",
       "   'gust_kph': 28.8,\n",
       "   'uv': 6.0},\n",
       "  {'time_epoch': 1624204800,\n",
       "   'time': '2021-06-20 12:00',\n",
       "   'temp_c': 29.2,\n",
       "   'temp_f': 84.6,\n",
       "   'is_day': 1,\n",
       "   'condition': {'text': 'Patchy rain possible',\n",
       "    'icon': '//cdn.weatherapi.com/weather/64x64/day/176.png',\n",
       "    'code': 1063},\n",
       "   'wind_mph': 12.8,\n",
       "   'wind_kph': 20.5,\n",
       "   'wind_degree': 160,\n",
       "   'wind_dir': 'SSE',\n",
       "   'pressure_mb': 1019.0,\n",
       "   'pressure_in': 30.6,\n",
       "   'precip_mm': 1.0,\n",
       "   'precip_in': 0.04,\n",
       "   'humidity': 75,\n",
       "   'cloud': 79,\n",
       "   'feelslike_c': 34.1,\n",
       "   'feelslike_f': 93.4,\n",
       "   'windchill_c': 29.2,\n",
       "   'windchill_f': 84.6,\n",
       "   'heatindex_c': 34.1,\n",
       "   'heatindex_f': 93.4,\n",
       "   'dewpoint_c': 24.2,\n",
       "   'dewpoint_f': 75.6,\n",
       "   'will_it_rain': 1,\n",
       "   'chance_of_rain': '83',\n",
       "   'will_it_snow': 0,\n",
       "   'chance_of_snow': '0',\n",
       "   'vis_km': 9.0,\n",
       "   'vis_miles': 5.0,\n",
       "   'gust_mph': 17.0,\n",
       "   'gust_kph': 27.4,\n",
       "   'uv': 6.0},\n",
       "  {'time_epoch': 1624208400,\n",
       "   'time': '2021-06-20 13:00',\n",
       "   'temp_c': 29.4,\n",
       "   'temp_f': 84.9,\n",
       "   'is_day': 1,\n",
       "   'condition': {'text': 'Patchy rain possible',\n",
       "    'icon': '//cdn.weatherapi.com/weather/64x64/day/176.png',\n",
       "    'code': 1063},\n",
       "   'wind_mph': 12.5,\n",
       "   'wind_kph': 20.2,\n",
       "   'wind_degree': 162,\n",
       "   'wind_dir': 'SSE',\n",
       "   'pressure_mb': 1019.0,\n",
       "   'pressure_in': 30.6,\n",
       "   'precip_mm': 0.9,\n",
       "   'precip_in': 0.04,\n",
       "   'humidity': 73,\n",
       "   'cloud': 79,\n",
       "   'feelslike_c': 34.3,\n",
       "   'feelslike_f': 93.7,\n",
       "   'windchill_c': 29.4,\n",
       "   'windchill_f': 84.9,\n",
       "   'heatindex_c': 34.3,\n",
       "   'heatindex_f': 93.7,\n",
       "   'dewpoint_c': 24.2,\n",
       "   'dewpoint_f': 75.6,\n",
       "   'will_it_rain': 1,\n",
       "   'chance_of_rain': '77',\n",
       "   'will_it_snow': 0,\n",
       "   'chance_of_snow': '0',\n",
       "   'vis_km': 9.0,\n",
       "   'vis_miles': 5.0,\n",
       "   'gust_mph': 16.1,\n",
       "   'gust_kph': 25.9,\n",
       "   'uv': 6.0},\n",
       "  {'time_epoch': 1624212000,\n",
       "   'time': '2021-06-20 14:00',\n",
       "   'temp_c': 29.6,\n",
       "   'temp_f': 85.3,\n",
       "   'is_day': 1,\n",
       "   'condition': {'text': 'Patchy rain possible',\n",
       "    'icon': '//cdn.weatherapi.com/weather/64x64/day/176.png',\n",
       "    'code': 1063},\n",
       "   'wind_mph': 12.1,\n",
       "   'wind_kph': 19.4,\n",
       "   'wind_degree': 164,\n",
       "   'wind_dir': 'SSE',\n",
       "   'pressure_mb': 1018.0,\n",
       "   'pressure_in': 30.5,\n",
       "   'precip_mm': 0.7,\n",
       "   'precip_in': 0.03,\n",
       "   'humidity': 72,\n",
       "   'cloud': 78,\n",
       "   'feelslike_c': 34.5,\n",
       "   'feelslike_f': 94.1,\n",
       "   'windchill_c': 29.6,\n",
       "   'windchill_f': 85.3,\n",
       "   'heatindex_c': 34.5,\n",
       "   'heatindex_f': 94.1,\n",
       "   'dewpoint_c': 24.1,\n",
       "   'dewpoint_f': 75.4,\n",
       "   'will_it_rain': 1,\n",
       "   'chance_of_rain': '72',\n",
       "   'will_it_snow': 0,\n",
       "   'chance_of_snow': '0',\n",
       "   'vis_km': 9.0,\n",
       "   'vis_miles': 5.0,\n",
       "   'gust_mph': 15.2,\n",
       "   'gust_kph': 24.5,\n",
       "   'uv': 6.0},\n",
       "  {'time_epoch': 1624215600,\n",
       "   'time': '2021-06-20 15:00',\n",
       "   'temp_c': 29.6,\n",
       "   'temp_f': 85.3,\n",
       "   'is_day': 1,\n",
       "   'condition': {'text': 'Patchy rain possible',\n",
       "    'icon': '//cdn.weatherapi.com/weather/64x64/day/176.png',\n",
       "    'code': 1063},\n",
       "   'wind_mph': 12.1,\n",
       "   'wind_kph': 19.4,\n",
       "   'wind_degree': 162,\n",
       "   'wind_dir': 'SSE',\n",
       "   'pressure_mb': 1018.0,\n",
       "   'pressure_in': 30.5,\n",
       "   'precip_mm': 0.5,\n",
       "   'precip_in': 0.02,\n",
       "   'humidity': 72,\n",
       "   'cloud': 81,\n",
       "   'feelslike_c': 34.5,\n",
       "   'feelslike_f': 94.1,\n",
       "   'windchill_c': 29.6,\n",
       "   'windchill_f': 85.3,\n",
       "   'heatindex_c': 34.5,\n",
       "   'heatindex_f': 94.1,\n",
       "   'dewpoint_c': 24.0,\n",
       "   'dewpoint_f': 75.2,\n",
       "   'will_it_rain': 1,\n",
       "   'chance_of_rain': '77',\n",
       "   'will_it_snow': 0,\n",
       "   'chance_of_snow': '0',\n",
       "   'vis_km': 9.3,\n",
       "   'vis_miles': 5.0,\n",
       "   'gust_mph': 15.2,\n",
       "   'gust_kph': 24.5,\n",
       "   'uv': 6.0},\n",
       "  {'time_epoch': 1624219200,\n",
       "   'time': '2021-06-20 16:00',\n",
       "   'temp_c': 29.7,\n",
       "   'temp_f': 85.5,\n",
       "   'is_day': 1,\n",
       "   'condition': {'text': 'Patchy rain possible',\n",
       "    'icon': '//cdn.weatherapi.com/weather/64x64/day/176.png',\n",
       "    'code': 1063},\n",
       "   'wind_mph': 12.1,\n",
       "   'wind_kph': 19.4,\n",
       "   'wind_degree': 160,\n",
       "   'wind_dir': 'SSE',\n",
       "   'pressure_mb': 1017.0,\n",
       "   'pressure_in': 30.5,\n",
       "   'precip_mm': 0.3,\n",
       "   'precip_in': 0.01,\n",
       "   'humidity': 71,\n",
       "   'cloud': 85,\n",
       "   'feelslike_c': 34.4,\n",
       "   'feelslike_f': 93.9,\n",
       "   'windchill_c': 29.7,\n",
       "   'windchill_f': 85.5,\n",
       "   'heatindex_c': 34.4,\n",
       "   'heatindex_f': 93.9,\n",
       "   'dewpoint_c': 23.8,\n",
       "   'dewpoint_f': 74.8,\n",
       "   'will_it_rain': 1,\n",
       "   'chance_of_rain': '81',\n",
       "   'will_it_snow': 0,\n",
       "   'chance_of_snow': '0',\n",
       "   'vis_km': 9.7,\n",
       "   'vis_miles': 6.0,\n",
       "   'gust_mph': 15.2,\n",
       "   'gust_kph': 24.5,\n",
       "   'uv': 6.0},\n",
       "  {'time_epoch': 1624222800,\n",
       "   'time': '2021-06-20 17:00',\n",
       "   'temp_c': 29.7,\n",
       "   'temp_f': 85.5,\n",
       "   'is_day': 1,\n",
       "   'condition': {'text': 'Patchy rain possible',\n",
       "    'icon': '//cdn.weatherapi.com/weather/64x64/day/176.png',\n",
       "    'code': 1063},\n",
       "   'wind_mph': 12.1,\n",
       "   'wind_kph': 19.4,\n",
       "   'wind_degree': 157,\n",
       "   'wind_dir': 'SSE',\n",
       "   'pressure_mb': 1017.0,\n",
       "   'pressure_in': 30.5,\n",
       "   'precip_mm': 0.1,\n",
       "   'precip_in': 0.0,\n",
       "   'humidity': 70,\n",
       "   'cloud': 88,\n",
       "   'feelslike_c': 34.4,\n",
       "   'feelslike_f': 93.9,\n",
       "   'windchill_c': 29.7,\n",
       "   'windchill_f': 85.5,\n",
       "   'heatindex_c': 34.4,\n",
       "   'heatindex_f': 93.9,\n",
       "   'dewpoint_c': 23.7,\n",
       "   'dewpoint_f': 74.7,\n",
       "   'will_it_rain': 1,\n",
       "   'chance_of_rain': '86',\n",
       "   'will_it_snow': 0,\n",
       "   'chance_of_snow': '0',\n",
       "   'vis_km': 10.0,\n",
       "   'vis_miles': 6.0,\n",
       "   'gust_mph': 15.2,\n",
       "   'gust_kph': 24.5,\n",
       "   'uv': 6.0},\n",
       "  {'time_epoch': 1624226400,\n",
       "   'time': '2021-06-20 18:00',\n",
       "   'temp_c': 29.5,\n",
       "   'temp_f': 85.1,\n",
       "   'is_day': 1,\n",
       "   'condition': {'text': 'Partly cloudy',\n",
       "    'icon': '//cdn.weatherapi.com/weather/64x64/day/116.png',\n",
       "    'code': 1003},\n",
       "   'wind_mph': 11.4,\n",
       "   'wind_kph': 18.4,\n",
       "   'wind_degree': 161,\n",
       "   'wind_dir': 'SSE',\n",
       "   'pressure_mb': 1017.0,\n",
       "   'pressure_in': 30.5,\n",
       "   'precip_mm': 0.1,\n",
       "   'precip_in': 0.0,\n",
       "   'humidity': 71,\n",
       "   'cloud': 61,\n",
       "   'feelslike_c': 34.2,\n",
       "   'feelslike_f': 93.6,\n",
       "   'windchill_c': 29.5,\n",
       "   'windchill_f': 85.1,\n",
       "   'heatindex_c': 34.2,\n",
       "   'heatindex_f': 93.6,\n",
       "   'dewpoint_c': 23.8,\n",
       "   'dewpoint_f': 74.8,\n",
       "   'will_it_rain': 0,\n",
       "   'chance_of_rain': '57',\n",
       "   'will_it_snow': 0,\n",
       "   'chance_of_snow': '0',\n",
       "   'vis_km': 10.0,\n",
       "   'vis_miles': 6.0,\n",
       "   'gust_mph': 14.8,\n",
       "   'gust_kph': 23.8,\n",
       "   'uv': 7.0},\n",
       "  {'time_epoch': 1624230000,\n",
       "   'time': '2021-06-20 19:00',\n",
       "   'temp_c': 29.3,\n",
       "   'temp_f': 84.7,\n",
       "   'is_day': 1,\n",
       "   'condition': {'text': 'Patchy rain possible',\n",
       "    'icon': '//cdn.weatherapi.com/weather/64x64/day/176.png',\n",
       "    'code': 1063},\n",
       "   'wind_mph': 11.0,\n",
       "   'wind_kph': 17.6,\n",
       "   'wind_degree': 164,\n",
       "   'wind_dir': 'SSE',\n",
       "   'pressure_mb': 1018.0,\n",
       "   'pressure_in': 30.5,\n",
       "   'precip_mm': 0.0,\n",
       "   'precip_in': 0.0,\n",
       "   'humidity': 73,\n",
       "   'cloud': 34,\n",
       "   'feelslike_c': 33.9,\n",
       "   'feelslike_f': 93.0,\n",
       "   'windchill_c': 29.3,\n",
       "   'windchill_f': 84.7,\n",
       "   'heatindex_c': 33.9,\n",
       "   'heatindex_f': 93.0,\n",
       "   'dewpoint_c': 23.8,\n",
       "   'dewpoint_f': 74.8,\n",
       "   'will_it_rain': 0,\n",
       "   'chance_of_rain': '29',\n",
       "   'will_it_snow': 0,\n",
       "   'chance_of_snow': '0',\n",
       "   'vis_km': 10.0,\n",
       "   'vis_miles': 6.0,\n",
       "   'gust_mph': 14.3,\n",
       "   'gust_kph': 23.0,\n",
       "   'uv': 6.0},\n",
       "  {'time_epoch': 1624233600,\n",
       "   'time': '2021-06-20 20:00',\n",
       "   'temp_c': 29.1,\n",
       "   'temp_f': 84.4,\n",
       "   'is_day': 1,\n",
       "   'condition': {'text': 'Partly cloudy',\n",
       "    'icon': '//cdn.weatherapi.com/weather/64x64/day/116.png',\n",
       "    'code': 1003},\n",
       "   'wind_mph': 10.3,\n",
       "   'wind_kph': 16.6,\n",
       "   'wind_degree': 167,\n",
       "   'wind_dir': 'SSE',\n",
       "   'pressure_mb': 1018.0,\n",
       "   'pressure_in': 30.5,\n",
       "   'precip_mm': 0.0,\n",
       "   'precip_in': 0.0,\n",
       "   'humidity': 74,\n",
       "   'cloud': 7,\n",
       "   'feelslike_c': 33.7,\n",
       "   'feelslike_f': 92.7,\n",
       "   'windchill_c': 29.1,\n",
       "   'windchill_f': 84.4,\n",
       "   'heatindex_c': 33.7,\n",
       "   'heatindex_f': 92.7,\n",
       "   'dewpoint_c': 23.9,\n",
       "   'dewpoint_f': 75.0,\n",
       "   'will_it_rain': 0,\n",
       "   'chance_of_rain': '0',\n",
       "   'will_it_snow': 0,\n",
       "   'chance_of_snow': '0',\n",
       "   'vis_km': 10.0,\n",
       "   'vis_miles': 6.0,\n",
       "   'gust_mph': 13.9,\n",
       "   'gust_kph': 22.3,\n",
       "   'uv': 7.0},\n",
       "  {'time_epoch': 1624237200,\n",
       "   'time': '2021-06-20 21:00',\n",
       "   'temp_c': 28.9,\n",
       "   'temp_f': 84.0,\n",
       "   'is_day': 0,\n",
       "   'condition': {'text': 'Patchy rain possible',\n",
       "    'icon': '//cdn.weatherapi.com/weather/64x64/night/176.png',\n",
       "    'code': 1063},\n",
       "   'wind_mph': 10.1,\n",
       "   'wind_kph': 16.2,\n",
       "   'wind_degree': 166,\n",
       "   'wind_dir': 'SSE',\n",
       "   'pressure_mb': 1018.0,\n",
       "   'pressure_in': 30.5,\n",
       "   'precip_mm': 0.2,\n",
       "   'precip_in': 0.01,\n",
       "   'humidity': 75,\n",
       "   'cloud': 32,\n",
       "   'feelslike_c': 33.5,\n",
       "   'feelslike_f': 92.3,\n",
       "   'windchill_c': 28.9,\n",
       "   'windchill_f': 84.0,\n",
       "   'heatindex_c': 33.5,\n",
       "   'heatindex_f': 92.3,\n",
       "   'dewpoint_c': 24.0,\n",
       "   'dewpoint_f': 75.2,\n",
       "   'will_it_rain': 0,\n",
       "   'chance_of_rain': '25',\n",
       "   'will_it_snow': 0,\n",
       "   'chance_of_snow': '0',\n",
       "   'vis_km': 9.7,\n",
       "   'vis_miles': 6.0,\n",
       "   'gust_mph': 13.6,\n",
       "   'gust_kph': 22.0,\n",
       "   'uv': 1.0},\n",
       "  {'time_epoch': 1624240800,\n",
       "   'time': '2021-06-20 22:00',\n",
       "   'temp_c': 28.7,\n",
       "   'temp_f': 83.7,\n",
       "   'is_day': 0,\n",
       "   'condition': {'text': 'Partly cloudy',\n",
       "    'icon': '//cdn.weatherapi.com/weather/64x64/night/116.png',\n",
       "    'code': 1003},\n",
       "   'wind_mph': 9.8,\n",
       "   'wind_kph': 15.8,\n",
       "   'wind_degree': 165,\n",
       "   'wind_dir': 'SSE',\n",
       "   'pressure_mb': 1018.0,\n",
       "   'pressure_in': 30.6,\n",
       "   'precip_mm': 0.3,\n",
       "   'precip_in': 0.01,\n",
       "   'humidity': 77,\n",
       "   'cloud': 57,\n",
       "   'feelslike_c': 33.3,\n",
       "   'feelslike_f': 91.9,\n",
       "   'windchill_c': 28.7,\n",
       "   'windchill_f': 83.7,\n",
       "   'heatindex_c': 33.3,\n",
       "   'heatindex_f': 91.9,\n",
       "   'dewpoint_c': 24.2,\n",
       "   'dewpoint_f': 75.6,\n",
       "   'will_it_rain': 0,\n",
       "   'chance_of_rain': '50',\n",
       "   'will_it_snow': 0,\n",
       "   'chance_of_snow': '0',\n",
       "   'vis_km': 9.3,\n",
       "   'vis_miles': 5.0,\n",
       "   'gust_mph': 13.2,\n",
       "   'gust_kph': 21.2,\n",
       "   'uv': 1.0},\n",
       "  {'time_epoch': 1624244400,\n",
       "   'time': '2021-06-20 23:00',\n",
       "   'temp_c': 28.5,\n",
       "   'temp_f': 83.3,\n",
       "   'is_day': 0,\n",
       "   'condition': {'text': 'Patchy rain possible',\n",
       "    'icon': '//cdn.weatherapi.com/weather/64x64/night/176.png',\n",
       "    'code': 1063},\n",
       "   'wind_mph': 9.6,\n",
       "   'wind_kph': 15.5,\n",
       "   'wind_degree': 164,\n",
       "   'wind_dir': 'SSE',\n",
       "   'pressure_mb': 1019.0,\n",
       "   'pressure_in': 30.6,\n",
       "   'precip_mm': 0.5,\n",
       "   'precip_in': 0.02,\n",
       "   'humidity': 78,\n",
       "   'cloud': 82,\n",
       "   'feelslike_c': 33.1,\n",
       "   'feelslike_f': 91.6,\n",
       "   'windchill_c': 28.5,\n",
       "   'windchill_f': 83.3,\n",
       "   'heatindex_c': 33.1,\n",
       "   'heatindex_f': 91.6,\n",
       "   'dewpoint_c': 24.3,\n",
       "   'dewpoint_f': 75.7,\n",
       "   'will_it_rain': 1,\n",
       "   'chance_of_rain': '75',\n",
       "   'will_it_snow': 0,\n",
       "   'chance_of_snow': '0',\n",
       "   'vis_km': 9.0,\n",
       "   'vis_miles': 5.0,\n",
       "   'gust_mph': 13.0,\n",
       "   'gust_kph': 20.9,\n",
       "   'uv': 1.0}]}"
      ]
     },
     "execution_count": 67,
     "metadata": {},
     "output_type": "execute_result"
    }
   ],
   "source": [
    "data5['forecast']['forecastday'][0]"
   ]
  },
  {
   "cell_type": "code",
   "execution_count": 79,
   "metadata": {
    "scrolled": true
   },
   "outputs": [
    {
     "name": "stdout",
     "output_type": "stream",
     "text": [
      "These are high temperatures for each day.\n",
      "29.7 degrees Celsius on 2021-06-20. It's hot.\n",
      "29.5 degrees Celsius on 2021-06-21. It's hot.\n",
      "29.4 degrees Celsius on 2021-06-22. It's warm.\n"
     ]
    }
   ],
   "source": [
    "highs = data5['forecast']['forecastday']\n",
    "print(\"These are high temperatures for each day.\")\n",
    "for high in highs :\n",
    "    if high['day']['maxtemp_c'] >= 29.5:\n",
    "        print(f\"{high['day']['maxtemp_c']} degrees Celsius on {high['date']}. It's hot.\")\n",
    "    elif 29.5 > high['day']['maxtemp_c'] > 25.0:\n",
    "        print(f\"{high['day']['maxtemp_c']} degrees Celsius on {high['date']}. It's warm.\")\n",
    "    else:\n",
    "        print(f\"{high['day']['maxtemp_c']} degrees Celsius on {high['date']}. It's cold.\")"
   ]
  },
  {
   "cell_type": "markdown",
   "metadata": {},
   "source": [
    "# 6) What will be the hottest day in the next week? What is the high temperature on that day?"
   ]
  },
  {
   "cell_type": "code",
   "execution_count": 85,
   "metadata": {},
   "outputs": [
    {
     "name": "stdout",
     "output_type": "stream",
     "text": [
      "2021-06-20 is the hottest day with 28.8 degrees Celsius on average. The high temperature on the day is 29.7 degrees.\n"
     ]
    }
   ],
   "source": [
    "hottest_avg = 0\n",
    "hottest_day = ''\n",
    "hottest_max = ''\n",
    "\n",
    "for avg in highs :\n",
    "    if avg['day']['avgtemp_c'] > hottest_avg:\n",
    "        hottest_avg = avg['day']['avgtemp_c']\n",
    "        hottest_day = avg['date']\n",
    "        hottest_max = avg['day']['maxtemp_c']\n",
    "print(f\"{hottest_day} is the hottest day with {hottest_avg} degrees Celsius on average. The high temperature on the day is {hottest_max} degrees.\")"
   ]
  },
  {
   "cell_type": "code",
   "execution_count": null,
   "metadata": {
    "collapsed": true
   },
   "outputs": [],
   "source": []
  },
  {
   "cell_type": "markdown",
   "metadata": {},
   "source": [
    "## 7) What's the weather looking like for the next 24+ hours in Miami, Florida?\n",
    "\n",
    "I'd like to know the temperature for every hour, and if it's going to have cloud cover of more than 50% say \"{temperature} and cloudy\" instead of just the temperature. \n",
    "\n",
    "- *Tip: You'll only need one day of forecast*"
   ]
  },
  {
   "cell_type": "code",
   "execution_count": 23,
   "metadata": {},
   "outputs": [],
   "source": [
    "hours = requests.get(f\"http://api.weatherapi.com/v1/forecast.json?key={API_KEY2}&q=Miami&days=1&aqi=no&alerts=no\")\n",
    "data6 = hours.json()"
   ]
  },
  {
   "cell_type": "code",
   "execution_count": 102,
   "metadata": {},
   "outputs": [
    {
     "data": {
      "text/plain": [
       "24"
      ]
     },
     "execution_count": 102,
     "metadata": {},
     "output_type": "execute_result"
    }
   ],
   "source": [
    "len(data6['forecast']['forecastday'][0]['hour'])"
   ]
  },
  {
   "cell_type": "code",
   "execution_count": 103,
   "metadata": {},
   "outputs": [
    {
     "data": {
      "text/plain": [
       "{'time_epoch': 1624161600,\n",
       " 'time': '2021-06-20 00:00',\n",
       " 'temp_c': 28.4,\n",
       " 'temp_f': 83.1,\n",
       " 'is_day': 0,\n",
       " 'condition': {'text': 'Partly cloudy',\n",
       "  'icon': '//cdn.weatherapi.com/weather/64x64/night/116.png',\n",
       "  'code': 1003},\n",
       " 'wind_mph': 10.1,\n",
       " 'wind_kph': 16.2,\n",
       " 'wind_degree': 119,\n",
       " 'wind_dir': 'ESE',\n",
       " 'pressure_mb': 1018.0,\n",
       " 'pressure_in': 30.5,\n",
       " 'precip_mm': 0.0,\n",
       " 'precip_in': 0.0,\n",
       " 'humidity': 80,\n",
       " 'cloud': 14,\n",
       " 'feelslike_c': 33.3,\n",
       " 'feelslike_f': 91.9,\n",
       " 'windchill_c': 28.4,\n",
       " 'windchill_f': 83.1,\n",
       " 'heatindex_c': 33.3,\n",
       " 'heatindex_f': 91.9,\n",
       " 'dewpoint_c': 24.7,\n",
       " 'dewpoint_f': 76.5,\n",
       " 'will_it_rain': 0,\n",
       " 'chance_of_rain': '0',\n",
       " 'will_it_snow': 0,\n",
       " 'chance_of_snow': '0',\n",
       " 'vis_km': 10.0,\n",
       " 'vis_miles': 6.0,\n",
       " 'gust_mph': 13.4,\n",
       " 'gust_kph': 21.6,\n",
       " 'uv': 1.0}"
      ]
     },
     "execution_count": 103,
     "metadata": {},
     "output_type": "execute_result"
    }
   ],
   "source": [
    "data6['forecast']['forecastday'][0]['hour'][0]"
   ]
  },
  {
   "cell_type": "code",
   "execution_count": 107,
   "metadata": {},
   "outputs": [
    {
     "name": "stdout",
     "output_type": "stream",
     "text": [
      "Forecast for next 24 hours in Miami.\n",
      "Temperature at 2021-06-20 00:00 is 28.4 degrees Celsius.\n",
      "Temperature at 2021-06-20 01:00 is 28.5 degrees Celsius.\n",
      "Temperature at 2021-06-20 02:00 is 28.5 degrees Celsius.\n",
      "Temperature at 2021-06-20 03:00 is 28.3 degrees Celsius.\n",
      "Temperature at 2021-06-20 04:00 is 28.2 degrees Celsius and cloudy.\n",
      "Temperature at 2021-06-20 05:00 is 28.0 degrees Celsius and cloudy.\n",
      "Temperature at 2021-06-20 06:00 is 28.0 degrees Celsius and cloudy.\n",
      "Temperature at 2021-06-20 07:00 is 28.0 degrees Celsius and cloudy.\n",
      "Temperature at 2021-06-20 08:00 is 28.0 degrees Celsius and cloudy.\n",
      "Temperature at 2021-06-20 09:00 is 28.3 degrees Celsius and cloudy.\n",
      "Temperature at 2021-06-20 10:00 is 28.7 degrees Celsius and cloudy.\n",
      "Temperature at 2021-06-20 11:00 is 29.0 degrees Celsius and cloudy.\n",
      "Temperature at 2021-06-20 12:00 is 29.2 degrees Celsius and cloudy.\n",
      "Temperature at 2021-06-20 13:00 is 29.4 degrees Celsius and cloudy.\n",
      "Temperature at 2021-06-20 14:00 is 29.6 degrees Celsius and cloudy.\n",
      "Temperature at 2021-06-20 15:00 is 29.6 degrees Celsius and cloudy.\n",
      "Temperature at 2021-06-20 16:00 is 29.7 degrees Celsius and cloudy.\n",
      "Temperature at 2021-06-20 17:00 is 29.7 degrees Celsius and cloudy.\n",
      "Temperature at 2021-06-20 18:00 is 29.5 degrees Celsius and cloudy.\n",
      "Temperature at 2021-06-20 19:00 is 29.3 degrees Celsius.\n",
      "Temperature at 2021-06-20 20:00 is 29.1 degrees Celsius.\n",
      "Temperature at 2021-06-20 21:00 is 28.9 degrees Celsius.\n",
      "Temperature at 2021-06-20 22:00 is 28.7 degrees Celsius and cloudy.\n",
      "Temperature at 2021-06-20 23:00 is 28.5 degrees Celsius and cloudy.\n"
     ]
    }
   ],
   "source": [
    "print(\"Forecast for next 24 hours in Miami.\")\n",
    "hour_temps = data6['forecast']['forecastday'][0]['hour']\n",
    "for hour_temp in hour_temps:\n",
    "    if hour_temp['cloud'] > 50:\n",
    "        print(f\"Temperature at {hour_temp['time']} is {hour_temp['temp_c']} degrees Celsius and cloudy.\")\n",
    "    else:\n",
    "              print(f\"Temperature at {hour_temp['time']} is {hour_temp['temp_c']} degrees Celsius.\")"
   ]
  },
  {
   "cell_type": "code",
   "execution_count": null,
   "metadata": {},
   "outputs": [],
   "source": []
  },
  {
   "cell_type": "markdown",
   "metadata": {},
   "source": [
    "# 8) For the next 24-ish hours in Miami, what percent of the time is the temperature above 85 degrees?\n",
    "\n",
    "- *Tip: You might want to read up on [looping patterns](http://jonathansoma.com/lede/foundations-2017/classes/data%20structures/looping-patterns/)*"
   ]
  },
  {
   "cell_type": "code",
   "execution_count": 112,
   "metadata": {},
   "outputs": [
    {
     "name": "stdout",
     "output_type": "stream",
     "text": [
      "20.8 % of the time is abovee 85 degrees for the next 24-ish hours.\n"
     ]
    }
   ],
   "source": [
    "count = 0\n",
    "for hour_tempf in hour_temps:\n",
    "    if hour_tempf['temp_f'] > 85:\n",
    "        count = count + 1\n",
    "print(f\"{round(count/24*100,1)} % of the time is abovee 85 degrees for the next 24-ish hours.\")"
   ]
  },
  {
   "cell_type": "code",
   "execution_count": null,
   "metadata": {
    "collapsed": true
   },
   "outputs": [],
   "source": []
  },
  {
   "cell_type": "markdown",
   "metadata": {},
   "source": [
    "## 9) What was the temperature in Central Park on Christmas Day, 2020? How about 2012? 2007? How far back does the API allow you to go?\n",
    "\n",
    "- *Tip: You'll need to use latitude/longitude. You can ask Google where Central Park is, it knows*\n",
    "- *Tip: Remember when latitude/longitude might use negative numbers*"
   ]
  },
  {
   "cell_type": "code",
   "execution_count": 117,
   "metadata": {},
   "outputs": [
    {
     "name": "stdout",
     "output_type": "stream",
     "text": [
      "API can show the historical weather data on/after Jan 1st, 2010. Weather API's  document says.\n"
     ]
    }
   ],
   "source": [
    "print(\"API can show the historical weather data on/after Jan 1st, 2010. Weather API's  document says.\")"
   ]
  },
  {
   "cell_type": "code",
   "execution_count": 24,
   "metadata": {},
   "outputs": [
    {
     "name": "stdout",
     "output_type": "stream",
     "text": [
      "<Response [400]>\n"
     ]
    }
   ],
   "source": [
    "history = requests.get(f\"http://api.weatherapi.com/v1/history.json?key={API_KEY2}&q=40.7812,-73.9665&dt=2020-12-25\")\n",
    "data7 = history\n",
    "print(data7)"
   ]
  },
  {
   "cell_type": "code",
   "execution_count": 121,
   "metadata": {},
   "outputs": [
    {
     "name": "stdout",
     "output_type": "stream",
     "text": [
      "According to API explorer, 'API key is limited to history data. please check our prising pages and upgrage to higher plan.''\n"
     ]
    }
   ],
   "source": [
    "print(\"According to API explorer, 'API key is limited to history data. please check our prising pages and upgrage to higher plan.''\")"
   ]
  },
  {
   "cell_type": "code",
   "execution_count": null,
   "metadata": {},
   "outputs": [],
   "source": []
  }
 ],
 "metadata": {
  "kernelspec": {
   "display_name": "Python 3",
   "language": "python",
   "name": "python3"
  },
  "language_info": {
   "codemirror_mode": {
    "name": "ipython",
    "version": 3
   },
   "file_extension": ".py",
   "mimetype": "text/x-python",
   "name": "python",
   "nbconvert_exporter": "python",
   "pygments_lexer": "ipython3",
   "version": "3.8.10"
  }
 },
 "nbformat": 4,
 "nbformat_minor": 1
}
