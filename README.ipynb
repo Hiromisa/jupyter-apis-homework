{
 "cells": [
  {
   "cell_type": "markdown",
   "id": "a3cba523",
   "metadata": {},
   "source": [
    "# About the assignment\n",
    "\n",
    "This is the weekend assignment for Lede progrram 2021.\n",
    "We dealt with two APIs called \"Weather API\" and \"Last.fm API\", and created separate files."
   ]
  },
  {
   "cell_type": "markdown",
   "id": "8b3b9b55",
   "metadata": {},
   "source": [
    "## assignment details\n",
    "---\n",
    "\n",
    "**Weather API**  [link](https://www.weatherapi.com/)\n",
    "https://www.weatherapi.com/\n",
    "    \n",
    "On Weather API, I wrote a code to see the current weather and forecast where I want to visit, Miami.  Details are below.\n",
    "\n",
    "0) Import libraries\n",
    "\n",
    "1) Make a request to the Weather API of Miami (Place I want to go)\n",
    "\n",
    "2) Find the current wind speed, and how much warmer does it feel than it actually is\n",
    "\n",
    "3) Request the API endpoint for moon-related information. Find how much of the moon will be visible on next Thursday\n",
    "\n",
    "4) Culcurate the difference between the high and low temperatures today\n",
    "\n",
    "5) Print out the next week's forecast. the high temperature for each day, and whether it's hot, warm, or cold\n",
    "\n",
    "6) Print the hottest day in the next week, and the high temperature on that day\n",
    "\n",
    "7) What's the weather looking like for the next 24+ hours in Miami, Florida\n",
    "\n",
    "8) For the next 24-ish hours in Miami, what percent of the time is the temperature above 85 degrees\n",
    "\n",
    "9) Learn about the API which shows history \n",
    "\n",
    "\n",
    "**Last.fm API**  [link] (https://www.last.fm/api/intro)\n",
    "https://www.last.fm/api/intro \n",
    "\n",
    "On Last.fm API, I wrote a code to see the artists like Lil Jon. Details are below.\n",
    "\n",
    "1)  Search for and print a list of 50 musicians with lil in their name, along with the number of listeners they have\n",
    "\n",
    "2)  Print how many listeners my list have in totalImport the libraries/packages\n",
    "\n",
    "3)  Show each artist's name and the URL to the extra-large image\n",
    "\n",
    "4)  Find Lil Jon's mbid\n",
    "\n",
    "5)  Find the artist's name and bio using their mbid\n",
    "\n",
    "6)  Print every tag of that artist\n",
    "\n",
    "7)  Find the mbids (again)\n",
    "\n",
    "8)  Saving those mbids\n",
    "\n",
    "9)  Printing our API urls\n",
    "\n",
    "10)  Using the first three mbids, request the API urls and print the artist's name\n",
    "\n",
    "11)  Using the first three mbids, request the API urls and print the artist's name and their tags\n",
    "\n",
    "12)  Using the first ten mbids, print the artist's name and whether they're a rapper\n",
    "\n",
    "13)  Find the percentage of \"lil\" results are rappers"
   ]
  },
  {
   "cell_type": "markdown",
   "id": "e8aa738b",
   "metadata": {},
   "source": [
    "## Something I learned in the process\n",
    "---\n",
    "\n",
    "1) for loop (again and again). I don't fall in love with for loop yet, but don't hate anymore.  \n",
    "\n",
    "2) How to hide my API key. It's first time for me to hear \".env\" file.\n",
    "\n",
    "3) Sometimes, free API has limitation. Knowing the weather on Christmas day in 2010 is a wealthy option.\n",
    "\n",
    "4) Sometimes, API is dead like extra-large photos. We should take care of it.\n",
    "\n",
    "5) Miami is hot."
   ]
  },
  {
   "cell_type": "markdown",
   "id": "9a5070aa",
   "metadata": {},
   "source": [
    "## Something you found challenging\n",
    "---\n",
    "\n",
    "1) Finding rappers is relatively easy, but printing rappers and non-rappers on the same list was challenging for me. \n",
    "\n",
    "2) When I put {API-KEY} in line to hide my API key. It didn't work at first. I realized I should use f-strings with {API_KEY} like I did on other lines .\n",
    "\n",
    "3) Understanding Jupyter's characteristic comparing to VS code. Sometimes, I made Jupyter specific mistake.\n",
    "\n",
    "4) Writing a cool README."
   ]
  },
  {
   "cell_type": "code",
   "execution_count": null,
   "id": "0838096d",
   "metadata": {},
   "outputs": [],
   "source": []
  }
 ],
 "metadata": {
  "kernelspec": {
   "display_name": "Python 3",
   "language": "python",
   "name": "python3"
  },
  "language_info": {
   "codemirror_mode": {
    "name": "ipython",
    "version": 3
   },
   "file_extension": ".py",
   "mimetype": "text/x-python",
   "name": "python",
   "nbconvert_exporter": "python",
   "pygments_lexer": "ipython3",
   "version": "3.8.10"
  }
 },
 "nbformat": 4,
 "nbformat_minor": 5
}
