{
 "cells": [
  {
   "cell_type": "markdown",
   "id": "3cd93010",
   "metadata": {},
   "source": [
    "# About the assignment\n",
    "\n",
    "This is the weekend assignment for Lede progrram 2021.\n",
    "We dealt with two APIs called \"Weather API\" and \"Last.fm API\", and created separate files.\n",
    "\n",
    "*Weather API :  [link](https://www.weatherapi.com/)\n",
    "https://www.weatherapi.com/\n",
    "    \n",
    "On the Weather API, I wrote a code to see the current weather and forecast where I want to visit, Miami.  Details are below.\n",
    "0) Import libraries\n",
    "1) Make a request to the Weather API for where I want to visit\n",
    "2) Find the current wind speed, and how much warmer does it feel than it actually is\n",
    "3) Request the API endpoint for moon-related information. Find how much of the moon will be visible on next Thursday\n",
    "4) Culcurate the difference between the high and low temperatures today\n",
    "4.5) How to avoid the \"oh no I don't have the data any more because I made another request\" problem in the future\n",
    "5) Print out the next week's forecast. the high temperature for each day, and whether it's hot, warm, or cold\n",
    "6) Print the hottest day in the next week, and the high temperature on that day\n",
    "7) What's the weather looking like for the next 24+ hours in Miami, Florida\n",
    "8) For the next 24-ish hours in Miami, what percent of the time is the temperature above 85 degrees\n",
    "9) Learn about the API shows history \n",
    "\n",
    "   \n",
    "Last.fm API : [link] (https://www.last.fm/api/intro)\n",
    "https://www.last.fm/api/intro    "
   ]
  },
  {
   "cell_type": "code",
   "execution_count": null,
   "id": "e62972aa",
   "metadata": {},
   "outputs": [],
   "source": [
    "Something you learned in the process\n",
    "Something you found challenging "
   ]
  }
 ],
 "metadata": {
  "kernelspec": {
   "display_name": "Python 3",
   "language": "python",
   "name": "python3"
  },
  "language_info": {
   "codemirror_mode": {
    "name": "ipython",
    "version": 3
   },
   "file_extension": ".py",
   "mimetype": "text/x-python",
   "name": "python",
   "nbconvert_exporter": "python",
   "pygments_lexer": "ipython3",
   "version": "3.8.10"
  }
 },
 "nbformat": 4,
 "nbformat_minor": 5
}
