{
 "cells": [
  {
   "cell_type": "markdown",
   "metadata": {},
   "source": [
    "# Last FM API (Music)\n",
    "\n",
    "Spotify's API is dead to us, so we're using Last.fm's - it's still music, just not as nice of an API.\n",
    "\n",
    "1. Create an account at https://www.last.fm/api/\n",
    "2. Create an \"application\" to get a key: https://www.last.fm/api/account/create\n",
    "    - It isn't a real application, it's just your project\n",
    "    - Name/description doesn't matter, ignore callback key and callback url\n",
    "3. And save the API key that shows up on the next screen\n",
    "\n",
    "You can find documentation at https://www.last.fm/api/\n",
    "\n",
    "The domain for the API is `http://ws.audioscrobbler.com`, so all of your endpoints will be connected to that. To test your API key, check the following URL in your browser: `http://ws.audioscrobbler.com/2.0/?method=artist.search&artist=cher&api_key=XXXXXXXXXXXXXXXXXXXX&format=json` (change the `XXXXXX` to be your API key, of course!).\n",
    "\n",
    "> Last.fm used to be called **AudioScrobbler**, which is why its URLs don't have \"last.fm\" in them.\n",
    "> While we're asking about URLs, notice that the API endpoints have a lot of `?` and `&` in them - these are key/value pairs, kind of like dictionaries, but for URLs instead of Python."
   ]
  },
  {
   "cell_type": "markdown",
   "metadata": {},
   "source": [
    "# FIRST: SETUP"
   ]
  },
  {
   "cell_type": "markdown",
   "metadata": {},
   "source": [
    "## 1) Import the libraries/packages you might need\n",
    "\n",
    "We need a library to read in the data for us! We don't like `urllib2`, so it must be something cooler and better."
   ]
  },
  {
   "cell_type": "code",
   "execution_count": 1,
   "metadata": {},
   "outputs": [],
   "source": [
    "from dotenv import load_dotenv\n",
    "load_dotenv()\n",
    "import os\n",
    "API_KEY = os.getenv(\"apikey\")\n",
    "\n",
    "import requests\n",
    "r = requests.get(f\"http://ws.audioscrobbler.com/2.0/?method=artist.search&artist=cher&api_key={API_KEY}&format=json\")\n",
    "data = r.json()"
   ]
  },
  {
   "cell_type": "code",
   "execution_count": null,
   "metadata": {},
   "outputs": [],
   "source": []
  },
  {
   "cell_type": "code",
   "execution_count": null,
   "metadata": {},
   "outputs": [],
   "source": []
  },
  {
   "cell_type": "markdown",
   "metadata": {},
   "source": [
    "## 2) Save your API key\n",
    "\n",
    "Write your API key here so you don't forget it - it's the \"api key\" one, not the \"shared secret\" one"
   ]
  },
  {
   "cell_type": "code",
   "execution_count": 2,
   "metadata": {},
   "outputs": [
    {
     "data": {
      "text/plain": [
       "'{API_KEY}'"
      ]
     },
     "execution_count": 2,
     "metadata": {},
     "output_type": "execute_result"
    }
   ],
   "source": [
    "\"{API_KEY}\""
   ]
  },
  {
   "cell_type": "markdown",
   "metadata": {},
   "source": [
    "## 3) The death of an API\n",
    "\n",
    "I used to have some code here that allowed you to display images, but _the images don't work any more._ Let this be an important lesson: when you depend on external services, they can die at any time."
   ]
  },
  {
   "cell_type": "markdown",
   "metadata": {},
   "source": [
    "It's sad but a real."
   ]
  },
  {
   "cell_type": "markdown",
   "metadata": {},
   "source": [
    "# NOW: YOUR ASSIGNMENT"
   ]
  },
  {
   "cell_type": "markdown",
   "metadata": {},
   "source": [
    "## 1) Search for and print a list of 50 musicians with `lil` in their name, along with the number of listeners they have\n",
    "\n",
    "There are a lot of musicians with \"Lil\" in their name - it used to be all Lil Wayne and Lil Kim, but we live in a new world now!\n",
    "\n",
    "- *Tip: Remember, the domain for the API is `http://ws.audioscrobbler.com`*\n",
    "- *Tip: Make sure you ask the API for 50 musicians! This involves adding another parameter to the URL - notice they all have a `&` before them. [Read the documentation](http://www.last.fm/api/show/artist.search) to find the parameter's name.* \n",
    "- *Tip: When you are looking at any piece of data - is it a dictionary? Look at the keys! Is it a list? Look at the first element!*\n",
    "- *Tip: LOOK AT THE KEYS. and then the other keys and the other keys and the other keys. It's an ugly series of dictionaries!*"
   ]
  },
  {
   "cell_type": "code",
   "execution_count": 3,
   "metadata": {},
   "outputs": [],
   "source": [
    "s = requests.get(f'https://ws.audioscrobbler.com/2.0/?method=artist.search&artist=lil&api_key={API_KEY}&limit=50&format=json')\n",
    "data2 = s.json()"
   ]
  },
  {
   "cell_type": "code",
   "execution_count": 4,
   "metadata": {},
   "outputs": [
    {
     "data": {
      "text/plain": [
       "{'name': 'LIL UZI VERT',\n",
       " 'listeners': '704512',\n",
       " 'mbid': '',\n",
       " 'url': 'https://www.last.fm/music/LIL+UZI+VERT',\n",
       " 'streamable': '0',\n",
       " 'image': [{'#text': 'https://lastfm.freetls.fastly.net/i/u/34s/2a96cbd8b46e442fc41c2b86b821562f.png',\n",
       "   'size': 'small'},\n",
       "  {'#text': 'https://lastfm.freetls.fastly.net/i/u/64s/2a96cbd8b46e442fc41c2b86b821562f.png',\n",
       "   'size': 'medium'},\n",
       "  {'#text': 'https://lastfm.freetls.fastly.net/i/u/174s/2a96cbd8b46e442fc41c2b86b821562f.png',\n",
       "   'size': 'large'},\n",
       "  {'#text': 'https://lastfm.freetls.fastly.net/i/u/300x300/2a96cbd8b46e442fc41c2b86b821562f.png',\n",
       "   'size': 'extralarge'},\n",
       "  {'#text': 'https://lastfm.freetls.fastly.net/i/u/300x300/2a96cbd8b46e442fc41c2b86b821562f.png',\n",
       "   'size': 'mega'}]}"
      ]
     },
     "execution_count": 4,
     "metadata": {},
     "output_type": "execute_result"
    }
   ],
   "source": [
    "data2['results'][ 'artistmatches']['artist'][0]"
   ]
  },
  {
   "cell_type": "code",
   "execution_count": 5,
   "metadata": {
    "scrolled": true
   },
   "outputs": [
    {
     "name": "stdout",
     "output_type": "stream",
     "text": [
      "LIL UZI VERT has 704512 listeners.\n",
      "LIL PEEP has 546619 listeners.\n",
      "Lil' Wayne has 3374479 listeners.\n",
      "Lily Allen has 2373850 listeners.\n",
      "Lil Nas X has 849891 listeners.\n",
      "Lil Baby has 415942 listeners.\n",
      "Lil Yachty has 409939 listeners.\n",
      "lil skies has 272371 listeners.\n",
      "Lil Tecca has 329720 listeners.\n",
      "lil tjay has 251654 listeners.\n",
      "Lil Wayne has 384858 listeners.\n",
      "lil Mosey has 340039 listeners.\n",
      "Lil Durk has 227531 listeners.\n",
      "Lil Ugly Mane has 127968 listeners.\n",
      "Lil B has 264428 listeners.\n",
      "LIL PUMP has 328378 listeners.\n",
      "Lil Darkie has 96370 listeners.\n",
      "Lil Dicky has 321312 listeners.\n",
      "LIL TRACY has 100671 listeners.\n",
      "Lil' Kim has 531785 listeners.\n",
      "Lilly Wood & The Prick has 432471 listeners.\n",
      "Lil Keed has 123492 listeners.\n",
      "Lil Xan has 195445 listeners.\n",
      "Lil Jon has 640285 listeners.\n",
      "Lil Jon & The East Side Boyz has 541180 listeners.\n",
      "Lila Downs has 179375 listeners.\n",
      "Lil Boosie has 420938 listeners.\n",
      "Lilac has 145852 listeners.\n",
      "Lil Loaded has 55632 listeners.\n",
      "Lilypichu has 38018 listeners.\n",
      "The Tiger Lillies has 118571 listeners.\n",
      "Lil' Kleine has 68835 listeners.\n",
      "Fenne Lily has 177897 listeners.\n",
      "Lil Aaron has 80235 listeners.\n",
      "LIL GNAR has 81539 listeners.\n",
      "Lily James has 86331 listeners.\n",
      "Lil Gotit has 48012 listeners.\n",
      "Lil Wyte has 267595 listeners.\n",
      "Lil' Flip has 349420 listeners.\n",
      "LIL BO WEEP has 49032 listeners.\n",
      "Spangle call Lilli line has 51563 listeners.\n",
      "Mashrou' Leila has 42234 listeners.\n",
      "Birdman & Lil' Wayne has 587066 listeners.\n",
      "Lily & Madeleine has 141755 listeners.\n",
      "Lilys has 76268 listeners.\n",
      "The Lillingtons has 50863 listeners.\n",
      "Lillasyster has 58332 listeners.\n",
      "Lil Eazzyy has 62060 listeners.\n",
      "lil happy lil sad has 38153 listeners.\n",
      "Lil Revive has 16447 listeners.\n"
     ]
    }
   ],
   "source": [
    "lils = data2['results'][ 'artistmatches']['artist']\n",
    "for lil in lils:\n",
    "    print(f\"{lil['name']} has {lil[ 'listeners']} listeners.\")"
   ]
  },
  {
   "cell_type": "code",
   "execution_count": null,
   "metadata": {},
   "outputs": [],
   "source": []
  },
  {
   "cell_type": "markdown",
   "metadata": {},
   "source": [
    "Your results should begin something like this:\n",
    "    \n",
    "```\n",
    "Lil' Wayne has 3086628 listeners\n",
    "Lily Allen has 2074266 listeners\n",
    "Lil B has 194116 listeners\n",
    "Lilly Wood & The Prick has 359886 listeners\n",
    "Lil Ugly Mane has 31955 listeners\n",
    "LIL UZI VERT has 88517 listeners\n",
    "```\n",
    "\n",
    "Your numbers will be different, though!"
   ]
  },
  {
   "cell_type": "markdown",
   "metadata": {},
   "source": [
    "## 2) How many listeners does your list have in total?\n",
    "\n",
    "The answer should be roughly **17,000,000**. If it's lower, make sure you have 50 artists instead of 30 artists.\n",
    "\n",
    "- *Tip: What's the data type of the `listeners` count? It's going to cause a problem!*\n",
    "- *Tip: If you were crazy you could use sum and a list comprehension. But you really don't have to!*"
   ]
  },
  {
   "cell_type": "code",
   "execution_count": 6,
   "metadata": {},
   "outputs": [
    {
     "name": "stdout",
     "output_type": "stream",
     "text": [
      "My list has 17477213 listeners in total.\n"
     ]
    }
   ],
   "source": [
    "lil_int = 0\n",
    "for lil in lils:\n",
    "    lil_int = lil_int + int(lil[ 'listeners'])\n",
    "print(f\"My list has {lil_int} listeners in total.\")"
   ]
  },
  {
   "cell_type": "code",
   "execution_count": null,
   "metadata": {},
   "outputs": [],
   "source": []
  },
  {
   "cell_type": "markdown",
   "metadata": {},
   "source": [
    "## 3) Show each artist's name and the URL to the extra-large image\n",
    "\n",
    "The images don't work any more, but we'll print their URLs out anyway."
   ]
  },
  {
   "cell_type": "markdown",
   "metadata": {},
   "source": [
    "Each artist **has a list of images of different sizes**. We're interested in the second-to-last one, where `size` is `extralarge`. Print their name and use `display_image` to display their extra-large image.\n",
    "\n",
    "- *Tip: The URL should look like this: `https://lastfm-img2.akamaized.net/i/u/300x300/0fc7d7a1812dc79e9925d80382cde594.png`*\n",
    "- *Tip: You can always assume it's the second to the last, or assume it's `extralarge`, or whatever you want to do to find it.*\n",
    "- *Tip: Make sure the URL is correct before you try to display it.*\n",
    "\n",
    "Your output should look something like\n",
    "\n",
    "```\n",
    "Lil' Wayne\n",
    "https://lastfm.freetls.fastly.net/i/u/300x300/2a96cbd8b46e442fc41c2b86b821562f.png\n",
    "---\n",
    "LIL UZI VERT\n",
    "https://lastfm.freetls.fastly.net/i/u/300x300/2a96cbd8b46e442fc41c2b86b821562f.png\n",
    "---\n",
    "Lily Allen\n",
    "https://lastfm.freetls.fastly.net/i/u/300x300/2a96cbd8b46e442fc41c2b86b821562f.png\n",
    "---\n",
    "```\n",
    "\n",
    "(but with more people, obviously)"
   ]
  },
  {
   "cell_type": "code",
   "execution_count": 7,
   "metadata": {},
   "outputs": [
    {
     "data": {
      "text/plain": [
       "'https://lastfm.freetls.fastly.net/i/u/300x300/2a96cbd8b46e442fc41c2b86b821562f.png'"
      ]
     },
     "execution_count": 7,
     "metadata": {},
     "output_type": "execute_result"
    }
   ],
   "source": [
    "lils[0]['image'][-2]['#text']\n",
    "    "
   ]
  },
  {
   "cell_type": "code",
   "execution_count": 8,
   "metadata": {},
   "outputs": [
    {
     "name": "stdout",
     "output_type": "stream",
     "text": [
      "LIL UZI VERT\n",
      "https://lastfm.freetls.fastly.net/i/u/300x300/2a96cbd8b46e442fc41c2b86b821562f.png\n",
      "---\n",
      "LIL PEEP\n",
      "https://lastfm.freetls.fastly.net/i/u/300x300/2a96cbd8b46e442fc41c2b86b821562f.png\n",
      "---\n",
      "Lil' Wayne\n",
      "https://lastfm.freetls.fastly.net/i/u/300x300/2a96cbd8b46e442fc41c2b86b821562f.png\n",
      "---\n",
      "Lily Allen\n",
      "https://lastfm.freetls.fastly.net/i/u/300x300/2a96cbd8b46e442fc41c2b86b821562f.png\n",
      "---\n",
      "Lil Nas X\n",
      "https://lastfm.freetls.fastly.net/i/u/300x300/2a96cbd8b46e442fc41c2b86b821562f.png\n",
      "---\n",
      "Lil Baby\n",
      "https://lastfm.freetls.fastly.net/i/u/300x300/2a96cbd8b46e442fc41c2b86b821562f.png\n",
      "---\n",
      "Lil Yachty\n",
      "https://lastfm.freetls.fastly.net/i/u/300x300/2a96cbd8b46e442fc41c2b86b821562f.png\n",
      "---\n",
      "lil skies\n",
      "https://lastfm.freetls.fastly.net/i/u/300x300/2a96cbd8b46e442fc41c2b86b821562f.png\n",
      "---\n",
      "Lil Tecca\n",
      "https://lastfm.freetls.fastly.net/i/u/300x300/2a96cbd8b46e442fc41c2b86b821562f.png\n",
      "---\n",
      "lil tjay\n",
      "https://lastfm.freetls.fastly.net/i/u/300x300/2a96cbd8b46e442fc41c2b86b821562f.png\n",
      "---\n",
      "Lil Wayne\n",
      "https://lastfm.freetls.fastly.net/i/u/300x300/2a96cbd8b46e442fc41c2b86b821562f.png\n",
      "---\n",
      "lil Mosey\n",
      "https://lastfm.freetls.fastly.net/i/u/300x300/2a96cbd8b46e442fc41c2b86b821562f.png\n",
      "---\n",
      "Lil Durk\n",
      "https://lastfm.freetls.fastly.net/i/u/300x300/2a96cbd8b46e442fc41c2b86b821562f.png\n",
      "---\n",
      "Lil Ugly Mane\n",
      "https://lastfm.freetls.fastly.net/i/u/300x300/2a96cbd8b46e442fc41c2b86b821562f.png\n",
      "---\n",
      "Lil B\n",
      "https://lastfm.freetls.fastly.net/i/u/300x300/2a96cbd8b46e442fc41c2b86b821562f.png\n",
      "---\n",
      "LIL PUMP\n",
      "https://lastfm.freetls.fastly.net/i/u/300x300/2a96cbd8b46e442fc41c2b86b821562f.png\n",
      "---\n",
      "Lil Darkie\n",
      "https://lastfm.freetls.fastly.net/i/u/300x300/2a96cbd8b46e442fc41c2b86b821562f.png\n",
      "---\n",
      "Lil Dicky\n",
      "https://lastfm.freetls.fastly.net/i/u/300x300/2a96cbd8b46e442fc41c2b86b821562f.png\n",
      "---\n",
      "LIL TRACY\n",
      "https://lastfm.freetls.fastly.net/i/u/300x300/2a96cbd8b46e442fc41c2b86b821562f.png\n",
      "---\n",
      "Lil' Kim\n",
      "https://lastfm.freetls.fastly.net/i/u/300x300/2a96cbd8b46e442fc41c2b86b821562f.png\n",
      "---\n",
      "Lilly Wood & The Prick\n",
      "https://lastfm.freetls.fastly.net/i/u/300x300/2a96cbd8b46e442fc41c2b86b821562f.png\n",
      "---\n",
      "Lil Keed\n",
      "https://lastfm.freetls.fastly.net/i/u/300x300/2a96cbd8b46e442fc41c2b86b821562f.png\n",
      "---\n",
      "Lil Xan\n",
      "https://lastfm.freetls.fastly.net/i/u/300x300/2a96cbd8b46e442fc41c2b86b821562f.png\n",
      "---\n",
      "Lil Jon\n",
      "https://lastfm.freetls.fastly.net/i/u/300x300/2a96cbd8b46e442fc41c2b86b821562f.png\n",
      "---\n",
      "Lil Jon & The East Side Boyz\n",
      "https://lastfm.freetls.fastly.net/i/u/300x300/2a96cbd8b46e442fc41c2b86b821562f.png\n",
      "---\n",
      "Lila Downs\n",
      "https://lastfm.freetls.fastly.net/i/u/300x300/2a96cbd8b46e442fc41c2b86b821562f.png\n",
      "---\n",
      "Lil Boosie\n",
      "https://lastfm.freetls.fastly.net/i/u/300x300/2a96cbd8b46e442fc41c2b86b821562f.png\n",
      "---\n",
      "Lilac\n",
      "https://lastfm.freetls.fastly.net/i/u/300x300/2a96cbd8b46e442fc41c2b86b821562f.png\n",
      "---\n",
      "Lil Loaded\n",
      "https://lastfm.freetls.fastly.net/i/u/300x300/2a96cbd8b46e442fc41c2b86b821562f.png\n",
      "---\n",
      "Lilypichu\n",
      "https://lastfm.freetls.fastly.net/i/u/300x300/2a96cbd8b46e442fc41c2b86b821562f.png\n",
      "---\n",
      "The Tiger Lillies\n",
      "https://lastfm.freetls.fastly.net/i/u/300x300/2a96cbd8b46e442fc41c2b86b821562f.png\n",
      "---\n",
      "Lil' Kleine\n",
      "https://lastfm.freetls.fastly.net/i/u/300x300/2a96cbd8b46e442fc41c2b86b821562f.png\n",
      "---\n",
      "Fenne Lily\n",
      "https://lastfm.freetls.fastly.net/i/u/300x300/2a96cbd8b46e442fc41c2b86b821562f.png\n",
      "---\n",
      "Lil Aaron\n",
      "https://lastfm.freetls.fastly.net/i/u/300x300/2a96cbd8b46e442fc41c2b86b821562f.png\n",
      "---\n",
      "LIL GNAR\n",
      "https://lastfm.freetls.fastly.net/i/u/300x300/2a96cbd8b46e442fc41c2b86b821562f.png\n",
      "---\n",
      "Lily James\n",
      "https://lastfm.freetls.fastly.net/i/u/300x300/2a96cbd8b46e442fc41c2b86b821562f.png\n",
      "---\n",
      "Lil Gotit\n",
      "https://lastfm.freetls.fastly.net/i/u/300x300/2a96cbd8b46e442fc41c2b86b821562f.png\n",
      "---\n",
      "Lil Wyte\n",
      "https://lastfm.freetls.fastly.net/i/u/300x300/2a96cbd8b46e442fc41c2b86b821562f.png\n",
      "---\n",
      "Lil' Flip\n",
      "https://lastfm.freetls.fastly.net/i/u/300x300/2a96cbd8b46e442fc41c2b86b821562f.png\n",
      "---\n",
      "LIL BO WEEP\n",
      "https://lastfm.freetls.fastly.net/i/u/300x300/2a96cbd8b46e442fc41c2b86b821562f.png\n",
      "---\n",
      "Spangle call Lilli line\n",
      "https://lastfm.freetls.fastly.net/i/u/300x300/2a96cbd8b46e442fc41c2b86b821562f.png\n",
      "---\n",
      "Mashrou' Leila\n",
      "https://lastfm.freetls.fastly.net/i/u/300x300/2a96cbd8b46e442fc41c2b86b821562f.png\n",
      "---\n",
      "Birdman & Lil' Wayne\n",
      "https://lastfm.freetls.fastly.net/i/u/300x300/2a96cbd8b46e442fc41c2b86b821562f.png\n",
      "---\n",
      "Lily & Madeleine\n",
      "https://lastfm.freetls.fastly.net/i/u/300x300/2a96cbd8b46e442fc41c2b86b821562f.png\n",
      "---\n",
      "Lilys\n",
      "https://lastfm.freetls.fastly.net/i/u/300x300/2a96cbd8b46e442fc41c2b86b821562f.png\n",
      "---\n",
      "The Lillingtons\n",
      "https://lastfm.freetls.fastly.net/i/u/300x300/2a96cbd8b46e442fc41c2b86b821562f.png\n",
      "---\n",
      "Lillasyster\n",
      "https://lastfm.freetls.fastly.net/i/u/300x300/2a96cbd8b46e442fc41c2b86b821562f.png\n",
      "---\n",
      "Lil Eazzyy\n",
      "https://lastfm.freetls.fastly.net/i/u/300x300/2a96cbd8b46e442fc41c2b86b821562f.png\n",
      "---\n",
      "lil happy lil sad\n",
      "https://lastfm.freetls.fastly.net/i/u/300x300/2a96cbd8b46e442fc41c2b86b821562f.png\n",
      "---\n",
      "Lil Revive\n",
      "https://lastfm.freetls.fastly.net/i/u/300x300/2a96cbd8b46e442fc41c2b86b821562f.png\n",
      "---\n"
     ]
    }
   ],
   "source": [
    "for lil in lils:\n",
    "    print(lil['name'])\n",
    "    print(lil['image'][-2]['#text'])\n",
    "    print(\"---\")"
   ]
  },
  {
   "cell_type": "markdown",
   "metadata": {},
   "source": [
    "## 4) Find Lil Jon's `mbid` (or anyone else's!).\n",
    "\n",
    "Oftentimes in an API, you can do a few things: you can **search** for items, and you can **see more information** about items. To find more information about the item, you need to use their **unique id**. In this dataset, it's called an `mbid` (MusicBrainz, I think - another company associated with last.fm!).\n",
    "\n",
    "Go through the artists and print their **name and mbid**. Find Lil Jon's `mbid`. I *wanted* Lil Uzi Vert's, but for some reason it isn't there. Then I wanted us to look at Lily Allen's, but I just couldn't bring myself to do that. If you'd rather do someone else, go for it."
   ]
  },
  {
   "cell_type": "code",
   "execution_count": 9,
   "metadata": {},
   "outputs": [
    {
     "name": "stdout",
     "output_type": "stream",
     "text": [
      "Lil Jon's mbid : a95384b1-6aec-468c-ae0d-8c6daf87c4c2\n"
     ]
    }
   ],
   "source": [
    "lils = data2['results'][ 'artistmatches']['artist']\n",
    "for lil in lils:\n",
    "    if lil['name'] =='Lil Jon':\n",
    "        print(f\"Lil Jon's mbid : {lil['mbid']}\")"
   ]
  },
  {
   "cell_type": "code",
   "execution_count": null,
   "metadata": {},
   "outputs": [],
   "source": []
  },
  {
   "cell_type": "code",
   "execution_count": null,
   "metadata": {},
   "outputs": [],
   "source": []
  },
  {
   "cell_type": "markdown",
   "metadata": {
    "collapsed": true
   },
   "source": [
    "## 5) Find the artist's name and bio using their `mbid`.\n",
    "\n",
    "It can either be Lil Jon or whoever you selected above.\n",
    "\n",
    "If you look at the [last.fm documentation](http://www.last.fm/api/show/artist.getInfo), you can see how to use the artist's `mbid` to find more information about them. Print **every tag associated with your artist**.\n",
    "\n",
    "- *Tip: It's a new request to the API*\n",
    "- *Tip: Use the `mbid`, and make sure you delete the `&name=Cher` from the sample endpoint*\n",
    "- *Tip: If you use `print` for the bio it looks a little nicer than it would otherwise*"
   ]
  },
  {
   "cell_type": "code",
   "execution_count": 10,
   "metadata": {},
   "outputs": [],
   "source": [
    "j = requests.get(f\"https://ws.audioscrobbler.com/2.0/?method=artist.getinfo&mbid=a95384b1-6aec-468c-ae0d-8c6daf87c4c2&api_key={API_KEY}&format=json\")\n",
    "jon = j.json()"
   ]
  },
  {
   "cell_type": "code",
   "execution_count": 11,
   "metadata": {},
   "outputs": [
    {
     "data": {
      "text/plain": [
       "dict_keys(['links', 'content', 'published', 'summary'])"
      ]
     },
     "execution_count": 11,
     "metadata": {},
     "output_type": "execute_result"
    }
   ],
   "source": [
    "jon['artist']['bio'].keys()"
   ]
  },
  {
   "cell_type": "code",
   "execution_count": 12,
   "metadata": {},
   "outputs": [
    {
     "name": "stdout",
     "output_type": "stream",
     "text": [
      "Lil Jon & The East Side Boyz\n",
      "---\n",
      "Smith took the stage name Lil Jon and formed musical group Lil Jon & the East Side Boyz with rappers Big Sam (born Sammie Dernard Norris) and Lil' Bo (born Wendell Maurice Neal). The group signed to the Atlanta-based Mirror Image Records and were distributed by Ichiban Records. In 1997, Lil Jon & the East Side Boyz debuted with Get Crunk, Who U Wit: Da Album. It included singles \"Who U Wit?\" and \"Shawty Freak a Lil' Sumthin'\", the latter of which came out in 1998. Both singles charted on the Billboard Hot R&B/Hip-Hop Songs chart at No. 70 and No. 62 respectively. In 2000, Jon took part in starting up his own label BME Recordings and signed a distribution agreement with Norcross, Georgia-based Southern Music Distribution. There he released his breakthrough album titled We Still Crunk!. Among the tracks on that project was the hit single \"I Like Those Girls,\" which reached No. 55 on the R&B chart and No. 3 on the Hot Rap Tracks chart.\n",
      "\n",
      "After hearing feedback that Lil Jon was \"the new guy\" from street team people in the markets where he was attracting his biggest audiences – namely Atlanta, St. Louis, Memphis and Dallas – A&R at TVT, Bryan Leach, went to one of his Atlanta shows and was blown away by the immense energy of the experience. Leach told HitQuarters: \"It was like early Beastie Boys, when they had the energy of a rock group but they were rapping, and ... that energy is what crunk music is all about.\" Lil Jon & The East Side Boyz signed to TVT Records in 2001 and debuted there with Put Yo Hood Up, which combined previously released tracks with new ones. The group's first nationally played single was \"Bia' Bia'\", which featured rappers Ludacris, Too Short, Big Kapp, and Chyna Whyte. \"Bia' Bia'\" peaked at No. 97 on the Billboard Hot 100 and No. 47 on the Billboard R&B chart.\n",
      "\n",
      "In 2002, the group released Kings of Crunk. \"I Don't Give A...\" was its first single; it featured Mystikal and Krayzie Bone and peaked at No. 50 on the R&B chart. The group's next single, a collaboration with fellow Atlanta hip hop group Ying Yang Twins titled \"Get Low\", became popular in nightclubs nationwide and reached the top ten of the Hot 100.Crunk Juice followed in 2004, led by \"What U Gon' Do\" featuring Lil' Scrappy. \"What U Gon' Do\" peaked at No. 22 on the Hot 100, No. 13 on the R&B chart, and No. 5 on the rap chart; its follow-up, \"Lovers & Friends\" featuring Usher and Ludacris, peaked at No. 3 (Hot 100), No. 2 (R&B), and No. 1 (rap).\n",
      "(straight from wiki 31-7-15) <a href=\"https://www.last.fm/music/Lil+Jon+&+The+East+Side+Boyz\">Read more on Last.fm</a>. User-contributed text is available under the Creative Commons By-SA License; additional terms may apply.\n"
     ]
    }
   ],
   "source": [
    "print(jon['artist']['name'])\n",
    "print(\"---\")\n",
    "print(jon['artist']['bio']['content'])"
   ]
  },
  {
   "cell_type": "code",
   "execution_count": null,
   "metadata": {},
   "outputs": [],
   "source": []
  },
  {
   "cell_type": "markdown",
   "metadata": {
    "collapsed": true
   },
   "source": [
    "## 6) Print every tag of that artist"
   ]
  },
  {
   "cell_type": "code",
   "execution_count": 13,
   "metadata": {},
   "outputs": [
    {
     "data": {
      "text/plain": [
       "[{'name': 'crunk', 'url': 'https://www.last.fm/tag/crunk'},\n",
       " {'name': 'hip-hop', 'url': 'https://www.last.fm/tag/hip-hop'},\n",
       " {'name': 'rap', 'url': 'https://www.last.fm/tag/rap'},\n",
       " {'name': 'dirty south', 'url': 'https://www.last.fm/tag/dirty+south'},\n",
       " {'name': 'hip hop', 'url': 'https://www.last.fm/tag/hip+hop'}]"
      ]
     },
     "execution_count": 13,
     "metadata": {},
     "output_type": "execute_result"
    }
   ],
   "source": [
    "jon['artist']['tags']['tag']"
   ]
  },
  {
   "cell_type": "code",
   "execution_count": 14,
   "metadata": {},
   "outputs": [
    {
     "name": "stdout",
     "output_type": "stream",
     "text": [
      "crunk https://www.last.fm/tag/crunk\n",
      "hip-hop https://www.last.fm/tag/hip-hop\n",
      "rap https://www.last.fm/tag/rap\n",
      "dirty south https://www.last.fm/tag/dirty+south\n",
      "hip hop https://www.last.fm/tag/hip+hop\n"
     ]
    }
   ],
   "source": [
    "jontags = jon['artist']['tags']['tag']\n",
    "for tag in jontags:\n",
    "    print(tag['name'], tag['url'])"
   ]
  },
  {
   "cell_type": "markdown",
   "metadata": {},
   "source": [
    "# GETTING A LITTLE CRAZY\n",
    "\n",
    "So you know your original list of musicians? I want to get tag data for ALL OF THEM. How are we going to do that?\n",
    "\n",
    "## 7) Find the mbids (again)\n",
    "\n",
    "If we have a musician with an mbid of `AAA-AAA-AAA`, we get their info from a url like `http://ws.audioscrobbler.com/blahblah/?api_key=12345&mbid=AAA-AAA-AAA`.\n",
    "\n",
    "|artist|url|\n",
    "|---|---|\n",
    "|`AAA-AAA-AAA`|`http://ws.audioscrobbler.com/blahblah/?api_key=12345&mbid=AAA-AAA-AAA`|\n",
    "|`BBB-BBB-BBB`|`http://ws.audioscrobbler.com/blahblah/?api_key=12345&mbid=BBB-BBB-BBB`|\n",
    "|`CCC-CCC-CCC`|`http://ws.audioscrobbler.com/blahblah/?api_key=12345&mbid=CCC-CCC-CCC`|\n",
    "\n",
    "I guess we should start trying to get a list of all of the mbids.\n",
    "\n",
    "**Loop through your artists, and print out the `mbid` for each artist**\n",
    "\n",
    "- *Tip: You probably need to request your artist search result data again, because you probably saved over `data` with your other API request. Maybe call it `artist_data` this time?*\n",
    "- *Tip: If the artist does NOT have an `mbid`, don't print it.*"
   ]
  },
  {
   "cell_type": "code",
   "execution_count": 15,
   "metadata": {},
   "outputs": [
    {
     "name": "stdout",
     "output_type": "stream",
     "text": [
      "6e0c7c0e-cba5-4c2c-a652-38f71ef5785d\n",
      "ac9a487a-d9d2-4f27-bb23-0f4686488345\n",
      "c9cd225b-4883-428e-82c2-73e0b6282fb6\n",
      "5f1adfe1-4d07-4141-b181-79e5d379d539\n",
      "1550f952-c91b-40d7-9b4d-d26a259ee932\n",
      "3268f062-6e76-480a-a384-e1dd2a276afb\n",
      "bc1b5c95-e6d6-46b5-957a-5e8908b02c1e\n",
      "1b72331b-3a97-4981-a81c-eeee9c275d28\n",
      "a95384b1-6aec-468c-ae0d-8c6daf87c4c2\n",
      "243c6f61-d83b-4459-bebd-5899df0da111\n",
      "ad29ae1c-2eda-4071-9dc8-31910e7e546c\n",
      "8ba17cf6-bec2-4ae4-9820-b1cda47adc08\n",
      "1967c6ce-95a4-48f0-8ac7-abe637524aee\n",
      "3ad4f6ec-253f-4050-8849-ca26266edfb8\n",
      "9b5ce0c1-1bc0-4ea2-a8d3-f5ee7af9eda8\n",
      "981d39fc-bd00-4cc6-ac67-6410f8b89098\n",
      "bc21df5c-3d79-479b-b638-8ddb5ecea403\n",
      "a31becdf-7b33-4409-9eb1-3f74bd72997c\n",
      "b89f4c50-72f5-48ce-b08c-a643b191b24f\n",
      "50ad1cde-1536-4268-a55f-e47a7b8280ab\n",
      "9803d120-716d-45ba-9eb7-9a120813f908\n",
      "9acaf734-b380-4c48-954c-a2cf1d7990a9\n"
     ]
    }
   ],
   "source": [
    "for lil in lils:\n",
    "    if len(lil['mbid']) == 0:\n",
    "        continue    \n",
    "    print(lil['mbid'])"
   ]
  },
  {
   "cell_type": "code",
   "execution_count": null,
   "metadata": {},
   "outputs": [],
   "source": []
  },
  {
   "cell_type": "markdown",
   "metadata": {},
   "source": [
    "Your results should look something like\n",
    "\n",
    "```\n",
    "6e0c7c0e-cba5-4c2c-a652-38f71ef5785d\n",
    "1550f952-c91b-40d7-9b4d-d26a259ee932\n",
    "1b72331b-3a97-4981-a81c-eeee9c275d28\n",
    "5f1adfe1-4d07-4141-b181-79e5d379d539\n",
    "a95384b1-6aec-468c-ae0d-8c6daf87c4c2\n",
    "bc1b5c95-e6d6-46b5-957a-5e8908b02c1e\n",
    "243c6f61-d83b-4459-bebd-5899df0da111\n",
    "```"
   ]
  },
  {
   "cell_type": "markdown",
   "metadata": {},
   "source": [
    "## 8) Saving those mbids\n",
    "\n",
    "For those `mbid` values, instead of printing them out, save them to a new list of just mbid values. Call this list `mbids`.\n",
    "\n",
    "- *Tip: Use `.append` to add a single element onto a list*"
   ]
  },
  {
   "cell_type": "code",
   "execution_count": 16,
   "metadata": {},
   "outputs": [
    {
     "data": {
      "text/plain": [
       "['6e0c7c0e-cba5-4c2c-a652-38f71ef5785d',\n",
       " 'ac9a487a-d9d2-4f27-bb23-0f4686488345',\n",
       " 'c9cd225b-4883-428e-82c2-73e0b6282fb6',\n",
       " '5f1adfe1-4d07-4141-b181-79e5d379d539',\n",
       " '1550f952-c91b-40d7-9b4d-d26a259ee932',\n",
       " '3268f062-6e76-480a-a384-e1dd2a276afb',\n",
       " 'bc1b5c95-e6d6-46b5-957a-5e8908b02c1e',\n",
       " '1b72331b-3a97-4981-a81c-eeee9c275d28',\n",
       " 'a95384b1-6aec-468c-ae0d-8c6daf87c4c2',\n",
       " '243c6f61-d83b-4459-bebd-5899df0da111',\n",
       " 'ad29ae1c-2eda-4071-9dc8-31910e7e546c',\n",
       " '8ba17cf6-bec2-4ae4-9820-b1cda47adc08',\n",
       " '1967c6ce-95a4-48f0-8ac7-abe637524aee',\n",
       " '3ad4f6ec-253f-4050-8849-ca26266edfb8',\n",
       " '9b5ce0c1-1bc0-4ea2-a8d3-f5ee7af9eda8',\n",
       " '981d39fc-bd00-4cc6-ac67-6410f8b89098',\n",
       " 'bc21df5c-3d79-479b-b638-8ddb5ecea403',\n",
       " 'a31becdf-7b33-4409-9eb1-3f74bd72997c',\n",
       " 'b89f4c50-72f5-48ce-b08c-a643b191b24f',\n",
       " '50ad1cde-1536-4268-a55f-e47a7b8280ab',\n",
       " '9803d120-716d-45ba-9eb7-9a120813f908',\n",
       " '9acaf734-b380-4c48-954c-a2cf1d7990a9']"
      ]
     },
     "execution_count": 16,
     "metadata": {},
     "output_type": "execute_result"
    }
   ],
   "source": [
    "list = []\n",
    "for lil in lils:\n",
    "    if len(lil['mbid']) == 0:\n",
    "        continue    \n",
    "    list.append(lil['mbid'])\n",
    "list"
   ]
  },
  {
   "cell_type": "code",
   "execution_count": 28,
   "metadata": {},
   "outputs": [
    {
     "name": "stdout",
     "output_type": "stream",
     "text": [
      "['6e0c7c0e-cba5-4c2c-a652-38f71ef5785d', 'ac9a487a-d9d2-4f27-bb23-0f4686488345', 'c9cd225b-4883-428e-82c2-73e0b6282fb6', '5f1adfe1-4d07-4141-b181-79e5d379d539', '1550f952-c91b-40d7-9b4d-d26a259ee932', '3268f062-6e76-480a-a384-e1dd2a276afb', 'bc1b5c95-e6d6-46b5-957a-5e8908b02c1e', '1b72331b-3a97-4981-a81c-eeee9c275d28', 'a95384b1-6aec-468c-ae0d-8c6daf87c4c2', '243c6f61-d83b-4459-bebd-5899df0da111', 'ad29ae1c-2eda-4071-9dc8-31910e7e546c', '8ba17cf6-bec2-4ae4-9820-b1cda47adc08', '1967c6ce-95a4-48f0-8ac7-abe637524aee', '3ad4f6ec-253f-4050-8849-ca26266edfb8', '9b5ce0c1-1bc0-4ea2-a8d3-f5ee7af9eda8', '981d39fc-bd00-4cc6-ac67-6410f8b89098', 'bc21df5c-3d79-479b-b638-8ddb5ecea403', 'a31becdf-7b33-4409-9eb1-3f74bd72997c', 'b89f4c50-72f5-48ce-b08c-a643b191b24f', '50ad1cde-1536-4268-a55f-e47a7b8280ab', '9803d120-716d-45ba-9eb7-9a120813f908', '9acaf734-b380-4c48-954c-a2cf1d7990a9']\n"
     ]
    }
   ],
   "source": [
    "#make empty list\n",
    "list = []\n",
    "#for loop\n",
    "for lil in lils:\n",
    "    #if no mbid, pass it.\n",
    "    if lil['mbid'] != \"\":\n",
    "  #make a list and put into blank list.  \n",
    "        list.append(lil['mbid'])\n",
    "print(list)"
   ]
  },
  {
   "cell_type": "code",
   "execution_count": null,
   "metadata": {},
   "outputs": [],
   "source": []
  },
  {
   "cell_type": "markdown",
   "metadata": {},
   "source": [
    "Your results should look something like\n",
    "\n",
    "```['6e0c7c0e-cba5-4c2c-a652-38f71ef5785d',\n",
    " '1550f952-c91b-40d7-9b4d-d26a259ee932',\n",
    " '1b72331b-3a97-4981-a81c-eeee9c275d28',\n",
    " '5f1adfe1-4d07-4141-b181-79e5d379d539',\n",
    " 'a95384b1-6aec-468c-ae0d-8c6daf87c4c2',\n",
    " 'bc1b5c95-e6d6-46b5-957a-5e8908b02c1e',\n",
    " '243c6f61-d83b-4459-bebd-5899df0da111',\n",
    " '8ba17cf6-bec2-4ae4-9820-b1cda47adc08',\n",
    " 'ad29ae1c-2eda-4071-9dc8-31910e7e546c',\n",
    " '3268f062-6e76-480a-a384-e1dd2a276afb',\n",
    " '3ad4f6ec-253f-4050-8849-ca26266edfb8',\n",
    " '9b5ce0c1-1bc0-4ea2-a8d3-f5ee7af9eda8',\n",
    " '981d39fc-bd00-4cc6-ac67-6410f8b89098',\n",
    " 'b89f4c50-72f5-48ce-b08c-a643b191b24f',\n",
    " 'bc21df5c-3d79-479b-b638-8ddb5ecea403',\n",
    " 'c9cd225b-4883-428e-82c2-73e0b6282fb6',\n",
    " '9acaf734-b380-4c48-954c-a2cf1d7990a9',\n",
    " 'd4d5ae85-700c-4a55-8a39-7f923da07ef2',\n",
    " '77fafce8-a32f-4d42-bdce-266bbf913cee',\n",
    " '50ad1cde-1536-4268-a55f-e47a7b8280ab',\n",
    " '9803d120-716d-45ba-9eb7-9a120813f908',\n",
    " 'b27560ea-2783-4a91-be45-9e8711917562',\n",
    " '194e87c9-b3fe-4fbd-82a7-8c54b4dd4c76',\n",
    " 'fd90af91-ed07-4e85-8816-26c954fe5286',\n",
    " '5652bb3e-f225-49de-9637-5aa1539b4a7c']```"
   ]
  },
  {
   "cell_type": "markdown",
   "metadata": {},
   "source": [
    "## 9) Printing our API urls\n",
    "\n",
    "To get tag data for each artist, you need to use those `mbid` values to access their artist page on the API. Loop through the mbids, displying the URL you'll need to access.\n",
    "\n",
    "- *Tip: You don't want to use a comma when printing, because commas add spaces into your text and URLs can't have that*\n",
    "- *Tip: Make sure your URL has `artist.getinfo` in it - if not, you're using the wrong endpoint.*"
   ]
  },
  {
   "cell_type": "code",
   "execution_count": 17,
   "metadata": {},
   "outputs": [
    {
     "name": "stdout",
     "output_type": "stream",
     "text": [
      "['https://ws.audioscrobbler.com/2.0/?method=artist.getinfo&mbid=6e0c7c0e-cba5-4c2c-a652-38f71ef5785d&api_key=8f1c5d8b73ea89f6c2ad7ff29bb5cb1d&format=json', 'https://ws.audioscrobbler.com/2.0/?method=artist.getinfo&mbid=ac9a487a-d9d2-4f27-bb23-0f4686488345&api_key=8f1c5d8b73ea89f6c2ad7ff29bb5cb1d&format=json', 'https://ws.audioscrobbler.com/2.0/?method=artist.getinfo&mbid=c9cd225b-4883-428e-82c2-73e0b6282fb6&api_key=8f1c5d8b73ea89f6c2ad7ff29bb5cb1d&format=json', 'https://ws.audioscrobbler.com/2.0/?method=artist.getinfo&mbid=5f1adfe1-4d07-4141-b181-79e5d379d539&api_key=8f1c5d8b73ea89f6c2ad7ff29bb5cb1d&format=json', 'https://ws.audioscrobbler.com/2.0/?method=artist.getinfo&mbid=1550f952-c91b-40d7-9b4d-d26a259ee932&api_key=8f1c5d8b73ea89f6c2ad7ff29bb5cb1d&format=json', 'https://ws.audioscrobbler.com/2.0/?method=artist.getinfo&mbid=3268f062-6e76-480a-a384-e1dd2a276afb&api_key=8f1c5d8b73ea89f6c2ad7ff29bb5cb1d&format=json', 'https://ws.audioscrobbler.com/2.0/?method=artist.getinfo&mbid=bc1b5c95-e6d6-46b5-957a-5e8908b02c1e&api_key=8f1c5d8b73ea89f6c2ad7ff29bb5cb1d&format=json', 'https://ws.audioscrobbler.com/2.0/?method=artist.getinfo&mbid=1b72331b-3a97-4981-a81c-eeee9c275d28&api_key=8f1c5d8b73ea89f6c2ad7ff29bb5cb1d&format=json', 'https://ws.audioscrobbler.com/2.0/?method=artist.getinfo&mbid=a95384b1-6aec-468c-ae0d-8c6daf87c4c2&api_key=8f1c5d8b73ea89f6c2ad7ff29bb5cb1d&format=json', 'https://ws.audioscrobbler.com/2.0/?method=artist.getinfo&mbid=243c6f61-d83b-4459-bebd-5899df0da111&api_key=8f1c5d8b73ea89f6c2ad7ff29bb5cb1d&format=json', 'https://ws.audioscrobbler.com/2.0/?method=artist.getinfo&mbid=ad29ae1c-2eda-4071-9dc8-31910e7e546c&api_key=8f1c5d8b73ea89f6c2ad7ff29bb5cb1d&format=json', 'https://ws.audioscrobbler.com/2.0/?method=artist.getinfo&mbid=8ba17cf6-bec2-4ae4-9820-b1cda47adc08&api_key=8f1c5d8b73ea89f6c2ad7ff29bb5cb1d&format=json', 'https://ws.audioscrobbler.com/2.0/?method=artist.getinfo&mbid=1967c6ce-95a4-48f0-8ac7-abe637524aee&api_key=8f1c5d8b73ea89f6c2ad7ff29bb5cb1d&format=json', 'https://ws.audioscrobbler.com/2.0/?method=artist.getinfo&mbid=3ad4f6ec-253f-4050-8849-ca26266edfb8&api_key=8f1c5d8b73ea89f6c2ad7ff29bb5cb1d&format=json', 'https://ws.audioscrobbler.com/2.0/?method=artist.getinfo&mbid=9b5ce0c1-1bc0-4ea2-a8d3-f5ee7af9eda8&api_key=8f1c5d8b73ea89f6c2ad7ff29bb5cb1d&format=json', 'https://ws.audioscrobbler.com/2.0/?method=artist.getinfo&mbid=981d39fc-bd00-4cc6-ac67-6410f8b89098&api_key=8f1c5d8b73ea89f6c2ad7ff29bb5cb1d&format=json', 'https://ws.audioscrobbler.com/2.0/?method=artist.getinfo&mbid=bc21df5c-3d79-479b-b638-8ddb5ecea403&api_key=8f1c5d8b73ea89f6c2ad7ff29bb5cb1d&format=json', 'https://ws.audioscrobbler.com/2.0/?method=artist.getinfo&mbid=a31becdf-7b33-4409-9eb1-3f74bd72997c&api_key=8f1c5d8b73ea89f6c2ad7ff29bb5cb1d&format=json', 'https://ws.audioscrobbler.com/2.0/?method=artist.getinfo&mbid=b89f4c50-72f5-48ce-b08c-a643b191b24f&api_key=8f1c5d8b73ea89f6c2ad7ff29bb5cb1d&format=json', 'https://ws.audioscrobbler.com/2.0/?method=artist.getinfo&mbid=50ad1cde-1536-4268-a55f-e47a7b8280ab&api_key=8f1c5d8b73ea89f6c2ad7ff29bb5cb1d&format=json', 'https://ws.audioscrobbler.com/2.0/?method=artist.getinfo&mbid=9803d120-716d-45ba-9eb7-9a120813f908&api_key=8f1c5d8b73ea89f6c2ad7ff29bb5cb1d&format=json', 'https://ws.audioscrobbler.com/2.0/?method=artist.getinfo&mbid=9acaf734-b380-4c48-954c-a2cf1d7990a9&api_key=8f1c5d8b73ea89f6c2ad7ff29bb5cb1d&format=json']\n"
     ]
    }
   ],
   "source": [
    "list2 = []\n",
    "for mbid in list:\n",
    "     list2.append(f\"https://ws.audioscrobbler.com/2.0/?method=artist.getinfo&mbid={mbid}&api_key={API_KEY}&format=json\")\n",
    "print(list2)"
   ]
  },
  {
   "cell_type": "markdown",
   "metadata": {},
   "source": [
    "Your results should look something like\n",
    "\n",
    "```http://ws.audioscrobbler.com/2.0/?method=artist.getinfo&api_key=XXXXX&format=json&mbid=6e0c7c0e-cba5-4c2c-a652-38f71ef5785d\n",
    "http://ws.audioscrobbler.com/2.0/?method=artist.getinfo&api_key=XXXXX&format=json&mbid=1550f952-c91b-40d7-9b4d-d26a259ee932\n",
    "http://ws.audioscrobbler.com/2.0/?method=artist.getinfo&api_key=XXXXX&format=json&mbid=1b72331b-3a97-4981-a81c-eeee9c275d28\n",
    "http://ws.audioscrobbler.com/2.0/?method=artist.getinfo&api_key=XXXXX&format=json&mbid=5f1adfe1-4d07-4141-b181-79e5d379d539\n",
    "http://ws.audioscrobbler.com/2.0/?method=artist.getinfo&api_key=XXXXX&format=json&mbid=a95384b1-6aec-468c-ae0d-8c6daf87c4c2\n",
    "http://ws.audioscrobbler.com/2.0/?method=artist.getinfo&api_key=XXXXX&format=json&mbid=bc1b5c95-e6d6-46b5-957a-5e8908b02c1e```"
   ]
  },
  {
   "cell_type": "markdown",
   "metadata": {},
   "source": [
    "## OKAY HERE IS A LITTLE INFORMATION: Using our API urls\n",
    "\n",
    "This time instead of just *displaying* the URL, we're going to *request and process it*. **But first I'm going to teach you something.**\n",
    "\n",
    "When you're dealing with an API, you don't want to make a million requests, have bad code, and then need to do those million requests again. It's usually best to test your code with a few of the results first.\n",
    "\n",
    "So, if we have a list of numbers like this:"
   ]
  },
  {
   "cell_type": "code",
   "execution_count": 18,
   "metadata": {},
   "outputs": [
    {
     "data": {
      "text/plain": [
       "[4, 5, 6, 7]"
      ]
     },
     "execution_count": 18,
     "metadata": {},
     "output_type": "execute_result"
    }
   ],
   "source": [
    "numbers = [4, 5, 6, 7]\n",
    "numbers"
   ]
  },
  {
   "cell_type": "code",
   "execution_count": 19,
   "metadata": {},
   "outputs": [
    {
     "data": {
      "text/plain": [
       "[4, 5]"
      ]
     },
     "execution_count": 19,
     "metadata": {},
     "output_type": "execute_result"
    }
   ],
   "source": [
    "numbers [:2]"
   ]
  },
  {
   "cell_type": "markdown",
   "metadata": {},
   "source": [
    "You can actually say to Python, **give me the first two**, and it will only give you the first two."
   ]
  },
  {
   "cell_type": "markdown",
   "metadata": {},
   "source": [
    "The is **very convenient** with loopng with APIs, because instead of trying to use all FIFTY artists, you can just say \"hey, please try this out with 2 of them\" and you don't waste time."
   ]
  },
  {
   "cell_type": "markdown",
   "metadata": {},
   "source": [
    "## 10) Using the first three `mbids`, request the API urls and print the artist's name.\n",
    "\n",
    "You built the URLs in the last question, now it's time to use them! Use `requests` etc to grab the URL and get out the artist's name.\n",
    "\n",
    "- *Tip: The code is the same as last time you got an artist's name from their info page, it's just going to be inside of a loop*\n",
    "- *Tip: USE `PRINT` TO SEE WHAT YOU ARE LOOKING AT!!!!!*"
   ]
  },
  {
   "cell_type": "code",
   "execution_count": 20,
   "metadata": {},
   "outputs": [
    {
     "name": "stdout",
     "output_type": "stream",
     "text": [
      "Lily Allen feat. Popcaan\n",
      "Lil Wayne & Charlie Puth\n",
      "Lil Durk feat.Johnny May Cash\n"
     ]
    }
   ],
   "source": [
    "for lis2 in list2[:3]:\n",
    "    f = requests.get(lis2)\n",
    "    ft = f.json()\n",
    "    print(ft['artist']['name'])"
   ]
  },
  {
   "cell_type": "code",
   "execution_count": null,
   "metadata": {},
   "outputs": [],
   "source": []
  },
  {
   "cell_type": "markdown",
   "metadata": {},
   "source": [
    "## 11) Using the first three `mbids`, request the API urls and print the artist's name and their tags\n",
    "\n",
    "- *Tip: The code is the same as last time you got an artist's name from their info page, it's just going to be inside of a loop*\n",
    "- *Tip: It's a for loop in a for loop!*"
   ]
  },
  {
   "cell_type": "code",
   "execution_count": 21,
   "metadata": {},
   "outputs": [
    {
     "name": "stdout",
     "output_type": "stream",
     "text": [
      "Lily Allen feat. Popcaan\n"
     ]
    },
    {
     "ename": "TypeError",
     "evalue": "string indices must be integers",
     "output_type": "error",
     "traceback": [
      "\u001b[0;31m---------------------------------------------------------------------------\u001b[0m",
      "\u001b[0;31mTypeError\u001b[0m                                 Traceback (most recent call last)",
      "\u001b[0;32m<ipython-input-21-19aa9a75d88d>\u001b[0m in \u001b[0;36m<module>\u001b[0;34m\u001b[0m\n\u001b[1;32m      3\u001b[0m     \u001b[0mft\u001b[0m \u001b[0;34m=\u001b[0m \u001b[0mf\u001b[0m\u001b[0;34m.\u001b[0m\u001b[0mjson\u001b[0m\u001b[0;34m(\u001b[0m\u001b[0;34m)\u001b[0m\u001b[0;34m\u001b[0m\u001b[0;34m\u001b[0m\u001b[0m\n\u001b[1;32m      4\u001b[0m     \u001b[0mprint\u001b[0m\u001b[0;34m(\u001b[0m\u001b[0mft\u001b[0m\u001b[0;34m[\u001b[0m\u001b[0;34m'artist'\u001b[0m\u001b[0;34m]\u001b[0m\u001b[0;34m[\u001b[0m\u001b[0;34m'name'\u001b[0m\u001b[0;34m]\u001b[0m\u001b[0;34m)\u001b[0m\u001b[0;34m\u001b[0m\u001b[0;34m\u001b[0m\u001b[0m\n\u001b[0;32m----> 5\u001b[0;31m     \u001b[0;32mfor\u001b[0m \u001b[0mfttag\u001b[0m \u001b[0;32min\u001b[0m \u001b[0mft\u001b[0m\u001b[0;34m[\u001b[0m\u001b[0;34m'artist'\u001b[0m\u001b[0;34m]\u001b[0m\u001b[0;34m[\u001b[0m\u001b[0;34m'tags'\u001b[0m\u001b[0;34m]\u001b[0m\u001b[0;34m[\u001b[0m\u001b[0;34m'tag'\u001b[0m\u001b[0;34m]\u001b[0m\u001b[0;34m:\u001b[0m\u001b[0;34m\u001b[0m\u001b[0;34m\u001b[0m\u001b[0m\n\u001b[0m\u001b[1;32m      6\u001b[0m         \u001b[0mprint\u001b[0m\u001b[0;34m(\u001b[0m\u001b[0mfttag\u001b[0m\u001b[0;34m[\u001b[0m\u001b[0;34m'name'\u001b[0m\u001b[0;34m]\u001b[0m\u001b[0;34m)\u001b[0m\u001b[0;34m\u001b[0m\u001b[0;34m\u001b[0m\u001b[0m\n\u001b[1;32m      7\u001b[0m     \u001b[0mprint\u001b[0m\u001b[0;34m(\u001b[0m\u001b[0;34m\"-----\"\u001b[0m\u001b[0;34m)\u001b[0m\u001b[0;34m\u001b[0m\u001b[0;34m\u001b[0m\u001b[0m\n",
      "\u001b[0;31mTypeError\u001b[0m: string indices must be integers"
     ]
    }
   ],
   "source": [
    "for lis2 in list2[:3]:\n",
    "    f = requests.get(lis2)\n",
    "    ft = f.json()\n",
    "    print(ft['artist']['name'])\n",
    "    for fttag in ft['artist']['tags']['tag']:\n",
    "        print(fttag['name'])\n",
    "    print(\"-----\")"
   ]
  },
  {
   "cell_type": "code",
   "execution_count": null,
   "metadata": {},
   "outputs": [],
   "source": []
  },
  {
   "cell_type": "markdown",
   "metadata": {},
   "source": [
    "## 12) Using the first ten mbids, print the artist's name and whether they're a rapper\n",
    "\n",
    "Only print their name ONCE and only print whether they are hip hop or not ONCE.\n",
    "\n",
    "- *Tip: Rap tags include hip hop, swag, crunk, rap, dirty south, and probably a bunch of other stuff! You can include as many categories as you'd like.*\n",
    "- *Tip: You can use `2 in [1, 2, 3]` to find out if `2` is in the list of `[1, 2, 3]`.*\n",
    "- *Tip: Every time you look at a new artist, you can say they are NOT a rapper. And once you find out one of their tags is hip hop or rap, then you can note that they're a rapper. Then once you're done looking at their tags, then you can say HEY this is a rapper, or HEY this is not a rapper.*"
   ]
  },
  {
   "cell_type": "code",
   "execution_count": null,
   "metadata": {},
   "outputs": [],
   "source": [
    "rap_tags =[\"hip hop\",\"swag\",\"crunk\",\"rap\",\"dirty south\",\"memphis rap\",\"gangsta rap\",\"Hip-Hop\", \"trill shit\"]\n",
    "for lis2 in list2[:10]:\n",
    "    ften = requests.get(lis2)\n",
    "    ftens = ften.json()\n",
    "    artistnames = ftens['artist']['name']\n",
    "    raps = ftens['artist']['tags']['tag']\n",
    "    is_rap = False\n",
    "    for rap in raps:\n",
    "#         print(f\"we found {rap['name']} in {artistnames} \")\n",
    "        if rap['name'] in rap_tags:\n",
    "            is_rap = True\n",
    "    if is_rap:\n",
    "        print(f\"Artist: {artistnames} is a rapper.\")\n",
    "    else:\n",
    "        print(f\"Artist: {artistnames} isn't a rapper.\")"
   ]
  },
  {
   "cell_type": "markdown",
   "metadata": {},
   "source": [
    "Your results might look something like\n",
    "\n",
    "```ARTIST: Lily Allen\n",
    "NO hip hop\n",
    "ARTIST: Lil B\n",
    "YES hip hop\n",
    "ARTIST: Lilly Wood & The Prick\n",
    "NO hip hop\n",
    "ARTIST: Lil Ugly Mane\n",
    "YES hip hop\n",
    "ARTIST: Lil Jon\n",
    "YES hip hop\n",
    "ARTIST: Lil' Kim\n",
    "YES hip hop\n",
    "ARTIST: Lil Jon & The East Side Boyz\n",
    "YES hip hop\n",
    "```"
   ]
  },
  {
   "cell_type": "markdown",
   "metadata": {
    "collapsed": true
   },
   "source": [
    "## 13) What percent of \"lil\" results are rappers?"
   ]
  },
  {
   "cell_type": "code",
   "execution_count": null,
   "metadata": {},
   "outputs": [],
   "source": [
    "rap_tags =[\"hip hop\",\"swag\",\"crunk\",\"rap\",\"dirty south\",\"memphis rap\",\"gangsta rap\",\"Hip-Hop\", \"trill shit\"]\n",
    "count = 0\n",
    "for lis2 in list2:\n",
    "    ften = requests.get(lis2)\n",
    "    ftens = ften.json()\n",
    "    artistnames = ftens['artist']['name']\n",
    "    raps = ftens['artist']['tags']['tag']\n",
    "    is_rap = False\n",
    "    for rap in raps:\n",
    "        if rap['name'] in rap_tags:\n",
    "            is_rap = True\n",
    "    if is_rap:\n",
    "        count = count + 1\n",
    "print(f\"{round(count/50*100)} %\")"
   ]
  },
  {
   "cell_type": "code",
   "execution_count": null,
   "metadata": {},
   "outputs": [],
   "source": []
  },
  {
   "cell_type": "markdown",
   "metadata": {},
   "source": [
    "## 14) Seriously you are all-powerful now."
   ]
  },
  {
   "cell_type": "markdown",
   "metadata": {},
   "source": [
    "Yay!"
   ]
  }
 ],
 "metadata": {
  "kernelspec": {
   "display_name": "Python 3",
   "language": "python",
   "name": "python3"
  },
  "language_info": {
   "codemirror_mode": {
    "name": "ipython",
    "version": 3
   },
   "file_extension": ".py",
   "mimetype": "text/x-python",
   "name": "python",
   "nbconvert_exporter": "python",
   "pygments_lexer": "ipython3",
   "version": "3.8.10"
  }
 },
 "nbformat": 4,
 "nbformat_minor": 1
}
